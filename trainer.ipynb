{
 "cells": [
  {
   "cell_type": "code",
   "execution_count": 3,
   "metadata": {},
   "outputs": [],
   "source": [
    "\n",
    "from balm.data import load_dataset, DataCollator\n",
    "from balm.models.balm import BalmForMaskedLM\n",
    "from balm.models.balm_moe import BalmMoEForMaskedLM\n",
    "from balm.models.balm_moe_rope import BalmMoERoPEForMaskedLM\n",
    "from balm.tokenizer import Tokenizer\n",
    "from balm.training.trainer import Trainer\n",
    "\n",
    "\n",
    "import torch\n",
    "import torch.nn as nn\n",
    "import torch.nn.functional as F\n",
    "from torch.utils.data import DataLoader"
   ]
  },
  {
   "cell_type": "code",
   "execution_count": 4,
   "metadata": {},
   "outputs": [],
   "source": [
    "tokenizer = Tokenizer(vocab=\"./vocab.json\")"
   ]
  },
  {
   "cell_type": "code",
   "execution_count": 5,
   "metadata": {},
   "outputs": [],
   "source": [
    "def remove_sep(txt):\n",
    "    return txt.replace(\"</s>\", \"<cls><cls>\")\n",
    "\n",
    "\n",
    "data_files = {\n",
    "    \"train\": \"./balm/test_data/test.txt\",\n",
    "    \"test\": \"./balm/test_data/test_1k.txt\",\n",
    "    \"eval\": \"./balm/test_data/test_1k.txt\",\n",
    "}\n",
    "\n",
    "dataset = load_dataset(\"text\", data_files=data_files, preprocess_fn=remove_sep)"
   ]
  },
  {
   "cell_type": "code",
   "execution_count": 6,
   "metadata": {},
   "outputs": [
    {
     "data": {
      "application/vnd.jupyter.widget-view+json": {
       "model_id": "556bff3694bc42bb84d4e7c2f41206b4",
       "version_major": 2,
       "version_minor": 0
      },
      "text/plain": [
       "  0%|          | 0/66792 [00:00<?, ?it/s]"
      ]
     },
     "metadata": {},
     "output_type": "display_data"
    },
    {
     "data": {
      "application/vnd.jupyter.widget-view+json": {
       "model_id": "e8bc4924be1a4f5fba2606e53fb3e15a",
       "version_major": 2,
       "version_minor": 0
      },
      "text/plain": [
       "  0%|          | 0/1000 [00:00<?, ?it/s]"
      ]
     },
     "metadata": {},
     "output_type": "display_data"
    },
    {
     "data": {
      "application/vnd.jupyter.widget-view+json": {
       "model_id": "e6dfcd699410485b8cb49338364c5ee9",
       "version_major": 2,
       "version_minor": 0
      },
      "text/plain": [
       "  0%|          | 0/1000 [00:00<?, ?it/s]"
      ]
     },
     "metadata": {},
     "output_type": "display_data"
    }
   ],
   "source": [
    "tokenized_dataset = dataset.map(\n",
    "    lambda x: tokenizer(\n",
    "        x[\"text\"],\n",
    "        padding=True,\n",
    "        truncation=True,\n",
    "        max_length=320,\n",
    "    ),\n",
    "    remove_columns=\"text\"\n",
    ")"
   ]
  },
  {
   "cell_type": "code",
   "execution_count": 7,
   "metadata": {},
   "outputs": [],
   "source": [
    "collator = DataCollator(tokenizer=tokenizer)"
   ]
  },
  {
   "cell_type": "code",
   "execution_count": 8,
   "metadata": {},
   "outputs": [],
   "source": [
    "# model = BalmMoERoPEForMaskedLM(\n",
    "model = BalmMoEForMaskedLM(\n",
    "    embed_dim=256,\n",
    "    ffn_dim=1024,\n",
    "    num_experts=4,\n",
    "    num_layers=8,\n",
    "    num_heads=8,\n",
    "    expert_capacity=128,\n",
    "    router_z_loss_coef=0.01,\n",
    "    router_aux_loss_coef=0.01,\n",
    "    vocab_size=tokenizer.vocab_size,\n",
    ")\n"
   ]
  },
  {
   "cell_type": "code",
   "execution_count": 9,
   "metadata": {},
   "outputs": [
    {
     "data": {
      "text/plain": [
       "18982689"
      ]
     },
     "execution_count": 9,
     "metadata": {},
     "output_type": "execute_result"
    }
   ],
   "source": [
    "model.num_parameters"
   ]
  },
  {
   "cell_type": "markdown",
   "metadata": {},
   "source": [
    "## Trainer todos:\n",
    "- [x] train/eval dataloader\n",
    "- [x] move everything to the correct device (cuda or cpu)\n",
    "- [x] learning rate (including scheduler)\n",
    "- [ ] gradient accumulation steps\n",
    "- [ ] logging\n",
    "- [ ] checkpointing\n",
    "- [ ] distributed training\n",
    "- [ ] gradient clipping\n",
    "\n"
   ]
  },
  {
   "cell_type": "code",
   "execution_count": null,
   "metadata": {},
   "outputs": [],
   "source": []
  },
  {
   "cell_type": "code",
   "execution_count": 10,
   "metadata": {},
   "outputs": [],
   "source": [
    "from sklearn.metrics import (\n",
    "    accuracy_score,\n",
    "    roc_auc_score,\n",
    "    matthews_corrcoef,\n",
    "    precision_recall_fscore_support,\n",
    ")\n",
    "\n",
    "\n",
    "def compute_metrics(eval_predictions):\n",
    "    # # Convert predictions and labels to CPU if necessary and to NumPy arrays for sklearn\n",
    "    # preds = eval_predictions.predictions.cpu().numpy()\n",
    "    # lbls = eval_predictions.labels.cpu().numpy()\n",
    "\n",
    "    # # Calculate accuracy\n",
    "    # accuracy = accuracy_score(lbls, preds)\n",
    "\n",
    "    # # Calculate AUROC\n",
    "    # # Note: For multi-class, you need to binarize the labels and use `average='macro'` or `average='micro'`\n",
    "    # try:\n",
    "    #     auroc_score = roc_auc_score(\n",
    "    #         lbls, preds, multi_class=\"ovo\" if len(lbls.shape) > 1 else \"raise\"\n",
    "    #     )\n",
    "    # except ValueError:\n",
    "    #     # AUROC is not defined when there is only one class in the labels, or labels are not binary\n",
    "    #     auroc_score = float(\"nan\")\n",
    "\n",
    "    # # Calculate Matthews correlation coefficient (MCC)\n",
    "    # try:\n",
    "    #     mcc_score = matthews_corrcoef(lbls, preds)\n",
    "    # except ValueError:\n",
    "    #     # MCC is not defined when there is only one class in the labels\n",
    "    #     mcc_score = float(\"nan\")\n",
    "\n",
    "    # # Calculate precision, recall, and F1-score\n",
    "    # precision, recall, f1, _ = precision_recall_fscore_support(\n",
    "    #     lbls, preds, average=\"binary\"\n",
    "    # )\n",
    "\n",
    "    # Calculate perplexity if logits are provided and labels are not one-hot encoded\n",
    "    if hasattr(eval_predictions, \"logits\"):\n",
    "        softmaxes = F.softmax(eval_predictions.logits, dim=-1)\n",
    "        cross_entropy = F.cross_entropy(softmaxes, eval_predictions.labels)\n",
    "        perplexity = torch.exp(cross_entropy)\n",
    "\n",
    "    return {\n",
    "        \"perplexity\": perplexity.item(),\n",
    "        # \"accuracy\": accuracy,\n",
    "        # \"auroc\": auroc_score,\n",
    "        # \"mcc\": mcc_score,\n",
    "        # \"precision\": precision,\n",
    "        # \"recall\": recall,\n",
    "        # \"f1\": f1,\n",
    "    }"
   ]
  },
  {
   "cell_type": "code",
   "execution_count": null,
   "metadata": {},
   "outputs": [],
   "source": []
  },
  {
   "cell_type": "code",
   "execution_count": 11,
   "metadata": {},
   "outputs": [],
   "source": [
    "trainer = Trainer(\n",
    "    model=model, \n",
    "    data_collator=collator, \n",
    "    train_dataset=tokenized_dataset[\"train\"], \n",
    "    eval_dataset=tokenized_dataset[\"eval\"],\n",
    "    epochs=1,\n",
    "    logging_steps=10,\n",
    "    eval_steps=50,\n",
    "    warmup_steps = 50,\n",
    "    per_device_train_batch_size=32,\n",
    "    # per_device_eval_batch_size=32,\n",
    "    use_cpu=True,\n",
    "    # compute_metrics=compute_metrics,\n",
    ")\n",
    "\n"
   ]
  },
  {
   "cell_type": "code",
   "execution_count": 14,
   "metadata": {},
   "outputs": [
    {
     "data": {
      "text/plain": [
       "device(type='cpu')"
      ]
     },
     "execution_count": 14,
     "metadata": {},
     "output_type": "execute_result"
    }
   ],
   "source": [
    "trainer.device"
   ]
  },
  {
   "cell_type": "code",
   "execution_count": 15,
   "metadata": {},
   "outputs": [
    {
     "data": {
      "application/vnd.jupyter.widget-view+json": {
       "model_id": "74074c3f8c7c42c8b8d178c48db41208",
       "version_major": 2,
       "version_minor": 0
      },
      "text/plain": [
       "  0%|          | 0/2087 [00:00<?, ?it/s]"
      ]
     },
     "metadata": {},
     "output_type": "display_data"
    },
    {
     "name": "stdout",
     "output_type": "stream",
     "text": [
      "step 10   | loss: 3.0613 | lm_loss: 3.0290 | router_z_loss: 0.0220 | router_aux_loss: 0.0102 | lr: 0.000080\n",
      "step 20   | loss: 2.7867 | lm_loss: 2.7573 | router_z_loss: 0.0194 | router_aux_loss: 0.0101 | lr: 0.000160\n",
      "step 30   | loss: 2.6294 | lm_loss: 2.6043 | router_z_loss: 0.0150 | router_aux_loss: 0.0101 | lr: 0.000240\n",
      "step 40   | loss: 2.5059 | lm_loss: 2.4840 | router_z_loss: 0.0117 | router_aux_loss: 0.0101 | lr: 0.000320\n",
      "step 50   | loss: 2.3115 | lm_loss: 2.2930 | router_z_loss: 0.0084 | router_aux_loss: 0.0101 | lr: 0.000400\n"
     ]
    },
    {
     "data": {
      "application/vnd.jupyter.widget-view+json": {
       "model_id": "169329e54ca24e92b01eafc3bc06b448",
       "version_major": 2,
       "version_minor": 0
      },
      "text/plain": [
       "0it [00:00, ?it/s]"
      ]
     },
     "metadata": {},
     "output_type": "display_data"
    },
    {
     "name": "stdout",
     "output_type": "stream",
     "text": [
      "<<< EVAL >>> loss: 2.2903\n",
      "step 60   | loss: 2.2155 | lm_loss: 2.1983 | router_z_loss: 0.0070 | router_aux_loss: 0.0101 | lr: 0.000398\n",
      "step 70   | loss: 2.0435 | lm_loss: 2.0280 | router_z_loss: 0.0055 | router_aux_loss: 0.0100 | lr: 0.000396\n",
      "step 80   | loss: 2.1350 | lm_loss: 2.1198 | router_z_loss: 0.0053 | router_aux_loss: 0.0099 | lr: 0.000394\n",
      "step 90   | loss: 2.0281 | lm_loss: 2.0132 | router_z_loss: 0.0049 | router_aux_loss: 0.0099 | lr: 0.000392\n",
      "step 100  | loss: 2.0571 | lm_loss: 2.0427 | router_z_loss: 0.0045 | router_aux_loss: 0.0099 | lr: 0.000390\n"
     ]
    },
    {
     "data": {
      "application/vnd.jupyter.widget-view+json": {
       "model_id": "f9760434c6f9475ab91f55c799617b64",
       "version_major": 2,
       "version_minor": 0
      },
      "text/plain": [
       "0it [00:00, ?it/s]"
      ]
     },
     "metadata": {},
     "output_type": "display_data"
    },
    {
     "name": "stdout",
     "output_type": "stream",
     "text": [
      "<<< EVAL >>> loss: 1.9878\n",
      "step 110  | loss: 1.9012 | lm_loss: 1.8876 | router_z_loss: 0.0038 | router_aux_loss: 0.0098 | lr: 0.000388\n",
      "step 120  | loss: 1.9250 | lm_loss: 1.9112 | router_z_loss: 0.0040 | router_aux_loss: 0.0098 | lr: 0.000386\n",
      "step 130  | loss: 1.9637 | lm_loss: 1.9498 | router_z_loss: 0.0040 | router_aux_loss: 0.0098 | lr: 0.000384\n",
      "step 140  | loss: 1.9374 | lm_loss: 1.9240 | router_z_loss: 0.0036 | router_aux_loss: 0.0098 | lr: 0.000382\n",
      "step 150  | loss: 1.9180 | lm_loss: 1.9046 | router_z_loss: 0.0036 | router_aux_loss: 0.0098 | lr: 0.000380\n"
     ]
    },
    {
     "data": {
      "application/vnd.jupyter.widget-view+json": {
       "model_id": "1bc1ede48ec04037a47e7b088ce08e21",
       "version_major": 2,
       "version_minor": 0
      },
      "text/plain": [
       "0it [00:00, ?it/s]"
      ]
     },
     "metadata": {},
     "output_type": "display_data"
    },
    {
     "name": "stdout",
     "output_type": "stream",
     "text": [
      "<<< EVAL >>> loss: 1.8761\n",
      "step 160  | loss: 1.9958 | lm_loss: 1.9828 | router_z_loss: 0.0032 | router_aux_loss: 0.0098 | lr: 0.000378\n",
      "step 170  | loss: 1.7992 | lm_loss: 1.7865 | router_z_loss: 0.0029 | router_aux_loss: 0.0098 | lr: 0.000376\n",
      "step 180  | loss: 1.8263 | lm_loss: 1.8128 | router_z_loss: 0.0037 | router_aux_loss: 0.0099 | lr: 0.000374\n",
      "step 190  | loss: 1.7817 | lm_loss: 1.7687 | router_z_loss: 0.0031 | router_aux_loss: 0.0098 | lr: 0.000373\n",
      "step 200  | loss: 1.7914 | lm_loss: 1.7785 | router_z_loss: 0.0031 | router_aux_loss: 0.0098 | lr: 0.000371\n"
     ]
    },
    {
     "data": {
      "application/vnd.jupyter.widget-view+json": {
       "model_id": "438c3516fc2841cbbbb8b6c14db45a5f",
       "version_major": 2,
       "version_minor": 0
      },
      "text/plain": [
       "0it [00:00, ?it/s]"
      ]
     },
     "metadata": {},
     "output_type": "display_data"
    },
    {
     "name": "stdout",
     "output_type": "stream",
     "text": [
      "<<< EVAL >>> loss: 1.7428\n",
      "step 210  | loss: 1.7795 | lm_loss: 1.7665 | router_z_loss: 0.0032 | router_aux_loss: 0.0098 | lr: 0.000369\n",
      "step 220  | loss: 1.7894 | lm_loss: 1.7765 | router_z_loss: 0.0030 | router_aux_loss: 0.0099 | lr: 0.000367\n",
      "step 230  | loss: 1.6386 | lm_loss: 1.6256 | router_z_loss: 0.0032 | router_aux_loss: 0.0099 | lr: 0.000365\n",
      "step 240  | loss: 1.7444 | lm_loss: 1.7316 | router_z_loss: 0.0030 | router_aux_loss: 0.0098 | lr: 0.000363\n",
      "step 250  | loss: 1.7312 | lm_loss: 1.7175 | router_z_loss: 0.0038 | router_aux_loss: 0.0099 | lr: 0.000361\n"
     ]
    },
    {
     "data": {
      "application/vnd.jupyter.widget-view+json": {
       "model_id": "bf0cd7209e9f4b17891ec81794a42179",
       "version_major": 2,
       "version_minor": 0
      },
      "text/plain": [
       "0it [00:00, ?it/s]"
      ]
     },
     "metadata": {},
     "output_type": "display_data"
    },
    {
     "name": "stdout",
     "output_type": "stream",
     "text": [
      "<<< EVAL >>> loss: 1.6630\n",
      "step 260  | loss: 1.6239 | lm_loss: 1.6107 | router_z_loss: 0.0033 | router_aux_loss: 0.0099 | lr: 0.000359\n",
      "step 270  | loss: 1.6648 | lm_loss: 1.6513 | router_z_loss: 0.0036 | router_aux_loss: 0.0099 | lr: 0.000357\n",
      "step 280  | loss: 1.5151 | lm_loss: 1.5018 | router_z_loss: 0.0036 | router_aux_loss: 0.0098 | lr: 0.000355\n",
      "step 290  | loss: 1.6363 | lm_loss: 1.6228 | router_z_loss: 0.0035 | router_aux_loss: 0.0099 | lr: 0.000353\n",
      "step 300  | loss: 1.6073 | lm_loss: 1.5936 | router_z_loss: 0.0038 | router_aux_loss: 0.0099 | lr: 0.000351\n"
     ]
    },
    {
     "data": {
      "application/vnd.jupyter.widget-view+json": {
       "model_id": "89781c89f33e4528b1af9d49a47a54ed",
       "version_major": 2,
       "version_minor": 0
      },
      "text/plain": [
       "0it [00:00, ?it/s]"
      ]
     },
     "metadata": {},
     "output_type": "display_data"
    },
    {
     "name": "stdout",
     "output_type": "stream",
     "text": [
      "<<< EVAL >>> loss: 1.5532\n",
      "step 310  | loss: 1.4659 | lm_loss: 1.4525 | router_z_loss: 0.0036 | router_aux_loss: 0.0099 | lr: 0.000349\n",
      "step 320  | loss: 1.5855 | lm_loss: 1.5714 | router_z_loss: 0.0041 | router_aux_loss: 0.0100 | lr: 0.000347\n",
      "step 330  | loss: 1.4525 | lm_loss: 1.4392 | router_z_loss: 0.0034 | router_aux_loss: 0.0099 | lr: 0.000345\n",
      "step 340  | loss: 1.5250 | lm_loss: 1.5117 | router_z_loss: 0.0035 | router_aux_loss: 0.0099 | lr: 0.000343\n",
      "step 350  | loss: 1.4944 | lm_loss: 1.4809 | router_z_loss: 0.0036 | router_aux_loss: 0.0098 | lr: 0.000341\n"
     ]
    },
    {
     "data": {
      "application/vnd.jupyter.widget-view+json": {
       "model_id": "2aef9491788d4c85ae3271917ab9bab6",
       "version_major": 2,
       "version_minor": 0
      },
      "text/plain": [
       "0it [00:00, ?it/s]"
      ]
     },
     "metadata": {},
     "output_type": "display_data"
    },
    {
     "name": "stdout",
     "output_type": "stream",
     "text": [
      "<<< EVAL >>> loss: 1.4352\n",
      "step 360  | loss: 1.4269 | lm_loss: 1.4137 | router_z_loss: 0.0034 | router_aux_loss: 0.0098 | lr: 0.000339\n",
      "step 370  | loss: 1.3977 | lm_loss: 1.3842 | router_z_loss: 0.0036 | router_aux_loss: 0.0099 | lr: 0.000337\n",
      "step 380  | loss: 1.3770 | lm_loss: 1.3638 | router_z_loss: 0.0033 | router_aux_loss: 0.0099 | lr: 0.000335\n",
      "step 390  | loss: 1.3644 | lm_loss: 1.3512 | router_z_loss: 0.0033 | router_aux_loss: 0.0099 | lr: 0.000333\n",
      "step 400  | loss: 1.3154 | lm_loss: 1.3017 | router_z_loss: 0.0038 | router_aux_loss: 0.0099 | lr: 0.000331\n"
     ]
    },
    {
     "data": {
      "application/vnd.jupyter.widget-view+json": {
       "model_id": "0a9bd26f7bd749e0bdfd8bd72d567a45",
       "version_major": 2,
       "version_minor": 0
      },
      "text/plain": [
       "0it [00:00, ?it/s]"
      ]
     },
     "metadata": {},
     "output_type": "display_data"
    },
    {
     "name": "stdout",
     "output_type": "stream",
     "text": [
      "<<< EVAL >>> loss: 1.2986\n",
      "step 410  | loss: 1.2645 | lm_loss: 1.2511 | router_z_loss: 0.0035 | router_aux_loss: 0.0099 | lr: 0.000329\n",
      "step 420  | loss: 1.2789 | lm_loss: 1.2653 | router_z_loss: 0.0037 | router_aux_loss: 0.0099 | lr: 0.000327\n",
      "step 430  | loss: 1.2741 | lm_loss: 1.2606 | router_z_loss: 0.0036 | router_aux_loss: 0.0099 | lr: 0.000325\n",
      "step 440  | loss: 1.2213 | lm_loss: 1.2074 | router_z_loss: 0.0040 | router_aux_loss: 0.0099 | lr: 0.000323\n",
      "step 450  | loss: 1.3690 | lm_loss: 1.3557 | router_z_loss: 0.0034 | router_aux_loss: 0.0099 | lr: 0.000321\n"
     ]
    },
    {
     "data": {
      "application/vnd.jupyter.widget-view+json": {
       "model_id": "89bb05ff3f74428e94b5bad723200b9d",
       "version_major": 2,
       "version_minor": 0
      },
      "text/plain": [
       "0it [00:00, ?it/s]"
      ]
     },
     "metadata": {},
     "output_type": "display_data"
    },
    {
     "name": "stdout",
     "output_type": "stream",
     "text": [
      "<<< EVAL >>> loss: 1.2049\n",
      "step 460  | loss: 1.1806 | lm_loss: 1.1670 | router_z_loss: 0.0037 | router_aux_loss: 0.0099 | lr: 0.000319\n",
      "step 470  | loss: 1.1628 | lm_loss: 1.1495 | router_z_loss: 0.0034 | router_aux_loss: 0.0099 | lr: 0.000318\n",
      "step 480  | loss: 1.2746 | lm_loss: 1.2612 | router_z_loss: 0.0035 | router_aux_loss: 0.0099 | lr: 0.000316\n",
      "step 490  | loss: 1.0425 | lm_loss: 1.0294 | router_z_loss: 0.0033 | router_aux_loss: 0.0099 | lr: 0.000314\n",
      "step 500  | loss: 1.1179 | lm_loss: 1.1047 | router_z_loss: 0.0032 | router_aux_loss: 0.0099 | lr: 0.000312\n"
     ]
    },
    {
     "data": {
      "application/vnd.jupyter.widget-view+json": {
       "model_id": "d9662eaef1ad4b8c883ba8ded5e7a358",
       "version_major": 2,
       "version_minor": 0
      },
      "text/plain": [
       "0it [00:00, ?it/s]"
      ]
     },
     "metadata": {},
     "output_type": "display_data"
    },
    {
     "name": "stdout",
     "output_type": "stream",
     "text": [
      "<<< EVAL >>> loss: 1.0961\n",
      "step 510  | loss: 1.0947 | lm_loss: 1.0810 | router_z_loss: 0.0038 | router_aux_loss: 0.0099 | lr: 0.000310\n",
      "step 520  | loss: 1.0740 | lm_loss: 1.0609 | router_z_loss: 0.0031 | router_aux_loss: 0.0099 | lr: 0.000308\n",
      "step 530  | loss: 0.9425 | lm_loss: 0.9291 | router_z_loss: 0.0035 | router_aux_loss: 0.0099 | lr: 0.000306\n",
      "step 540  | loss: 1.0273 | lm_loss: 1.0129 | router_z_loss: 0.0045 | router_aux_loss: 0.0099 | lr: 0.000304\n",
      "step 550  | loss: 1.0177 | lm_loss: 1.0044 | router_z_loss: 0.0034 | router_aux_loss: 0.0099 | lr: 0.000302\n"
     ]
    },
    {
     "data": {
      "application/vnd.jupyter.widget-view+json": {
       "model_id": "2f4374f866544f3db96322fdd4fbd192",
       "version_major": 2,
       "version_minor": 0
      },
      "text/plain": [
       "0it [00:00, ?it/s]"
      ]
     },
     "metadata": {},
     "output_type": "display_data"
    },
    {
     "name": "stdout",
     "output_type": "stream",
     "text": [
      "<<< EVAL >>> loss: 1.0067\n",
      "step 560  | loss: 0.9703 | lm_loss: 0.9567 | router_z_loss: 0.0036 | router_aux_loss: 0.0100 | lr: 0.000300\n",
      "step 570  | loss: 0.9480 | lm_loss: 0.9346 | router_z_loss: 0.0034 | router_aux_loss: 0.0099 | lr: 0.000298\n",
      "step 580  | loss: 0.8762 | lm_loss: 0.8629 | router_z_loss: 0.0034 | router_aux_loss: 0.0100 | lr: 0.000296\n",
      "step 590  | loss: 0.8394 | lm_loss: 0.8258 | router_z_loss: 0.0036 | router_aux_loss: 0.0100 | lr: 0.000294\n",
      "step 600  | loss: 0.9707 | lm_loss: 0.9572 | router_z_loss: 0.0035 | router_aux_loss: 0.0099 | lr: 0.000292\n"
     ]
    },
    {
     "data": {
      "application/vnd.jupyter.widget-view+json": {
       "model_id": "97250ade121b4abaa9360fdf34a4fccb",
       "version_major": 2,
       "version_minor": 0
      },
      "text/plain": [
       "0it [00:00, ?it/s]"
      ]
     },
     "metadata": {},
     "output_type": "display_data"
    },
    {
     "name": "stdout",
     "output_type": "stream",
     "text": [
      "<<< EVAL >>> loss: 0.9199\n",
      "step 610  | loss: 0.8359 | lm_loss: 0.8224 | router_z_loss: 0.0035 | router_aux_loss: 0.0099 | lr: 0.000290\n",
      "step 620  | loss: 0.9534 | lm_loss: 0.9405 | router_z_loss: 0.0030 | router_aux_loss: 0.0099 | lr: 0.000288\n",
      "step 630  | loss: 0.8812 | lm_loss: 0.8680 | router_z_loss: 0.0033 | router_aux_loss: 0.0099 | lr: 0.000286\n",
      "step 640  | loss: 0.8688 | lm_loss: 0.8561 | router_z_loss: 0.0027 | router_aux_loss: 0.0099 | lr: 0.000284\n",
      "step 650  | loss: 0.8130 | lm_loss: 0.8005 | router_z_loss: 0.0026 | router_aux_loss: 0.0099 | lr: 0.000282\n"
     ]
    },
    {
     "data": {
      "application/vnd.jupyter.widget-view+json": {
       "model_id": "f4229d18e0b94d24b25fbe7ae4270b59",
       "version_major": 2,
       "version_minor": 0
      },
      "text/plain": [
       "0it [00:00, ?it/s]"
      ]
     },
     "metadata": {},
     "output_type": "display_data"
    },
    {
     "name": "stdout",
     "output_type": "stream",
     "text": [
      "<<< EVAL >>> loss: 0.8584\n",
      "step 660  | loss: 0.8435 | lm_loss: 0.8302 | router_z_loss: 0.0034 | router_aux_loss: 0.0099 | lr: 0.000280\n",
      "step 670  | loss: 0.7488 | lm_loss: 0.7359 | router_z_loss: 0.0031 | router_aux_loss: 0.0099 | lr: 0.000278\n",
      "step 680  | loss: 0.7541 | lm_loss: 0.7413 | router_z_loss: 0.0029 | router_aux_loss: 0.0099 | lr: 0.000276\n",
      "step 690  | loss: 0.8484 | lm_loss: 0.8353 | router_z_loss: 0.0032 | router_aux_loss: 0.0099 | lr: 0.000274\n",
      "step 700  | loss: 0.7816 | lm_loss: 0.7686 | router_z_loss: 0.0031 | router_aux_loss: 0.0099 | lr: 0.000272\n"
     ]
    },
    {
     "data": {
      "application/vnd.jupyter.widget-view+json": {
       "model_id": "c6c2aa213bd746e8bb69c364a71ca7a3",
       "version_major": 2,
       "version_minor": 0
      },
      "text/plain": [
       "0it [00:00, ?it/s]"
      ]
     },
     "metadata": {},
     "output_type": "display_data"
    },
    {
     "name": "stdout",
     "output_type": "stream",
     "text": [
      "<<< EVAL >>> loss: 0.8177\n",
      "step 710  | loss: 0.7874 | lm_loss: 0.7747 | router_z_loss: 0.0028 | router_aux_loss: 0.0099 | lr: 0.000270\n",
      "step 720  | loss: 0.7785 | lm_loss: 0.7656 | router_z_loss: 0.0029 | router_aux_loss: 0.0099 | lr: 0.000268\n",
      "step 730  | loss: 0.7181 | lm_loss: 0.7053 | router_z_loss: 0.0029 | router_aux_loss: 0.0099 | lr: 0.000266\n",
      "step 740  | loss: 0.8211 | lm_loss: 0.8085 | router_z_loss: 0.0027 | router_aux_loss: 0.0099 | lr: 0.000265\n",
      "step 750  | loss: 0.6736 | lm_loss: 0.6608 | router_z_loss: 0.0030 | router_aux_loss: 0.0099 | lr: 0.000263\n"
     ]
    },
    {
     "data": {
      "application/vnd.jupyter.widget-view+json": {
       "model_id": "495ecc6d62a54487b2e98e34f25a002d",
       "version_major": 2,
       "version_minor": 0
      },
      "text/plain": [
       "0it [00:00, ?it/s]"
      ]
     },
     "metadata": {},
     "output_type": "display_data"
    },
    {
     "name": "stdout",
     "output_type": "stream",
     "text": [
      "<<< EVAL >>> loss: 0.7525\n",
      "step 760  | loss: 0.7305 | lm_loss: 0.7177 | router_z_loss: 0.0029 | router_aux_loss: 0.0099 | lr: 0.000261\n",
      "step 770  | loss: 0.8149 | lm_loss: 0.8021 | router_z_loss: 0.0029 | router_aux_loss: 0.0099 | lr: 0.000259\n",
      "step 780  | loss: 0.7337 | lm_loss: 0.7208 | router_z_loss: 0.0029 | router_aux_loss: 0.0100 | lr: 0.000257\n",
      "step 790  | loss: 0.7227 | lm_loss: 0.7102 | router_z_loss: 0.0026 | router_aux_loss: 0.0099 | lr: 0.000255\n",
      "step 800  | loss: 0.8370 | lm_loss: 0.8246 | router_z_loss: 0.0025 | router_aux_loss: 0.0099 | lr: 0.000253\n"
     ]
    },
    {
     "data": {
      "application/vnd.jupyter.widget-view+json": {
       "model_id": "fb11f3c0ae4e43648adacc9b23f2766d",
       "version_major": 2,
       "version_minor": 0
      },
      "text/plain": [
       "0it [00:00, ?it/s]"
      ]
     },
     "metadata": {},
     "output_type": "display_data"
    },
    {
     "name": "stdout",
     "output_type": "stream",
     "text": [
      "<<< EVAL >>> loss: 0.7020\n",
      "step 810  | loss: 0.8217 | lm_loss: 0.8088 | router_z_loss: 0.0029 | router_aux_loss: 0.0100 | lr: 0.000251\n",
      "step 820  | loss: 0.7038 | lm_loss: 0.6909 | router_z_loss: 0.0029 | router_aux_loss: 0.0099 | lr: 0.000249\n",
      "step 830  | loss: 0.6691 | lm_loss: 0.6567 | router_z_loss: 0.0025 | router_aux_loss: 0.0100 | lr: 0.000247\n",
      "step 840  | loss: 0.6765 | lm_loss: 0.6638 | router_z_loss: 0.0027 | router_aux_loss: 0.0100 | lr: 0.000245\n",
      "step 850  | loss: 0.6723 | lm_loss: 0.6597 | router_z_loss: 0.0027 | router_aux_loss: 0.0099 | lr: 0.000243\n"
     ]
    },
    {
     "data": {
      "application/vnd.jupyter.widget-view+json": {
       "model_id": "964c72122212494d8e04d6223855f2e9",
       "version_major": 2,
       "version_minor": 0
      },
      "text/plain": [
       "0it [00:00, ?it/s]"
      ]
     },
     "metadata": {},
     "output_type": "display_data"
    },
    {
     "name": "stdout",
     "output_type": "stream",
     "text": [
      "<<< EVAL >>> loss: 0.6741\n",
      "step 860  | loss: 0.6255 | lm_loss: 0.6128 | router_z_loss: 0.0028 | router_aux_loss: 0.0100 | lr: 0.000241\n",
      "step 870  | loss: 0.6101 | lm_loss: 0.5980 | router_z_loss: 0.0022 | router_aux_loss: 0.0099 | lr: 0.000239\n",
      "step 880  | loss: 0.6598 | lm_loss: 0.6475 | router_z_loss: 0.0024 | router_aux_loss: 0.0099 | lr: 0.000237\n",
      "step 890  | loss: 0.6582 | lm_loss: 0.6457 | router_z_loss: 0.0026 | router_aux_loss: 0.0099 | lr: 0.000235\n",
      "step 900  | loss: 0.7254 | lm_loss: 0.7133 | router_z_loss: 0.0022 | router_aux_loss: 0.0099 | lr: 0.000233\n"
     ]
    },
    {
     "data": {
      "application/vnd.jupyter.widget-view+json": {
       "model_id": "4204242ab15d408abcb50c2477a7dadc",
       "version_major": 2,
       "version_minor": 0
      },
      "text/plain": [
       "0it [00:00, ?it/s]"
      ]
     },
     "metadata": {},
     "output_type": "display_data"
    },
    {
     "name": "stdout",
     "output_type": "stream",
     "text": [
      "<<< EVAL >>> loss: 0.6544\n",
      "step 910  | loss: 0.5693 | lm_loss: 0.5569 | router_z_loss: 0.0025 | router_aux_loss: 0.0099 | lr: 0.000231\n",
      "step 920  | loss: 0.6845 | lm_loss: 0.6724 | router_z_loss: 0.0022 | router_aux_loss: 0.0099 | lr: 0.000229\n",
      "step 930  | loss: 0.5832 | lm_loss: 0.5705 | router_z_loss: 0.0027 | router_aux_loss: 0.0099 | lr: 0.000227\n",
      "step 940  | loss: 0.6486 | lm_loss: 0.6359 | router_z_loss: 0.0027 | router_aux_loss: 0.0100 | lr: 0.000225\n",
      "step 950  | loss: 0.5547 | lm_loss: 0.5426 | router_z_loss: 0.0023 | router_aux_loss: 0.0099 | lr: 0.000223\n"
     ]
    },
    {
     "data": {
      "application/vnd.jupyter.widget-view+json": {
       "model_id": "d0eaa0044f0d475c9a07f783a3949559",
       "version_major": 2,
       "version_minor": 0
      },
      "text/plain": [
       "0it [00:00, ?it/s]"
      ]
     },
     "metadata": {},
     "output_type": "display_data"
    },
    {
     "name": "stdout",
     "output_type": "stream",
     "text": [
      "<<< EVAL >>> loss: 0.6283\n",
      "step 960  | loss: 0.6195 | lm_loss: 0.6074 | router_z_loss: 0.0022 | router_aux_loss: 0.0099 | lr: 0.000221\n",
      "step 970  | loss: 0.5589 | lm_loss: 0.5466 | router_z_loss: 0.0024 | router_aux_loss: 0.0099 | lr: 0.000219\n",
      "step 980  | loss: 0.5480 | lm_loss: 0.5357 | router_z_loss: 0.0024 | router_aux_loss: 0.0099 | lr: 0.000217\n",
      "step 990  | loss: 0.5939 | lm_loss: 0.5816 | router_z_loss: 0.0024 | router_aux_loss: 0.0099 | lr: 0.000215\n",
      "step 1000 | loss: 0.5394 | lm_loss: 0.5270 | router_z_loss: 0.0025 | router_aux_loss: 0.0099 | lr: 0.000213\n"
     ]
    },
    {
     "data": {
      "application/vnd.jupyter.widget-view+json": {
       "model_id": "b52bb8b4c8724180a60a004f7a10d8a1",
       "version_major": 2,
       "version_minor": 0
      },
      "text/plain": [
       "0it [00:00, ?it/s]"
      ]
     },
     "metadata": {},
     "output_type": "display_data"
    },
    {
     "name": "stdout",
     "output_type": "stream",
     "text": [
      "<<< EVAL >>> loss: 0.6029\n",
      "step 1010 | loss: 0.7421 | lm_loss: 0.7301 | router_z_loss: 0.0020 | router_aux_loss: 0.0099 | lr: 0.000211\n",
      "step 1020 | loss: 0.6450 | lm_loss: 0.6328 | router_z_loss: 0.0023 | router_aux_loss: 0.0099 | lr: 0.000210\n",
      "step 1030 | loss: 0.6361 | lm_loss: 0.6243 | router_z_loss: 0.0019 | router_aux_loss: 0.0099 | lr: 0.000208\n",
      "step 1040 | loss: 0.5771 | lm_loss: 0.5653 | router_z_loss: 0.0020 | router_aux_loss: 0.0099 | lr: 0.000206\n",
      "step 1050 | loss: 0.6057 | lm_loss: 0.5935 | router_z_loss: 0.0023 | router_aux_loss: 0.0099 | lr: 0.000204\n"
     ]
    },
    {
     "data": {
      "application/vnd.jupyter.widget-view+json": {
       "model_id": "6bd7b97df9c84fa5be659247447d3483",
       "version_major": 2,
       "version_minor": 0
      },
      "text/plain": [
       "0it [00:00, ?it/s]"
      ]
     },
     "metadata": {},
     "output_type": "display_data"
    },
    {
     "name": "stdout",
     "output_type": "stream",
     "text": [
      "<<< EVAL >>> loss: 0.5790\n",
      "step 1060 | loss: 0.5448 | lm_loss: 0.5325 | router_z_loss: 0.0023 | router_aux_loss: 0.0099 | lr: 0.000202\n",
      "step 1070 | loss: 0.5303 | lm_loss: 0.5184 | router_z_loss: 0.0021 | router_aux_loss: 0.0099 | lr: 0.000200\n",
      "step 1080 | loss: 0.5491 | lm_loss: 0.5367 | router_z_loss: 0.0026 | router_aux_loss: 0.0099 | lr: 0.000198\n",
      "step 1090 | loss: 0.5267 | lm_loss: 0.5145 | router_z_loss: 0.0024 | router_aux_loss: 0.0099 | lr: 0.000196\n",
      "step 1100 | loss: 0.5727 | lm_loss: 0.5607 | router_z_loss: 0.0021 | router_aux_loss: 0.0099 | lr: 0.000194\n"
     ]
    },
    {
     "data": {
      "application/vnd.jupyter.widget-view+json": {
       "model_id": "ebce052fea6d40fe9934708aefc10de6",
       "version_major": 2,
       "version_minor": 0
      },
      "text/plain": [
       "0it [00:00, ?it/s]"
      ]
     },
     "metadata": {},
     "output_type": "display_data"
    },
    {
     "name": "stdout",
     "output_type": "stream",
     "text": [
      "<<< EVAL >>> loss: 0.5622\n",
      "step 1110 | loss: 0.5492 | lm_loss: 0.5371 | router_z_loss: 0.0022 | router_aux_loss: 0.0099 | lr: 0.000192\n",
      "step 1120 | loss: 0.5332 | lm_loss: 0.5215 | router_z_loss: 0.0019 | router_aux_loss: 0.0099 | lr: 0.000190\n",
      "step 1130 | loss: 0.4756 | lm_loss: 0.4639 | router_z_loss: 0.0019 | router_aux_loss: 0.0098 | lr: 0.000188\n",
      "step 1140 | loss: 0.5621 | lm_loss: 0.5501 | router_z_loss: 0.0022 | router_aux_loss: 0.0099 | lr: 0.000186\n",
      "step 1150 | loss: 0.5241 | lm_loss: 0.5117 | router_z_loss: 0.0024 | router_aux_loss: 0.0099 | lr: 0.000184\n"
     ]
    },
    {
     "data": {
      "application/vnd.jupyter.widget-view+json": {
       "model_id": "e3015bee03504b1293ebd76b5bd06a8e",
       "version_major": 2,
       "version_minor": 0
      },
      "text/plain": [
       "0it [00:00, ?it/s]"
      ]
     },
     "metadata": {},
     "output_type": "display_data"
    },
    {
     "name": "stdout",
     "output_type": "stream",
     "text": [
      "<<< EVAL >>> loss: 0.5460\n",
      "step 1160 | loss: 0.6750 | lm_loss: 0.6630 | router_z_loss: 0.0021 | router_aux_loss: 0.0099 | lr: 0.000182\n",
      "step 1170 | loss: 0.5131 | lm_loss: 0.5011 | router_z_loss: 0.0021 | router_aux_loss: 0.0099 | lr: 0.000180\n",
      "step 1180 | loss: 0.4901 | lm_loss: 0.4781 | router_z_loss: 0.0021 | router_aux_loss: 0.0099 | lr: 0.000178\n",
      "step 1190 | loss: 0.4839 | lm_loss: 0.4717 | router_z_loss: 0.0022 | router_aux_loss: 0.0099 | lr: 0.000176\n",
      "step 1200 | loss: 0.5407 | lm_loss: 0.5287 | router_z_loss: 0.0021 | router_aux_loss: 0.0099 | lr: 0.000174\n"
     ]
    },
    {
     "data": {
      "application/vnd.jupyter.widget-view+json": {
       "model_id": "aa6b7df324664bd5a489542c2344e54b",
       "version_major": 2,
       "version_minor": 0
      },
      "text/plain": [
       "0it [00:00, ?it/s]"
      ]
     },
     "metadata": {},
     "output_type": "display_data"
    },
    {
     "name": "stdout",
     "output_type": "stream",
     "text": [
      "<<< EVAL >>> loss: 0.5271\n",
      "step 1210 | loss: 0.4878 | lm_loss: 0.4756 | router_z_loss: 0.0022 | router_aux_loss: 0.0099 | lr: 0.000172\n",
      "step 1220 | loss: 0.4988 | lm_loss: 0.4871 | router_z_loss: 0.0018 | router_aux_loss: 0.0099 | lr: 0.000170\n",
      "step 1230 | loss: 0.5150 | lm_loss: 0.5034 | router_z_loss: 0.0018 | router_aux_loss: 0.0098 | lr: 0.000168\n",
      "step 1240 | loss: 0.4666 | lm_loss: 0.4550 | router_z_loss: 0.0017 | router_aux_loss: 0.0099 | lr: 0.000166\n",
      "step 1250 | loss: 0.5611 | lm_loss: 0.5491 | router_z_loss: 0.0021 | router_aux_loss: 0.0099 | lr: 0.000164\n"
     ]
    },
    {
     "data": {
      "application/vnd.jupyter.widget-view+json": {
       "model_id": "035d490017e9473a9e5a0dba3cacf9fc",
       "version_major": 2,
       "version_minor": 0
      },
      "text/plain": [
       "0it [00:00, ?it/s]"
      ]
     },
     "metadata": {},
     "output_type": "display_data"
    },
    {
     "name": "stdout",
     "output_type": "stream",
     "text": [
      "<<< EVAL >>> loss: 0.5013\n",
      "step 1260 | loss: 0.5193 | lm_loss: 0.5072 | router_z_loss: 0.0022 | router_aux_loss: 0.0099 | lr: 0.000162\n",
      "step 1270 | loss: 0.5042 | lm_loss: 0.4921 | router_z_loss: 0.0022 | router_aux_loss: 0.0099 | lr: 0.000160\n",
      "step 1280 | loss: 0.3864 | lm_loss: 0.3747 | router_z_loss: 0.0019 | router_aux_loss: 0.0099 | lr: 0.000158\n",
      "step 1290 | loss: 0.4235 | lm_loss: 0.4116 | router_z_loss: 0.0020 | router_aux_loss: 0.0099 | lr: 0.000157\n",
      "step 1300 | loss: 0.5670 | lm_loss: 0.5550 | router_z_loss: 0.0021 | router_aux_loss: 0.0099 | lr: 0.000155\n"
     ]
    },
    {
     "data": {
      "application/vnd.jupyter.widget-view+json": {
       "model_id": "850f7494c75a45f5a01f0c16aeff252a",
       "version_major": 2,
       "version_minor": 0
      },
      "text/plain": [
       "0it [00:00, ?it/s]"
      ]
     },
     "metadata": {},
     "output_type": "display_data"
    },
    {
     "name": "stdout",
     "output_type": "stream",
     "text": [
      "<<< EVAL >>> loss: 0.4900\n",
      "step 1310 | loss: 0.4102 | lm_loss: 0.3983 | router_z_loss: 0.0020 | router_aux_loss: 0.0099 | lr: 0.000153\n",
      "step 1320 | loss: 0.4398 | lm_loss: 0.4281 | router_z_loss: 0.0017 | router_aux_loss: 0.0099 | lr: 0.000151\n",
      "step 1330 | loss: 0.5274 | lm_loss: 0.5157 | router_z_loss: 0.0019 | router_aux_loss: 0.0099 | lr: 0.000149\n",
      "step 1340 | loss: 0.5686 | lm_loss: 0.5562 | router_z_loss: 0.0026 | router_aux_loss: 0.0098 | lr: 0.000147\n",
      "step 1350 | loss: 0.5008 | lm_loss: 0.4888 | router_z_loss: 0.0021 | router_aux_loss: 0.0099 | lr: 0.000145\n"
     ]
    },
    {
     "data": {
      "application/vnd.jupyter.widget-view+json": {
       "model_id": "a9e24b1ce89a4e2a82b46c921eff648f",
       "version_major": 2,
       "version_minor": 0
      },
      "text/plain": [
       "0it [00:00, ?it/s]"
      ]
     },
     "metadata": {},
     "output_type": "display_data"
    },
    {
     "name": "stdout",
     "output_type": "stream",
     "text": [
      "<<< EVAL >>> loss: 0.4874\n",
      "step 1360 | loss: 0.4318 | lm_loss: 0.4201 | router_z_loss: 0.0018 | router_aux_loss: 0.0099 | lr: 0.000143\n",
      "step 1370 | loss: 0.3705 | lm_loss: 0.3588 | router_z_loss: 0.0018 | router_aux_loss: 0.0099 | lr: 0.000141\n",
      "step 1380 | loss: 0.4116 | lm_loss: 0.3994 | router_z_loss: 0.0023 | router_aux_loss: 0.0099 | lr: 0.000139\n",
      "step 1390 | loss: 0.4179 | lm_loss: 0.4061 | router_z_loss: 0.0019 | router_aux_loss: 0.0099 | lr: 0.000137\n",
      "step 1400 | loss: 0.4705 | lm_loss: 0.4587 | router_z_loss: 0.0018 | router_aux_loss: 0.0099 | lr: 0.000135\n"
     ]
    },
    {
     "data": {
      "application/vnd.jupyter.widget-view+json": {
       "model_id": "ab29dc4ccf94420b9a46101a8e07b21a",
       "version_major": 2,
       "version_minor": 0
      },
      "text/plain": [
       "0it [00:00, ?it/s]"
      ]
     },
     "metadata": {},
     "output_type": "display_data"
    },
    {
     "name": "stdout",
     "output_type": "stream",
     "text": [
      "<<< EVAL >>> loss: 0.4802\n",
      "step 1410 | loss: 0.4383 | lm_loss: 0.4264 | router_z_loss: 0.0020 | router_aux_loss: 0.0099 | lr: 0.000133\n",
      "step 1420 | loss: 0.3036 | lm_loss: 0.2920 | router_z_loss: 0.0018 | router_aux_loss: 0.0098 | lr: 0.000131\n",
      "step 1430 | loss: 0.4946 | lm_loss: 0.4827 | router_z_loss: 0.0021 | router_aux_loss: 0.0099 | lr: 0.000129\n",
      "step 1440 | loss: 0.5254 | lm_loss: 0.5135 | router_z_loss: 0.0020 | router_aux_loss: 0.0098 | lr: 0.000127\n",
      "step 1450 | loss: 0.5022 | lm_loss: 0.4906 | router_z_loss: 0.0018 | router_aux_loss: 0.0099 | lr: 0.000125\n"
     ]
    },
    {
     "data": {
      "application/vnd.jupyter.widget-view+json": {
       "model_id": "30a9e0af176942ea98d3e8f3bc54177c",
       "version_major": 2,
       "version_minor": 0
      },
      "text/plain": [
       "0it [00:00, ?it/s]"
      ]
     },
     "metadata": {},
     "output_type": "display_data"
    },
    {
     "name": "stdout",
     "output_type": "stream",
     "text": [
      "<<< EVAL >>> loss: 0.4558\n",
      "step 1460 | loss: 0.5294 | lm_loss: 0.5176 | router_z_loss: 0.0019 | router_aux_loss: 0.0099 | lr: 0.000123\n",
      "step 1470 | loss: 0.4446 | lm_loss: 0.4327 | router_z_loss: 0.0020 | router_aux_loss: 0.0098 | lr: 0.000121\n",
      "step 1480 | loss: 0.3494 | lm_loss: 0.3375 | router_z_loss: 0.0021 | router_aux_loss: 0.0099 | lr: 0.000119\n",
      "step 1490 | loss: 0.5330 | lm_loss: 0.5215 | router_z_loss: 0.0016 | router_aux_loss: 0.0099 | lr: 0.000117\n",
      "step 1500 | loss: 0.5739 | lm_loss: 0.5621 | router_z_loss: 0.0019 | router_aux_loss: 0.0099 | lr: 0.000115\n"
     ]
    },
    {
     "data": {
      "application/vnd.jupyter.widget-view+json": {
       "model_id": "c6e87863008f47c3a5209db99c7c93de",
       "version_major": 2,
       "version_minor": 0
      },
      "text/plain": [
       "0it [00:00, ?it/s]"
      ]
     },
     "metadata": {},
     "output_type": "display_data"
    },
    {
     "name": "stdout",
     "output_type": "stream",
     "text": [
      "<<< EVAL >>> loss: 0.4443\n",
      "step 1510 | loss: 0.5581 | lm_loss: 0.5464 | router_z_loss: 0.0018 | router_aux_loss: 0.0099 | lr: 0.000113\n",
      "step 1520 | loss: 0.4784 | lm_loss: 0.4668 | router_z_loss: 0.0017 | router_aux_loss: 0.0099 | lr: 0.000111\n",
      "step 1530 | loss: 0.3954 | lm_loss: 0.3835 | router_z_loss: 0.0021 | router_aux_loss: 0.0099 | lr: 0.000109\n",
      "step 1540 | loss: 0.3952 | lm_loss: 0.3836 | router_z_loss: 0.0017 | router_aux_loss: 0.0099 | lr: 0.000107\n",
      "step 1550 | loss: 0.3995 | lm_loss: 0.3878 | router_z_loss: 0.0019 | router_aux_loss: 0.0099 | lr: 0.000105\n"
     ]
    },
    {
     "data": {
      "application/vnd.jupyter.widget-view+json": {
       "model_id": "d02e938cdcba4a57a86e727856bc4ff8",
       "version_major": 2,
       "version_minor": 0
      },
      "text/plain": [
       "0it [00:00, ?it/s]"
      ]
     },
     "metadata": {},
     "output_type": "display_data"
    },
    {
     "name": "stdout",
     "output_type": "stream",
     "text": [
      "<<< EVAL >>> loss: 0.4483\n",
      "step 1560 | loss: 0.4524 | lm_loss: 0.4408 | router_z_loss: 0.0017 | router_aux_loss: 0.0099 | lr: 0.000103\n",
      "step 1570 | loss: 0.5533 | lm_loss: 0.5417 | router_z_loss: 0.0017 | router_aux_loss: 0.0099 | lr: 0.000102\n",
      "step 1580 | loss: 0.4729 | lm_loss: 0.4609 | router_z_loss: 0.0021 | router_aux_loss: 0.0099 | lr: 0.000100\n",
      "step 1590 | loss: 0.3863 | lm_loss: 0.3745 | router_z_loss: 0.0019 | router_aux_loss: 0.0099 | lr: 0.000098\n",
      "step 1600 | loss: 0.5633 | lm_loss: 0.5514 | router_z_loss: 0.0020 | router_aux_loss: 0.0099 | lr: 0.000096\n"
     ]
    },
    {
     "data": {
      "application/vnd.jupyter.widget-view+json": {
       "model_id": "e41e92f6d3f340e6b4cd8e6e99258988",
       "version_major": 2,
       "version_minor": 0
      },
      "text/plain": [
       "0it [00:00, ?it/s]"
      ]
     },
     "metadata": {},
     "output_type": "display_data"
    },
    {
     "name": "stdout",
     "output_type": "stream",
     "text": [
      "<<< EVAL >>> loss: 0.4245\n",
      "step 1610 | loss: 0.4275 | lm_loss: 0.4158 | router_z_loss: 0.0018 | router_aux_loss: 0.0099 | lr: 0.000094\n",
      "step 1620 | loss: 0.4210 | lm_loss: 0.4095 | router_z_loss: 0.0017 | router_aux_loss: 0.0099 | lr: 0.000092\n",
      "step 1630 | loss: 0.3861 | lm_loss: 0.3743 | router_z_loss: 0.0019 | router_aux_loss: 0.0099 | lr: 0.000090\n",
      "step 1640 | loss: 0.4456 | lm_loss: 0.4338 | router_z_loss: 0.0020 | router_aux_loss: 0.0099 | lr: 0.000088\n",
      "step 1650 | loss: 0.3780 | lm_loss: 0.3662 | router_z_loss: 0.0019 | router_aux_loss: 0.0099 | lr: 0.000086\n"
     ]
    },
    {
     "data": {
      "application/vnd.jupyter.widget-view+json": {
       "model_id": "abb92bb1f1154a47b916506b9528e7e5",
       "version_major": 2,
       "version_minor": 0
      },
      "text/plain": [
       "0it [00:00, ?it/s]"
      ]
     },
     "metadata": {},
     "output_type": "display_data"
    },
    {
     "name": "stdout",
     "output_type": "stream",
     "text": [
      "<<< EVAL >>> loss: 0.4253\n",
      "step 1660 | loss: 0.4927 | lm_loss: 0.4809 | router_z_loss: 0.0019 | router_aux_loss: 0.0099 | lr: 0.000084\n",
      "step 1670 | loss: 0.4519 | lm_loss: 0.4404 | router_z_loss: 0.0016 | router_aux_loss: 0.0098 | lr: 0.000082\n",
      "step 1680 | loss: 0.4153 | lm_loss: 0.4037 | router_z_loss: 0.0017 | router_aux_loss: 0.0099 | lr: 0.000080\n",
      "step 1690 | loss: 0.4755 | lm_loss: 0.4639 | router_z_loss: 0.0018 | router_aux_loss: 0.0099 | lr: 0.000078\n",
      "step 1700 | loss: 0.3685 | lm_loss: 0.3569 | router_z_loss: 0.0017 | router_aux_loss: 0.0099 | lr: 0.000076\n"
     ]
    },
    {
     "data": {
      "application/vnd.jupyter.widget-view+json": {
       "model_id": "ec413e287ad64ef999e693951194281d",
       "version_major": 2,
       "version_minor": 0
      },
      "text/plain": [
       "0it [00:00, ?it/s]"
      ]
     },
     "metadata": {},
     "output_type": "display_data"
    },
    {
     "name": "stdout",
     "output_type": "stream",
     "text": [
      "<<< EVAL >>> loss: 0.4166\n",
      "step 1710 | loss: 0.3462 | lm_loss: 0.3345 | router_z_loss: 0.0018 | router_aux_loss: 0.0099 | lr: 0.000074\n",
      "step 1720 | loss: 0.4024 | lm_loss: 0.3907 | router_z_loss: 0.0019 | router_aux_loss: 0.0099 | lr: 0.000072\n",
      "step 1730 | loss: 0.4290 | lm_loss: 0.4175 | router_z_loss: 0.0016 | router_aux_loss: 0.0099 | lr: 0.000070\n",
      "step 1740 | loss: 0.4752 | lm_loss: 0.4634 | router_z_loss: 0.0019 | router_aux_loss: 0.0099 | lr: 0.000068\n",
      "step 1750 | loss: 0.4271 | lm_loss: 0.4153 | router_z_loss: 0.0019 | router_aux_loss: 0.0098 | lr: 0.000066\n"
     ]
    },
    {
     "data": {
      "application/vnd.jupyter.widget-view+json": {
       "model_id": "99b5f35f38bc47bdbb37436763f70adc",
       "version_major": 2,
       "version_minor": 0
      },
      "text/plain": [
       "0it [00:00, ?it/s]"
      ]
     },
     "metadata": {},
     "output_type": "display_data"
    },
    {
     "name": "stdout",
     "output_type": "stream",
     "text": [
      "<<< EVAL >>> loss: 0.4199\n",
      "step 1760 | loss: 0.4045 | lm_loss: 0.3928 | router_z_loss: 0.0018 | router_aux_loss: 0.0099 | lr: 0.000064\n",
      "step 1770 | loss: 0.3568 | lm_loss: 0.3450 | router_z_loss: 0.0019 | router_aux_loss: 0.0099 | lr: 0.000062\n",
      "step 1780 | loss: 0.3619 | lm_loss: 0.3502 | router_z_loss: 0.0018 | router_aux_loss: 0.0099 | lr: 0.000060\n",
      "step 1790 | loss: 0.3981 | lm_loss: 0.3863 | router_z_loss: 0.0019 | router_aux_loss: 0.0099 | lr: 0.000058\n",
      "step 1800 | loss: 0.3505 | lm_loss: 0.3389 | router_z_loss: 0.0017 | router_aux_loss: 0.0099 | lr: 0.000056\n"
     ]
    },
    {
     "data": {
      "application/vnd.jupyter.widget-view+json": {
       "model_id": "f5230f06364b479e89646f136d3feb05",
       "version_major": 2,
       "version_minor": 0
      },
      "text/plain": [
       "0it [00:00, ?it/s]"
      ]
     },
     "metadata": {},
     "output_type": "display_data"
    },
    {
     "name": "stdout",
     "output_type": "stream",
     "text": [
      "<<< EVAL >>> loss: 0.4016\n",
      "step 1810 | loss: 0.4007 | lm_loss: 0.3889 | router_z_loss: 0.0018 | router_aux_loss: 0.0099 | lr: 0.000054\n",
      "step 1820 | loss: 0.4253 | lm_loss: 0.4135 | router_z_loss: 0.0018 | router_aux_loss: 0.0099 | lr: 0.000052\n",
      "step 1830 | loss: 0.4739 | lm_loss: 0.4621 | router_z_loss: 0.0019 | router_aux_loss: 0.0099 | lr: 0.000050\n",
      "step 1840 | loss: 0.3520 | lm_loss: 0.3405 | router_z_loss: 0.0017 | router_aux_loss: 0.0099 | lr: 0.000049\n",
      "step 1850 | loss: 0.3562 | lm_loss: 0.3446 | router_z_loss: 0.0017 | router_aux_loss: 0.0099 | lr: 0.000047\n"
     ]
    },
    {
     "data": {
      "application/vnd.jupyter.widget-view+json": {
       "model_id": "2325ae3e3736476dbabfb7dd214ce67c",
       "version_major": 2,
       "version_minor": 0
      },
      "text/plain": [
       "0it [00:00, ?it/s]"
      ]
     },
     "metadata": {},
     "output_type": "display_data"
    },
    {
     "name": "stdout",
     "output_type": "stream",
     "text": [
      "<<< EVAL >>> loss: 0.4020\n",
      "step 1860 | loss: 0.5023 | lm_loss: 0.4905 | router_z_loss: 0.0019 | router_aux_loss: 0.0099 | lr: 0.000045\n",
      "step 1870 | loss: 0.4983 | lm_loss: 0.4865 | router_z_loss: 0.0018 | router_aux_loss: 0.0099 | lr: 0.000043\n",
      "step 1880 | loss: 0.4400 | lm_loss: 0.4284 | router_z_loss: 0.0017 | router_aux_loss: 0.0099 | lr: 0.000041\n",
      "step 1890 | loss: 0.3513 | lm_loss: 0.3398 | router_z_loss: 0.0017 | router_aux_loss: 0.0098 | lr: 0.000039\n",
      "step 1900 | loss: 0.5587 | lm_loss: 0.5469 | router_z_loss: 0.0019 | router_aux_loss: 0.0099 | lr: 0.000037\n"
     ]
    },
    {
     "data": {
      "application/vnd.jupyter.widget-view+json": {
       "model_id": "2c47f38393dd43e59c7adfdcfba97d2b",
       "version_major": 2,
       "version_minor": 0
      },
      "text/plain": [
       "0it [00:00, ?it/s]"
      ]
     },
     "metadata": {},
     "output_type": "display_data"
    },
    {
     "name": "stdout",
     "output_type": "stream",
     "text": [
      "<<< EVAL >>> loss: 0.3965\n",
      "step 1910 | loss: 0.4177 | lm_loss: 0.4061 | router_z_loss: 0.0017 | router_aux_loss: 0.0099 | lr: 0.000035\n",
      "step 1920 | loss: 0.4008 | lm_loss: 0.3890 | router_z_loss: 0.0019 | router_aux_loss: 0.0099 | lr: 0.000033\n",
      "step 1930 | loss: 0.3832 | lm_loss: 0.3716 | router_z_loss: 0.0018 | router_aux_loss: 0.0099 | lr: 0.000031\n",
      "step 1940 | loss: 0.4015 | lm_loss: 0.3899 | router_z_loss: 0.0017 | router_aux_loss: 0.0099 | lr: 0.000029\n",
      "step 1950 | loss: 0.4620 | lm_loss: 0.4505 | router_z_loss: 0.0017 | router_aux_loss: 0.0099 | lr: 0.000027\n"
     ]
    },
    {
     "data": {
      "application/vnd.jupyter.widget-view+json": {
       "model_id": "2340270de1a5443e80d057bc37bdfd5c",
       "version_major": 2,
       "version_minor": 0
      },
      "text/plain": [
       "0it [00:00, ?it/s]"
      ]
     },
     "metadata": {},
     "output_type": "display_data"
    },
    {
     "name": "stdout",
     "output_type": "stream",
     "text": [
      "<<< EVAL >>> loss: 0.3863\n",
      "step 1960 | loss: 0.3871 | lm_loss: 0.3753 | router_z_loss: 0.0019 | router_aux_loss: 0.0099 | lr: 0.000025\n",
      "step 1970 | loss: 0.3896 | lm_loss: 0.3779 | router_z_loss: 0.0018 | router_aux_loss: 0.0099 | lr: 0.000023\n",
      "step 1980 | loss: 0.4136 | lm_loss: 0.4020 | router_z_loss: 0.0017 | router_aux_loss: 0.0099 | lr: 0.000021\n",
      "step 1990 | loss: 0.3407 | lm_loss: 0.3290 | router_z_loss: 0.0018 | router_aux_loss: 0.0099 | lr: 0.000019\n",
      "step 2000 | loss: 0.4843 | lm_loss: 0.4727 | router_z_loss: 0.0018 | router_aux_loss: 0.0099 | lr: 0.000017\n"
     ]
    },
    {
     "data": {
      "application/vnd.jupyter.widget-view+json": {
       "model_id": "83b02e8ed9264290930a36a09da5fccd",
       "version_major": 2,
       "version_minor": 0
      },
      "text/plain": [
       "0it [00:00, ?it/s]"
      ]
     },
     "metadata": {},
     "output_type": "display_data"
    },
    {
     "name": "stdout",
     "output_type": "stream",
     "text": [
      "<<< EVAL >>> loss: 0.3835\n",
      "step 2010 | loss: 0.4303 | lm_loss: 0.4185 | router_z_loss: 0.0018 | router_aux_loss: 0.0099 | lr: 0.000015\n",
      "step 2020 | loss: 0.3774 | lm_loss: 0.3659 | router_z_loss: 0.0016 | router_aux_loss: 0.0099 | lr: 0.000013\n",
      "step 2030 | loss: 0.3979 | lm_loss: 0.3862 | router_z_loss: 0.0018 | router_aux_loss: 0.0099 | lr: 0.000011\n",
      "step 2040 | loss: 0.3444 | lm_loss: 0.3329 | router_z_loss: 0.0017 | router_aux_loss: 0.0098 | lr: 0.000009\n",
      "step 2050 | loss: 0.3665 | lm_loss: 0.3548 | router_z_loss: 0.0018 | router_aux_loss: 0.0099 | lr: 0.000007\n"
     ]
    },
    {
     "data": {
      "application/vnd.jupyter.widget-view+json": {
       "model_id": "85659b4b345b4b75a26ed3bca5dafa4d",
       "version_major": 2,
       "version_minor": 0
      },
      "text/plain": [
       "0it [00:00, ?it/s]"
      ]
     },
     "metadata": {},
     "output_type": "display_data"
    },
    {
     "name": "stdout",
     "output_type": "stream",
     "text": [
      "<<< EVAL >>> loss: 0.3885\n",
      "step 2060 | loss: 0.4335 | lm_loss: 0.4221 | router_z_loss: 0.0016 | router_aux_loss: 0.0098 | lr: 0.000005\n",
      "step 2070 | loss: 0.3745 | lm_loss: 0.3629 | router_z_loss: 0.0017 | router_aux_loss: 0.0099 | lr: 0.000003\n",
      "step 2080 | loss: 0.3213 | lm_loss: 0.3097 | router_z_loss: 0.0017 | router_aux_loss: 0.0099 | lr: 0.000001\n",
      "Training complete\n"
     ]
    }
   ],
   "source": [
    "trainer.train()"
   ]
  },
  {
   "cell_type": "code",
   "execution_count": null,
   "metadata": {},
   "outputs": [],
   "source": []
  },
  {
   "cell_type": "code",
   "execution_count": null,
   "metadata": {},
   "outputs": [],
   "source": []
  },
  {
   "cell_type": "code",
   "execution_count": 13,
   "metadata": {},
   "outputs": [
    {
     "data": {
      "text/plain": [
       "31"
      ]
     },
     "execution_count": 13,
     "metadata": {},
     "output_type": "execute_result"
    }
   ],
   "source": [
    "len(trainer.eval_dataset) // trainer.total_eval_batch_size\n",
    "\n"
   ]
  },
  {
   "cell_type": "code",
   "execution_count": null,
   "metadata": {},
   "outputs": [],
   "source": []
  },
  {
   "cell_type": "code",
   "execution_count": null,
   "metadata": {},
   "outputs": [],
   "source": []
  },
  {
   "cell_type": "code",
   "execution_count": null,
   "metadata": {},
   "outputs": [],
   "source": []
  },
  {
   "cell_type": "code",
   "execution_count": 10,
   "metadata": {},
   "outputs": [],
   "source": [
    "train_dataloader = DataLoader(\n",
    "    tokenized_dataset[\"train\"],\n",
    "    batch_size=trainer.total_train_batch_size,\n",
    "    shuffle=True,\n",
    ")\n",
    "\n",
    "\n"
   ]
  },
  {
   "cell_type": "code",
   "execution_count": 11,
   "metadata": {},
   "outputs": [],
   "source": [
    "for batch in train_dataloader:\n",
    "    collated = collator(batch)\n",
    "    break\n"
   ]
  },
  {
   "cell_type": "code",
   "execution_count": 12,
   "metadata": {},
   "outputs": [
    {
     "data": {
      "text/plain": [
       "{'input_ids': tensor([[ 0,  9,  7,  ...,  1,  1,  1],\n",
       "         [ 0, 32,  7,  ...,  1,  1,  1],\n",
       "         [ 0,  9,  7,  ...,  1,  1,  1],\n",
       "         ...,\n",
       "         [ 0, 16,  7,  ...,  1,  1,  1],\n",
       "         [ 0,  9,  7,  ...,  1,  1,  1],\n",
       "         [ 0, 32,  7,  ...,  1,  1,  1]]),\n",
       " 'labels': tensor([[-100, -100, -100,  ..., -100, -100, -100],\n",
       "         [-100,   16, -100,  ..., -100, -100, -100],\n",
       "         [-100, -100, -100,  ..., -100, -100, -100],\n",
       "         ...,\n",
       "         [-100, -100, -100,  ..., -100, -100, -100],\n",
       "         [-100, -100, -100,  ..., -100, -100, -100],\n",
       "         [-100,   16, -100,  ..., -100, -100, -100]]),\n",
       " 'key_padding_mask': tensor([[False, False, False,  ...,  True,  True,  True],\n",
       "         [False, False, False,  ...,  True,  True,  True],\n",
       "         [False, False, False,  ...,  True,  True,  True],\n",
       "         ...,\n",
       "         [False, False, False,  ...,  True,  True,  True],\n",
       "         [False, False, False,  ...,  True,  True,  True],\n",
       "         [False, False, False,  ...,  True,  True,  True]])}"
      ]
     },
     "execution_count": 12,
     "metadata": {},
     "output_type": "execute_result"
    }
   ],
   "source": [
    "collated"
   ]
  },
  {
   "cell_type": "code",
   "execution_count": null,
   "metadata": {},
   "outputs": [],
   "source": []
  },
  {
   "cell_type": "code",
   "execution_count": null,
   "metadata": {},
   "outputs": [],
   "source": []
  },
  {
   "cell_type": "code",
   "execution_count": null,
   "metadata": {},
   "outputs": [],
   "source": []
  },
  {
   "cell_type": "code",
   "execution_count": null,
   "metadata": {},
   "outputs": [],
   "source": []
  },
  {
   "cell_type": "code",
   "execution_count": null,
   "metadata": {},
   "outputs": [],
   "source": []
  },
  {
   "cell_type": "code",
   "execution_count": null,
   "metadata": {},
   "outputs": [],
   "source": []
  },
  {
   "cell_type": "code",
   "execution_count": null,
   "metadata": {},
   "outputs": [],
   "source": []
  }
 ],
 "metadata": {
  "kernelspec": {
   "display_name": "base",
   "language": "python",
   "name": "python3"
  },
  "language_info": {
   "codemirror_mode": {
    "name": "ipython",
    "version": 3
   },
   "file_extension": ".py",
   "mimetype": "text/x-python",
   "name": "python",
   "nbconvert_exporter": "python",
   "pygments_lexer": "ipython3",
   "version": "3.11.6"
  }
 },
 "nbformat": 4,
 "nbformat_minor": 2
}
