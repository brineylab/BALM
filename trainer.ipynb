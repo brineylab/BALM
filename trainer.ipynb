{
 "cells": [
  {
   "cell_type": "code",
   "execution_count": 7,
   "metadata": {},
   "outputs": [],
   "source": [
    "from typing import Optional, Tuple, List, Dict, Any, Iterable\n",
    "\n",
    "from balm.data import load_dataset, DataCollator, Dataset\n",
    "from balm.models.balm import BalmForMaskedLM\n",
    "from balm.models.balm_moe import BalmMoEForMaskedLM\n",
    "from balm.models.balm_moe_rope import BalmMoERoPEForMaskedLM\n",
    "from balm.tokenizer import Tokenizer\n",
    "\n",
    "from tqdm.auto import tqdm\n",
    "\n",
    "import torch\n",
    "import torch.nn as nn\n",
    "import torch.optim as optim\n",
    "from torch.optim import Optimizer\n",
    "from torch.utils.data import DataLoader"
   ]
  },
  {
   "cell_type": "code",
   "execution_count": 2,
   "metadata": {},
   "outputs": [],
   "source": [
    "tokenizer = Tokenizer(vocab=\"./vocab.json\")"
   ]
  },
  {
   "cell_type": "code",
   "execution_count": 3,
   "metadata": {},
   "outputs": [],
   "source": [
    "def remove_sep(txt):\n",
    "    return txt.replace(\"</s>\", \"<cls><cls>\")\n",
    "\n",
    "\n",
    "data_files = {\n",
    "    \"train\": \"./balm/test_data/test_1k.txt\",\n",
    "    \"test\": \"./balm/test_data/test_1k.txt\",\n",
    "    \"eval\": \"./balm/test_data/test_1k.txt\",\n",
    "}\n",
    "\n",
    "dataset = load_dataset(\"text\", data_files=data_files, preprocess_fn=remove_sep)"
   ]
  },
  {
   "cell_type": "code",
   "execution_count": 4,
   "metadata": {},
   "outputs": [
    {
     "data": {
      "application/vnd.jupyter.widget-view+json": {
       "model_id": "6f6fde3b7133475da0f71a87884e6735",
       "version_major": 2,
       "version_minor": 0
      },
      "text/plain": [
       "  0%|          | 0/1000 [00:00<?, ?it/s]"
      ]
     },
     "metadata": {},
     "output_type": "display_data"
    },
    {
     "data": {
      "application/vnd.jupyter.widget-view+json": {
       "model_id": "3631bc0c7c8845d2927f33f92bb628b0",
       "version_major": 2,
       "version_minor": 0
      },
      "text/plain": [
       "  0%|          | 0/1000 [00:00<?, ?it/s]"
      ]
     },
     "metadata": {},
     "output_type": "display_data"
    },
    {
     "data": {
      "application/vnd.jupyter.widget-view+json": {
       "model_id": "3ed2aaa0832a4ca682b46527b87565eb",
       "version_major": 2,
       "version_minor": 0
      },
      "text/plain": [
       "  0%|          | 0/1000 [00:00<?, ?it/s]"
      ]
     },
     "metadata": {},
     "output_type": "display_data"
    }
   ],
   "source": [
    "tokenized_dataset = dataset.map(\n",
    "    lambda x: tokenizer(\n",
    "        x[\"text\"],\n",
    "        padding=True,\n",
    "        truncation=True,\n",
    "        max_length=320,\n",
    "    ),\n",
    "    # remove_columns=\"text\"\n",
    ")"
   ]
  },
  {
   "cell_type": "code",
   "execution_count": 5,
   "metadata": {},
   "outputs": [],
   "source": [
    "collator = DataCollator(tokenizer=tokenizer)"
   ]
  },
  {
   "cell_type": "code",
   "execution_count": 10,
   "metadata": {},
   "outputs": [],
   "source": [
    "train_dataloader = DataLoader(\n",
    "    tokenized_dataset[\"train\"],\n",
    "    batch_size=32,\n",
    "    shuffle=True,\n",
    ")\n",
    "\n"
   ]
  },
  {
   "cell_type": "code",
   "execution_count": 21,
   "metadata": {},
   "outputs": [],
   "source": [
    "model = BalmMoERoPEForMaskedLM(\n",
    "# model = BalmMoEForMaskedLM(\n",
    "    embed_dim=256,\n",
    "    ffn_dim=1024,\n",
    "    num_experts=4,\n",
    "    num_layers=8,\n",
    "    num_heads=8,\n",
    "    expert_capacity=128,\n",
    "    router_z_loss_coef=0.01,\n",
    "    router_aux_loss_coef=0.01,\n",
    "    vocab_size=tokenizer.vocab_size,\n",
    ")\n",
    "\n",
    "optimizer = optim.Adam(model.parameters(), lr=4e-4)\n",
    "\n"
   ]
  },
  {
   "cell_type": "code",
   "execution_count": 22,
   "metadata": {},
   "outputs": [
    {
     "data": {
      "text/plain": [
       "18982689"
      ]
     },
     "execution_count": 22,
     "metadata": {},
     "output_type": "execute_result"
    }
   ],
   "source": [
    "model.num_parameters"
   ]
  },
  {
   "cell_type": "code",
   "execution_count": null,
   "metadata": {},
   "outputs": [],
   "source": []
  },
  {
   "cell_type": "code",
   "execution_count": null,
   "metadata": {},
   "outputs": [],
   "source": []
  },
  {
   "cell_type": "code",
   "execution_count": null,
   "metadata": {},
   "outputs": [],
   "source": [
    "class TrainerBase:\n",
    "    def __init__(\n",
    "        self, \n",
    "        model: nn.Module, \n",
    "        data_collator: DataCollator, \n",
    "        optimizer: Optional[Optimizer] = None,\n",
    "        train_dataset: Optional[Dataset] = None,\n",
    "        eval_dataset: Optional[Dataset] = None,\n",
    "    ):\n",
    "        self.model = model\n",
    "        self.data_collator = data_collator\n",
    "        self.optimizer = optimizer\n",
    "        self.train_dataset = train_dataset\n",
    "        self.eval_dataset = eval_dataset\n",
    "        \n",
    "\n",
    "    def train(self, dataloader):\n",
    "        self.model.train()\n",
    "        total_loss = 0\n",
    "        for batch in tqdm(dataloader):\n",
    "            inputs = self.collator(batch)\n",
    "            outputs = self.model(**inputs)\n",
    "            loss = outputs[\"loss\"]\n",
    "            loss.backward()\n",
    "            self.optimizer.step()\n",
    "            self.optimizer.zero_grad()\n",
    "            total_loss += loss.item()\n",
    "        return total_loss / len(dataloader)"
   ]
  },
  {
   "cell_type": "code",
   "execution_count": null,
   "metadata": {},
   "outputs": [],
   "source": [
    "\n",
    "\n",
    "\n",
    "\n",
    "class Trainer:\n",
    "    def __init__(self, model, optimizer, collator):\n",
    "        self.model = model\n",
    "        self.optimizer = optimizer\n",
    "        self.collator = collator\n",
    "\n",
    "    def train(self, dataloader):\n",
    "        self.model.train()\n",
    "        total_loss = 0\n",
    "        for batch in tqdm(dataloader):\n",
    "            inputs = self.collator(batch)\n",
    "            outputs = self.model(**inputs)\n",
    "            loss = outputs[\"loss\"]\n",
    "            loss.backward()\n",
    "            self.optimizer.step()\n",
    "            self.optimizer.zero_grad()\n",
    "            total_loss += loss.item()\n",
    "        return total_loss / len(dataloader)"
   ]
  },
  {
   "cell_type": "code",
   "execution_count": null,
   "metadata": {},
   "outputs": [],
   "source": []
  },
  {
   "cell_type": "code",
   "execution_count": null,
   "metadata": {},
   "outputs": [],
   "source": []
  },
  {
   "cell_type": "code",
   "execution_count": 23,
   "metadata": {},
   "outputs": [
    {
     "data": {
      "application/vnd.jupyter.widget-view+json": {
       "model_id": "965841ceaef14504b629b718b99d0d26",
       "version_major": 2,
       "version_minor": 0
      },
      "text/plain": [
       "  0%|          | 0/320 [00:00<?, ?it/s]"
      ]
     },
     "metadata": {},
     "output_type": "display_data"
    },
    {
     "name": "stdout",
     "output_type": "stream",
     "text": [
      "step: 5, total Loss: 2.9079, LM loss: 2.8777, router z loss: 0.0200, router aux loss: 0.0102  \n",
      "step: 10, total Loss: 2.7819, LM loss: 2.7577, router z loss: 0.0139, router aux loss: 0.0102  \n",
      "step: 15, total Loss: 2.6750, LM loss: 2.6553, router z loss: 0.0093, router aux loss: 0.0103  \n",
      "step: 20, total Loss: 2.6537, LM loss: 2.6370, router z loss: 0.0064, router aux loss: 0.0103  \n",
      "step: 25, total Loss: 2.6363, LM loss: 2.6218, router z loss: 0.0042, router aux loss: 0.0103  \n",
      "step: 30, total Loss: 2.6445, LM loss: 2.6313, router z loss: 0.0030, router aux loss: 0.0102  \n",
      "step: 35, total Loss: 2.6384, LM loss: 2.6260, router z loss: 0.0021, router aux loss: 0.0102  \n",
      "step: 40, total Loss: 2.6215, LM loss: 2.6099, router z loss: 0.0015, router aux loss: 0.0101  \n",
      "step: 45, total Loss: 2.6362, LM loss: 2.6248, router z loss: 0.0012, router aux loss: 0.0101  \n",
      "step: 50, total Loss: 2.6394, LM loss: 2.6281, router z loss: 0.0011, router aux loss: 0.0102  \n",
      "step: 55, total Loss: 2.6453, LM loss: 2.6342, router z loss: 0.0010, router aux loss: 0.0101  \n",
      "step: 60, total Loss: 2.6612, LM loss: 2.6503, router z loss: 0.0008, router aux loss: 0.0101  \n",
      "step: 65, total Loss: 2.6483, LM loss: 2.6375, router z loss: 0.0008, router aux loss: 0.0100  \n",
      "step: 70, total Loss: 2.6497, LM loss: 2.6388, router z loss: 0.0008, router aux loss: 0.0101  \n"
     ]
    }
   ],
   "source": [
    "n_epochs = 10\n",
    "\n",
    "model.train()\n",
    "# pbar = tqdm(total=len(train_dataloader) * train_dataloader.batch_size * n_epochs)\n",
    "pbar = tqdm(total=len(train_dataloader) * n_epochs)\n",
    "n_steps = 0\n",
    "pbar.reset()\n",
    "for epoch in range(n_epochs):\n",
    "    for examples in train_dataloader:\n",
    "        optimizer.zero_grad()\n",
    "        collated = collator(examples[\"input_ids\"])\n",
    "        outputs = model(\n",
    "            input_ids=collated[\"input_ids\"],\n",
    "            labels=collated.get(\"labels\", None),\n",
    "            key_padding_mask=collated.get(\"attention_mask\", None),\n",
    "        )\n",
    "        loss = outputs.loss\n",
    "        loss.backward()\n",
    "        optimizer.step()\n",
    "        # pbar.update(train_dataloader.batch_size)\n",
    "        pbar.update(1)\n",
    "        pbar.refresh()\n",
    "        n_steps += 1\n",
    "        if n_steps % 5 == 0:\n",
    "            print(\n",
    "                f\"step: {n_steps}, total Loss: {loss.item():.4f}, LM loss: {outputs.lm_loss.item():.4f}, router z loss: {outputs.router_z_loss.item():.4f}, router aux loss: {outputs.router_aux_loss.item():.4f}  \"\n",
    "            )"
   ]
  },
  {
   "cell_type": "code",
   "execution_count": null,
   "metadata": {},
   "outputs": [],
   "source": []
  },
  {
   "cell_type": "code",
   "execution_count": null,
   "metadata": {},
   "outputs": [],
   "source": []
  },
  {
   "cell_type": "code",
   "execution_count": null,
   "metadata": {},
   "outputs": [],
   "source": []
  }
 ],
 "metadata": {
  "kernelspec": {
   "display_name": "base",
   "language": "python",
   "name": "python3"
  },
  "language_info": {
   "codemirror_mode": {
    "name": "ipython",
    "version": 3
   },
   "file_extension": ".py",
   "mimetype": "text/x-python",
   "name": "python",
   "nbconvert_exporter": "python",
   "pygments_lexer": "ipython3",
   "version": "3.11.8"
  }
 },
 "nbformat": 4,
 "nbformat_minor": 2
}
