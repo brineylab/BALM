{
 "cells": [
  {
   "cell_type": "code",
   "execution_count": 1,
   "metadata": {},
   "outputs": [],
   "source": [
    "from balm.data import load_dataset, DataCollator\n",
    "from balm.models import (\n",
    "    BalmForMaskedLM,\n",
    "    BalmMoEForMaskedLM,\n",
    "    BalmExpertChoiceMoEForMaskedLM,\n",
    "    BalmHybridMoEForMaskedLM,\n",
    ")\n",
    "from balm.tokenizer import Tokenizer\n",
    "from balm.train import Trainer\n",
    "\n",
    "# from datasets import load_dataset\n",
    "# from transformers import Trainer, TrainingArguments, DataCollatorForLanguageModeling, EsmTokenizer\n",
    "\n",
    "import os\n",
    "\n",
    "import wandb\n",
    "\n"
   ]
  },
  {
   "cell_type": "code",
   "execution_count": 2,
   "metadata": {},
   "outputs": [],
   "source": [
    "tokenizer = Tokenizer(vocab=\"./vocab.json\")\n",
    "# tokenizer = EsmTokenizer.from_pretrained(\"./vocab.json\")\n",
    "\n"
   ]
  },
  {
   "cell_type": "code",
   "execution_count": 3,
   "metadata": {},
   "outputs": [],
   "source": [
    "def remove_sep(txt):\n",
    "    return txt.replace(\"</s>\", \"<cls><cls>\")\n",
    "\n",
    "\n",
    "data_files = {\n",
    "    \"train\": \"./balm/test_data/test.txt\",\n",
    "    \"test\": \"./balm/test_data/test_1k.txt\",\n",
    "    \"eval\": \"./balm/test_data/test_1k.txt\",\n",
    "}\n",
    "\n",
    "dataset = load_dataset(\"text\", data_files=data_files, preprocess_fn=remove_sep)"
   ]
  },
  {
   "cell_type": "code",
   "execution_count": 4,
   "metadata": {},
   "outputs": [
    {
     "data": {
      "application/vnd.jupyter.widget-view+json": {
       "model_id": "9ea240a8b6824582967422cbd48ddd42",
       "version_major": 2,
       "version_minor": 0
      },
      "text/plain": [
       "Encoding:   0%|          | 0/66792 [00:00<?, ?it/s]"
      ]
     },
     "metadata": {},
     "output_type": "display_data"
    },
    {
     "data": {
      "application/vnd.jupyter.widget-view+json": {
       "model_id": "0f54e3c0e8544d30b7f6da9a93415b1b",
       "version_major": 2,
       "version_minor": 0
      },
      "text/plain": [
       "Encoding:   0%|          | 0/1000 [00:00<?, ?it/s]"
      ]
     },
     "metadata": {},
     "output_type": "display_data"
    },
    {
     "data": {
      "application/vnd.jupyter.widget-view+json": {
       "model_id": "07279441f94e48bb941df65ede4d55c8",
       "version_major": 2,
       "version_minor": 0
      },
      "text/plain": [
       "Encoding:   0%|          | 0/1000 [00:00<?, ?it/s]"
      ]
     },
     "metadata": {},
     "output_type": "display_data"
    }
   ],
   "source": [
    "tokenized_dataset = dataset.map(\n",
    "    lambda x: tokenizer(\n",
    "        x[\"text\"],\n",
    "        padding=True,\n",
    "        truncation=True,\n",
    "        max_length=320,\n",
    "    ),\n",
    "    remove_columns=\"text\"\n",
    ")"
   ]
  },
  {
   "cell_type": "code",
   "execution_count": 5,
   "metadata": {},
   "outputs": [],
   "source": [
    "collator = DataCollator(tokenizer=tokenizer)\n",
    "# collator = DataCollatorForLanguageModeling(\n",
    "#     tokenizer=tokenizer, \n",
    "#     mlm=True,\n",
    "#     mlm_probability=0.15,\n",
    "# )\n",
    "\n"
   ]
  },
  {
   "cell_type": "code",
   "execution_count": null,
   "metadata": {},
   "outputs": [],
   "source": []
  },
  {
   "cell_type": "code",
   "execution_count": 6,
   "metadata": {},
   "outputs": [],
   "source": [
    "# # matched to ESM-2 8M\n",
    "# model = BalmForMaskedLM(\n",
    "#     embed_dim=320,\n",
    "#     ffn_dim=320*4,\n",
    "#     num_layers=6,\n",
    "#     num_heads=20,\n",
    "#     vocab_size=tokenizer.vocab_size,\n",
    "# )\n",
    "\n",
    "# # matched to ESM-2 8M\n",
    "# model = BalmMoEForMaskedLM(\n",
    "#     embed_dim=320,\n",
    "#     ffn_dim=320*4,\n",
    "#     num_experts=8,\n",
    "#     num_shared_experts=0,\n",
    "#     num_layers=6,\n",
    "#     num_heads=20,\n",
    "#     alternate_sparsity=True,\n",
    "#     router_top_k=1,\n",
    "#     expert_capacity=128,\n",
    "#     router_z_loss_coef=0.01,\n",
    "#     router_aux_loss_coef=0.01,\n",
    "#     vocab_size=tokenizer.vocab_size,\n",
    "# )\n",
    "\n",
    "# matched to ESM-2 8M\n",
    "model = BalmExpertChoiceMoEForMaskedLM(\n",
    "    embed_dim=320,\n",
    "    ffn_dim=320 * 4,\n",
    "    num_experts=8,\n",
    "    num_shared_experts=0,\n",
    "    num_layers=6,\n",
    "    num_heads=20,\n",
    "    alternate_sparsity=False,\n",
    "    expert_capacity=128,\n",
    "    router_z_loss_coef=0.01,\n",
    "    vocab_size=tokenizer.vocab_size,\n",
    ")"
   ]
  },
  {
   "cell_type": "code",
   "execution_count": 7,
   "metadata": {},
   "outputs": [
    {
     "data": {
      "text/plain": [
       "41935073"
      ]
     },
     "execution_count": 7,
     "metadata": {},
     "output_type": "execute_result"
    }
   ],
   "source": [
    "model.num_parameters"
   ]
  },
  {
   "cell_type": "code",
   "execution_count": null,
   "metadata": {},
   "outputs": [],
   "source": []
  },
  {
   "cell_type": "code",
   "execution_count": 8,
   "metadata": {},
   "outputs": [],
   "source": [
    "trainer = Trainer(\n",
    "    model=model,\n",
    "    data_collator=collator,\n",
    "    train_dataset=tokenized_dataset[\"train\"],\n",
    "    eval_dataset=tokenized_dataset[\"eval\"],\n",
    "    epochs=1,\n",
    "    logging_steps=5,\n",
    "    eval_steps=10,\n",
    "    warmup_steps=10,\n",
    "    per_device_train_batch_size=32,\n",
    "    # use_cpu=True,\n",
    "    use_wandb=True,\n",
    "    wandb_project=\"test_wandb_logging\",\n",
    "    # wandb_entity=\"bryanbriney\",\n",
    "    run_name=\"test_wandb_logging_003\",\n",
    ")\n",
    "\n",
    "# training_args = TrainingArguments(\n",
    "#     output_dir=\"~/Desktop/training\",\n",
    "#     logging_dir=\"~/Desktop/training/log\",\n",
    "#     per_device_train_batch_size=32,\n",
    "#     learning_rate=1e-4,\n",
    "#     max_steps=2000,\n",
    "#     gradient_accumulation_steps=1,\n",
    "#     logging_steps=10,\n",
    "#     eval_steps=50,\n",
    "#     warmup_steps=100,\n",
    "#     use_cpu=True,\n",
    "#     report_to=\"none\"\n",
    "# )\n",
    "\n",
    "# trainer = Trainer(\n",
    "#     model=model,\n",
    "#     args=training_args,\n",
    "#     data_collator=collator,\n",
    "#     train_dataset=tokenized_dataset[\"train\"],\n",
    "#     eval_dataset=tokenized_dataset[\"eval\"],\n",
    "# )\n",
    "\n",
    "\n"
   ]
  },
  {
   "cell_type": "code",
   "execution_count": 9,
   "metadata": {},
   "outputs": [
    {
     "name": "stderr",
     "output_type": "stream",
     "text": [
      "\u001b[34m\u001b[1mwandb\u001b[0m: Currently logged in as: \u001b[33mbryanbriney\u001b[0m (\u001b[33mthebrineylab\u001b[0m). Use \u001b[1m`wandb login --relogin`\u001b[0m to force relogin\n"
     ]
    },
    {
     "data": {
      "text/plain": [
       "True"
      ]
     },
     "execution_count": 9,
     "metadata": {},
     "output_type": "execute_result"
    }
   ],
   "source": [
    "os.environ[\"WANDB_PROJECT\"] = trainer.run_name\n",
    "wandb.login()"
   ]
  },
  {
   "cell_type": "code",
   "execution_count": 10,
   "metadata": {},
   "outputs": [
    {
     "name": "stderr",
     "output_type": "stream",
     "text": [
      "\u001b[34m\u001b[1mwandb\u001b[0m: Currently logged in as: \u001b[33mbryanbriney\u001b[0m. Use \u001b[1m`wandb login --relogin`\u001b[0m to force relogin\n"
     ]
    },
    {
     "data": {
      "text/html": [
       "wandb version 0.16.6 is available!  To upgrade, please run:\n",
       " $ pip install wandb --upgrade"
      ],
      "text/plain": [
       "<IPython.core.display.HTML object>"
      ]
     },
     "metadata": {},
     "output_type": "display_data"
    },
    {
     "data": {
      "text/html": [
       "Tracking run with wandb version 0.16.1"
      ],
      "text/plain": [
       "<IPython.core.display.HTML object>"
      ]
     },
     "metadata": {},
     "output_type": "display_data"
    },
    {
     "data": {
      "text/html": [
       "Run data is saved locally in <code>/Users/bryanbriney/git/BALM/wandb/run-20240502_131900-2gbxv9zt</code>"
      ],
      "text/plain": [
       "<IPython.core.display.HTML object>"
      ]
     },
     "metadata": {},
     "output_type": "display_data"
    },
    {
     "data": {
      "text/html": [
       "Syncing run <strong><a href='https://wandb.ai/bryanbriney/test_wandb_logging/runs/2gbxv9zt' target=\"_blank\">test_wandb_logging_003</a></strong> to <a href='https://wandb.ai/bryanbriney/test_wandb_logging' target=\"_blank\">Weights & Biases</a> (<a href='https://wandb.me/run' target=\"_blank\">docs</a>)<br/>"
      ],
      "text/plain": [
       "<IPython.core.display.HTML object>"
      ]
     },
     "metadata": {},
     "output_type": "display_data"
    },
    {
     "data": {
      "text/html": [
       " View project at <a href='https://wandb.ai/bryanbriney/test_wandb_logging' target=\"_blank\">https://wandb.ai/bryanbriney/test_wandb_logging</a>"
      ],
      "text/plain": [
       "<IPython.core.display.HTML object>"
      ]
     },
     "metadata": {},
     "output_type": "display_data"
    },
    {
     "data": {
      "text/html": [
       " View run at <a href='https://wandb.ai/bryanbriney/test_wandb_logging/runs/2gbxv9zt' target=\"_blank\">https://wandb.ai/bryanbriney/test_wandb_logging/runs/2gbxv9zt</a>"
      ],
      "text/plain": [
       "<IPython.core.display.HTML object>"
      ]
     },
     "metadata": {},
     "output_type": "display_data"
    },
    {
     "data": {
      "application/vnd.jupyter.widget-view+json": {
       "model_id": "f313268eceb043c2814074ad3bcc5eac",
       "version_major": 2,
       "version_minor": 0
      },
      "text/plain": [
       "Training:   0%|          | 0/2087 [00:00<?, ?step/s]"
      ]
     },
     "metadata": {},
     "output_type": "display_data"
    },
    {
     "name": "stdout",
     "output_type": "stream",
     "text": [
      "step 5     | loss: 3.0656 | MLM loss: 3.0134 | router z-loss: 0.0522 | lr: 0.000200\n",
      "step 10    | loss: 2.8217 | MLM loss: 2.7818 | router z-loss: 0.0399 | lr: 0.000400\n"
     ]
    },
    {
     "data": {
      "application/vnd.jupyter.widget-view+json": {
       "model_id": "",
       "version_major": 2,
       "version_minor": 0
      },
      "text/plain": [
       "Evaluating:   0%|          | 0/31 [00:00<?, ?step/s]"
      ]
     },
     "metadata": {},
     "output_type": "display_data"
    },
    {
     "name": "stdout",
     "output_type": "stream",
     "text": [
      "<< EVAL >> | loss: 2.9026 | accuracy: 0.1677 | perplexity: 16.0625\n",
      "step 15    | loss: 2.6807 | MLM loss: 2.6556 | router z-loss: 0.0251 | lr: 0.000399\n",
      "step 20    | loss: 2.5866 | MLM loss: 2.5709 | router z-loss: 0.0157 | lr: 0.000398\n"
     ]
    },
    {
     "data": {
      "application/vnd.jupyter.widget-view+json": {
       "model_id": "",
       "version_major": 2,
       "version_minor": 0
      },
      "text/plain": [
       "Evaluating:   0%|          | 0/31 [00:00<?, ?step/s]"
      ]
     },
     "metadata": {},
     "output_type": "display_data"
    },
    {
     "name": "stdout",
     "output_type": "stream",
     "text": [
      "<< EVAL >> | loss: 2.6845 | accuracy: 0.2361 | perplexity: 13.2902\n",
      "step 25    | loss: 2.5023 | MLM loss: 2.4908 | router z-loss: 0.0115 | lr: 0.000397\n",
      "step 30    | loss: 2.4882 | MLM loss: 2.4807 | router z-loss: 0.0075 | lr: 0.000396\n"
     ]
    },
    {
     "data": {
      "application/vnd.jupyter.widget-view+json": {
       "model_id": "",
       "version_major": 2,
       "version_minor": 0
      },
      "text/plain": [
       "Evaluating:   0%|          | 0/31 [00:00<?, ?step/s]"
      ]
     },
     "metadata": {},
     "output_type": "display_data"
    },
    {
     "name": "stdout",
     "output_type": "stream",
     "text": [
      "<< EVAL >> | loss: 2.5251 | accuracy: 0.2691 | perplexity: 11.4581\n",
      "step 35    | loss: 2.3808 | MLM loss: 2.3757 | router z-loss: 0.0051 | lr: 0.000395\n",
      "step 40    | loss: 2.2835 | MLM loss: 2.2784 | router z-loss: 0.0051 | lr: 0.000394\n"
     ]
    },
    {
     "data": {
      "application/vnd.jupyter.widget-view+json": {
       "model_id": "",
       "version_major": 2,
       "version_minor": 0
      },
      "text/plain": [
       "Evaluating:   0%|          | 0/31 [00:00<?, ?step/s]"
      ]
     },
     "metadata": {},
     "output_type": "display_data"
    },
    {
     "name": "stdout",
     "output_type": "stream",
     "text": [
      "<< EVAL >> | loss: 2.3321 | accuracy: 0.3114 | perplexity: 9.5447\n",
      "step 45    | loss: 2.1816 | MLM loss: 2.1765 | router z-loss: 0.0051 | lr: 0.000393\n",
      "step 50    | loss: 2.1834 | MLM loss: 2.1791 | router z-loss: 0.0043 | lr: 0.000392\n"
     ]
    },
    {
     "data": {
      "application/vnd.jupyter.widget-view+json": {
       "model_id": "",
       "version_major": 2,
       "version_minor": 0
      },
      "text/plain": [
       "Evaluating:   0%|          | 0/31 [00:00<?, ?step/s]"
      ]
     },
     "metadata": {},
     "output_type": "display_data"
    },
    {
     "name": "stdout",
     "output_type": "stream",
     "text": [
      "<< EVAL >> | loss: 2.2307 | accuracy: 0.3303 | perplexity: 8.6332\n",
      "step 55    | loss: 2.1308 | MLM loss: 2.1271 | router z-loss: 0.0037 | lr: 0.000391\n",
      "step 60    | loss: 2.1047 | MLM loss: 2.1019 | router z-loss: 0.0028 | lr: 0.000390\n"
     ]
    },
    {
     "data": {
      "application/vnd.jupyter.widget-view+json": {
       "model_id": "",
       "version_major": 2,
       "version_minor": 0
      },
      "text/plain": [
       "Evaluating:   0%|          | 0/31 [00:00<?, ?step/s]"
      ]
     },
     "metadata": {},
     "output_type": "display_data"
    },
    {
     "name": "stdout",
     "output_type": "stream",
     "text": [
      "<< EVAL >> | loss: 2.1921 | accuracy: 0.3454 | perplexity: 8.3362\n",
      "step 65    | loss: 2.1631 | MLM loss: 2.1607 | router z-loss: 0.0025 | lr: 0.000389\n",
      "step 70    | loss: 2.0298 | MLM loss: 2.0271 | router z-loss: 0.0027 | lr: 0.000388\n"
     ]
    },
    {
     "data": {
      "application/vnd.jupyter.widget-view+json": {
       "model_id": "",
       "version_major": 2,
       "version_minor": 0
      },
      "text/plain": [
       "Evaluating:   0%|          | 0/31 [00:00<?, ?step/s]"
      ]
     },
     "metadata": {},
     "output_type": "display_data"
    },
    {
     "name": "stdout",
     "output_type": "stream",
     "text": [
      "<< EVAL >> | loss: 2.1380 | accuracy: 0.3432 | perplexity: 7.8777\n",
      "step 75    | loss: 2.0287 | MLM loss: 2.0263 | router z-loss: 0.0024 | lr: 0.000387\n",
      "step 80    | loss: 1.9865 | MLM loss: 1.9848 | router z-loss: 0.0017 | lr: 0.000387\n"
     ]
    },
    {
     "data": {
      "application/vnd.jupyter.widget-view+json": {
       "model_id": "",
       "version_major": 2,
       "version_minor": 0
      },
      "text/plain": [
       "Evaluating:   0%|          | 0/31 [00:00<?, ?step/s]"
      ]
     },
     "metadata": {},
     "output_type": "display_data"
    },
    {
     "name": "stdout",
     "output_type": "stream",
     "text": [
      "<< EVAL >> | loss: 2.0994 | accuracy: 0.3594 | perplexity: 7.6302\n",
      "step 85    | loss: 2.0367 | MLM loss: 2.0347 | router z-loss: 0.0020 | lr: 0.000386\n",
      "step 90    | loss: 2.0957 | MLM loss: 2.0937 | router z-loss: 0.0020 | lr: 0.000385\n"
     ]
    },
    {
     "data": {
      "application/vnd.jupyter.widget-view+json": {
       "model_id": "",
       "version_major": 2,
       "version_minor": 0
      },
      "text/plain": [
       "Evaluating:   0%|          | 0/31 [00:00<?, ?step/s]"
      ]
     },
     "metadata": {},
     "output_type": "display_data"
    },
    {
     "name": "stdout",
     "output_type": "stream",
     "text": [
      "<< EVAL >> | loss: 2.0972 | accuracy: 0.3627 | perplexity: 7.5885\n",
      "step 95    | loss: 2.0289 | MLM loss: 2.0272 | router z-loss: 0.0017 | lr: 0.000384\n",
      "step 100   | loss: 2.0232 | MLM loss: 2.0215 | router z-loss: 0.0017 | lr: 0.000383\n"
     ]
    },
    {
     "data": {
      "application/vnd.jupyter.widget-view+json": {
       "model_id": "",
       "version_major": 2,
       "version_minor": 0
      },
      "text/plain": [
       "Evaluating:   0%|          | 0/31 [00:00<?, ?step/s]"
      ]
     },
     "metadata": {},
     "output_type": "display_data"
    },
    {
     "name": "stdout",
     "output_type": "stream",
     "text": [
      "<< EVAL >> | loss: 2.0661 | accuracy: 0.3746 | perplexity: 7.3874\n",
      "step 105   | loss: 2.0745 | MLM loss: 2.0731 | router z-loss: 0.0014 | lr: 0.000382\n",
      "step 110   | loss: 1.9222 | MLM loss: 1.9205 | router z-loss: 0.0017 | lr: 0.000381\n"
     ]
    },
    {
     "data": {
      "application/vnd.jupyter.widget-view+json": {
       "model_id": "",
       "version_major": 2,
       "version_minor": 0
      },
      "text/plain": [
       "Evaluating:   0%|          | 0/31 [00:00<?, ?step/s]"
      ]
     },
     "metadata": {},
     "output_type": "display_data"
    },
    {
     "name": "stdout",
     "output_type": "stream",
     "text": [
      "<< EVAL >> | loss: 2.0395 | accuracy: 0.3770 | perplexity: 7.2006\n",
      "step 115   | loss: 2.0008 | MLM loss: 1.9996 | router z-loss: 0.0013 | lr: 0.000380\n",
      "step 120   | loss: 1.9066 | MLM loss: 1.9051 | router z-loss: 0.0015 | lr: 0.000379\n"
     ]
    },
    {
     "data": {
      "application/vnd.jupyter.widget-view+json": {
       "model_id": "",
       "version_major": 2,
       "version_minor": 0
      },
      "text/plain": [
       "Evaluating:   0%|          | 0/31 [00:00<?, ?step/s]"
      ]
     },
     "metadata": {},
     "output_type": "display_data"
    },
    {
     "name": "stdout",
     "output_type": "stream",
     "text": [
      "<< EVAL >> | loss: 2.0139 | accuracy: 0.3987 | perplexity: 7.0054\n",
      "step 125   | loss: 1.8896 | MLM loss: 1.8883 | router z-loss: 0.0013 | lr: 0.000378\n",
      "step 130   | loss: 2.0047 | MLM loss: 2.0031 | router z-loss: 0.0016 | lr: 0.000377\n"
     ]
    },
    {
     "data": {
      "application/vnd.jupyter.widget-view+json": {
       "model_id": "",
       "version_major": 2,
       "version_minor": 0
      },
      "text/plain": [
       "Evaluating:   0%|          | 0/31 [00:00<?, ?step/s]"
      ]
     },
     "metadata": {},
     "output_type": "display_data"
    },
    {
     "name": "stdout",
     "output_type": "stream",
     "text": [
      "<< EVAL >> | loss: 2.0058 | accuracy: 0.3891 | perplexity: 6.9721\n",
      "step 135   | loss: 1.9444 | MLM loss: 1.9434 | router z-loss: 0.0010 | lr: 0.000376\n",
      "step 140   | loss: 1.9980 | MLM loss: 1.9969 | router z-loss: 0.0011 | lr: 0.000375\n"
     ]
    },
    {
     "data": {
      "application/vnd.jupyter.widget-view+json": {
       "model_id": "",
       "version_major": 2,
       "version_minor": 0
      },
      "text/plain": [
       "Evaluating:   0%|          | 0/31 [00:00<?, ?step/s]"
      ]
     },
     "metadata": {},
     "output_type": "display_data"
    },
    {
     "name": "stdout",
     "output_type": "stream",
     "text": [
      "<< EVAL >> | loss: 1.9982 | accuracy: 0.4015 | perplexity: 6.9231\n",
      "step 145   | loss: 1.8846 | MLM loss: 1.8837 | router z-loss: 0.0009 | lr: 0.000374\n",
      "step 150   | loss: 1.9132 | MLM loss: 1.9122 | router z-loss: 0.0010 | lr: 0.000373\n"
     ]
    },
    {
     "data": {
      "application/vnd.jupyter.widget-view+json": {
       "model_id": "",
       "version_major": 2,
       "version_minor": 0
      },
      "text/plain": [
       "Evaluating:   0%|          | 0/31 [00:00<?, ?step/s]"
      ]
     },
     "metadata": {},
     "output_type": "display_data"
    },
    {
     "name": "stdout",
     "output_type": "stream",
     "text": [
      "<< EVAL >> | loss: 1.9752 | accuracy: 0.3973 | perplexity: 6.7533\n",
      "step 155   | loss: 1.8043 | MLM loss: 1.8031 | router z-loss: 0.0012 | lr: 0.000372\n",
      "step 160   | loss: 1.9821 | MLM loss: 1.9812 | router z-loss: 0.0009 | lr: 0.000371\n"
     ]
    },
    {
     "data": {
      "application/vnd.jupyter.widget-view+json": {
       "model_id": "",
       "version_major": 2,
       "version_minor": 0
      },
      "text/plain": [
       "Evaluating:   0%|          | 0/31 [00:00<?, ?step/s]"
      ]
     },
     "metadata": {},
     "output_type": "display_data"
    },
    {
     "name": "stdout",
     "output_type": "stream",
     "text": [
      "<< EVAL >> | loss: 1.9658 | accuracy: 0.4060 | perplexity: 6.7055\n",
      "step 165   | loss: 1.9064 | MLM loss: 1.9053 | router z-loss: 0.0011 | lr: 0.000370\n",
      "step 170   | loss: 1.9007 | MLM loss: 1.8998 | router z-loss: 0.0009 | lr: 0.000369\n"
     ]
    },
    {
     "data": {
      "application/vnd.jupyter.widget-view+json": {
       "model_id": "",
       "version_major": 2,
       "version_minor": 0
      },
      "text/plain": [
       "Evaluating:   0%|          | 0/31 [00:00<?, ?step/s]"
      ]
     },
     "metadata": {},
     "output_type": "display_data"
    },
    {
     "name": "stdout",
     "output_type": "stream",
     "text": [
      "<< EVAL >> | loss: 1.9345 | accuracy: 0.4154 | perplexity: 6.5012\n",
      "step 175   | loss: 1.8470 | MLM loss: 1.8460 | router z-loss: 0.0011 | lr: 0.000368\n",
      "step 180   | loss: 1.8733 | MLM loss: 1.8724 | router z-loss: 0.0009 | lr: 0.000367\n"
     ]
    },
    {
     "data": {
      "application/vnd.jupyter.widget-view+json": {
       "model_id": "",
       "version_major": 2,
       "version_minor": 0
      },
      "text/plain": [
       "Evaluating:   0%|          | 0/31 [00:00<?, ?step/s]"
      ]
     },
     "metadata": {},
     "output_type": "display_data"
    },
    {
     "name": "stdout",
     "output_type": "stream",
     "text": [
      "<< EVAL >> | loss: 1.9183 | accuracy: 0.4222 | perplexity: 6.4086\n",
      "step 185   | loss: 1.8328 | MLM loss: 1.8317 | router z-loss: 0.0011 | lr: 0.000366\n",
      "step 190   | loss: 1.8327 | MLM loss: 1.8319 | router z-loss: 0.0008 | lr: 0.000365\n"
     ]
    },
    {
     "data": {
      "application/vnd.jupyter.widget-view+json": {
       "model_id": "",
       "version_major": 2,
       "version_minor": 0
      },
      "text/plain": [
       "Evaluating:   0%|          | 0/31 [00:00<?, ?step/s]"
      ]
     },
     "metadata": {},
     "output_type": "display_data"
    },
    {
     "name": "stdout",
     "output_type": "stream",
     "text": [
      "<< EVAL >> | loss: 1.9046 | accuracy: 0.4295 | perplexity: 6.3177\n",
      "step 195   | loss: 1.8695 | MLM loss: 1.8684 | router z-loss: 0.0011 | lr: 0.000364\n",
      "step 200   | loss: 1.8887 | MLM loss: 1.8878 | router z-loss: 0.0009 | lr: 0.000363\n"
     ]
    },
    {
     "data": {
      "application/vnd.jupyter.widget-view+json": {
       "model_id": "",
       "version_major": 2,
       "version_minor": 0
      },
      "text/plain": [
       "Evaluating:   0%|          | 0/31 [00:00<?, ?step/s]"
      ]
     },
     "metadata": {},
     "output_type": "display_data"
    },
    {
     "name": "stdout",
     "output_type": "stream",
     "text": [
      "<< EVAL >> | loss: 1.8878 | accuracy: 0.4342 | perplexity: 6.2132\n",
      "step 205   | loss: 1.8356 | MLM loss: 1.8344 | router z-loss: 0.0012 | lr: 0.000362\n",
      "step 210   | loss: 1.8127 | MLM loss: 1.8119 | router z-loss: 0.0008 | lr: 0.000361\n"
     ]
    },
    {
     "data": {
      "application/vnd.jupyter.widget-view+json": {
       "model_id": "",
       "version_major": 2,
       "version_minor": 0
      },
      "text/plain": [
       "Evaluating:   0%|          | 0/31 [00:00<?, ?step/s]"
      ]
     },
     "metadata": {},
     "output_type": "display_data"
    },
    {
     "name": "stdout",
     "output_type": "stream",
     "text": [
      "<< EVAL >> | loss: 1.8496 | accuracy: 0.4477 | perplexity: 5.9836\n",
      "step 215   | loss: 1.7959 | MLM loss: 1.7951 | router z-loss: 0.0008 | lr: 0.000361\n",
      "step 220   | loss: 1.8046 | MLM loss: 1.8040 | router z-loss: 0.0006 | lr: 0.000360\n"
     ]
    },
    {
     "data": {
      "application/vnd.jupyter.widget-view+json": {
       "model_id": "",
       "version_major": 2,
       "version_minor": 0
      },
      "text/plain": [
       "Evaluating:   0%|          | 0/31 [00:00<?, ?step/s]"
      ]
     },
     "metadata": {},
     "output_type": "display_data"
    },
    {
     "name": "stdout",
     "output_type": "stream",
     "text": [
      "<< EVAL >> | loss: 1.8359 | accuracy: 0.4528 | perplexity: 5.9134\n",
      "step 225   | loss: 1.8450 | MLM loss: 1.8442 | router z-loss: 0.0008 | lr: 0.000359\n",
      "step 230   | loss: 1.6778 | MLM loss: 1.6767 | router z-loss: 0.0011 | lr: 0.000358\n"
     ]
    },
    {
     "data": {
      "application/vnd.jupyter.widget-view+json": {
       "model_id": "",
       "version_major": 2,
       "version_minor": 0
      },
      "text/plain": [
       "Evaluating:   0%|          | 0/31 [00:00<?, ?step/s]"
      ]
     },
     "metadata": {},
     "output_type": "display_data"
    },
    {
     "name": "stdout",
     "output_type": "stream",
     "text": [
      "<< EVAL >> | loss: 1.8263 | accuracy: 0.4531 | perplexity: 5.8796\n",
      "step 235   | loss: 1.7219 | MLM loss: 1.7210 | router z-loss: 0.0009 | lr: 0.000357\n",
      "step 240   | loss: 1.7962 | MLM loss: 1.7954 | router z-loss: 0.0008 | lr: 0.000356\n"
     ]
    },
    {
     "data": {
      "application/vnd.jupyter.widget-view+json": {
       "model_id": "",
       "version_major": 2,
       "version_minor": 0
      },
      "text/plain": [
       "Evaluating:   0%|          | 0/31 [00:00<?, ?step/s]"
      ]
     },
     "metadata": {},
     "output_type": "display_data"
    },
    {
     "name": "stdout",
     "output_type": "stream",
     "text": [
      "<< EVAL >> | loss: 1.7915 | accuracy: 0.4628 | perplexity: 5.6534\n",
      "step 245   | loss: 1.8240 | MLM loss: 1.8230 | router z-loss: 0.0010 | lr: 0.000355\n",
      "step 250   | loss: 1.7325 | MLM loss: 1.7315 | router z-loss: 0.0011 | lr: 0.000354\n"
     ]
    },
    {
     "data": {
      "application/vnd.jupyter.widget-view+json": {
       "model_id": "",
       "version_major": 2,
       "version_minor": 0
      },
      "text/plain": [
       "Evaluating:   0%|          | 0/31 [00:00<?, ?step/s]"
      ]
     },
     "metadata": {},
     "output_type": "display_data"
    },
    {
     "name": "stdout",
     "output_type": "stream",
     "text": [
      "<< EVAL >> | loss: 1.7699 | accuracy: 0.4728 | perplexity: 5.5534\n",
      "step 255   | loss: 1.7236 | MLM loss: 1.7229 | router z-loss: 0.0008 | lr: 0.000353\n",
      "step 260   | loss: 1.6561 | MLM loss: 1.6552 | router z-loss: 0.0009 | lr: 0.000352\n"
     ]
    },
    {
     "data": {
      "application/vnd.jupyter.widget-view+json": {
       "model_id": "",
       "version_major": 2,
       "version_minor": 0
      },
      "text/plain": [
       "Evaluating:   0%|          | 0/31 [00:00<?, ?step/s]"
      ]
     },
     "metadata": {},
     "output_type": "display_data"
    },
    {
     "name": "stdout",
     "output_type": "stream",
     "text": [
      "<< EVAL >> | loss: 1.7479 | accuracy: 0.4727 | perplexity: 5.4293\n",
      "step 265   | loss: 1.5681 | MLM loss: 1.5673 | router z-loss: 0.0008 | lr: 0.000351\n",
      "step 270   | loss: 1.7180 | MLM loss: 1.7174 | router z-loss: 0.0006 | lr: 0.000350\n"
     ]
    },
    {
     "data": {
      "application/vnd.jupyter.widget-view+json": {
       "model_id": "",
       "version_major": 2,
       "version_minor": 0
      },
      "text/plain": [
       "Evaluating:   0%|          | 0/31 [00:00<?, ?step/s]"
      ]
     },
     "metadata": {},
     "output_type": "display_data"
    },
    {
     "name": "stdout",
     "output_type": "stream",
     "text": [
      "<< EVAL >> | loss: 1.7220 | accuracy: 0.4819 | perplexity: 5.2849\n",
      "step 275   | loss: 1.7614 | MLM loss: 1.7608 | router z-loss: 0.0005 | lr: 0.000349\n",
      "step 280   | loss: 1.6040 | MLM loss: 1.6032 | router z-loss: 0.0008 | lr: 0.000348\n"
     ]
    },
    {
     "data": {
      "application/vnd.jupyter.widget-view+json": {
       "model_id": "",
       "version_major": 2,
       "version_minor": 0
      },
      "text/plain": [
       "Evaluating:   0%|          | 0/31 [00:00<?, ?step/s]"
      ]
     },
     "metadata": {},
     "output_type": "display_data"
    },
    {
     "name": "stdout",
     "output_type": "stream",
     "text": [
      "<< EVAL >> | loss: 1.7050 | accuracy: 0.4921 | perplexity: 5.2205\n",
      "step 285   | loss: 1.6619 | MLM loss: 1.6612 | router z-loss: 0.0006 | lr: 0.000347\n",
      "step 290   | loss: 1.6292 | MLM loss: 1.6282 | router z-loss: 0.0009 | lr: 0.000346\n"
     ]
    },
    {
     "data": {
      "application/vnd.jupyter.widget-view+json": {
       "model_id": "",
       "version_major": 2,
       "version_minor": 0
      },
      "text/plain": [
       "Evaluating:   0%|          | 0/31 [00:00<?, ?step/s]"
      ]
     },
     "metadata": {},
     "output_type": "display_data"
    },
    {
     "name": "stdout",
     "output_type": "stream",
     "text": [
      "<< EVAL >> | loss: 1.6689 | accuracy: 0.4957 | perplexity: 5.0399\n",
      "step 295   | loss: 1.6254 | MLM loss: 1.6247 | router z-loss: 0.0007 | lr: 0.000345\n",
      "step 300   | loss: 1.5964 | MLM loss: 1.5954 | router z-loss: 0.0010 | lr: 0.000344\n"
     ]
    },
    {
     "data": {
      "application/vnd.jupyter.widget-view+json": {
       "model_id": "",
       "version_major": 2,
       "version_minor": 0
      },
      "text/plain": [
       "Evaluating:   0%|          | 0/31 [00:00<?, ?step/s]"
      ]
     },
     "metadata": {},
     "output_type": "display_data"
    },
    {
     "name": "stdout",
     "output_type": "stream",
     "text": [
      "<< EVAL >> | loss: 1.6441 | accuracy: 0.5075 | perplexity: 4.8914\n",
      "step 305   | loss: 1.6410 | MLM loss: 1.6402 | router z-loss: 0.0008 | lr: 0.000343\n",
      "step 310   | loss: 1.5670 | MLM loss: 1.5664 | router z-loss: 0.0006 | lr: 0.000342\n"
     ]
    },
    {
     "data": {
      "application/vnd.jupyter.widget-view+json": {
       "model_id": "",
       "version_major": 2,
       "version_minor": 0
      },
      "text/plain": [
       "Evaluating:   0%|          | 0/31 [00:00<?, ?step/s]"
      ]
     },
     "metadata": {},
     "output_type": "display_data"
    },
    {
     "name": "stdout",
     "output_type": "stream",
     "text": [
      "<< EVAL >> | loss: 1.6074 | accuracy: 0.5153 | perplexity: 4.7431\n",
      "step 315   | loss: 1.5503 | MLM loss: 1.5496 | router z-loss: 0.0007 | lr: 0.000341\n",
      "step 320   | loss: 1.6089 | MLM loss: 1.6082 | router z-loss: 0.0006 | lr: 0.000340\n"
     ]
    },
    {
     "data": {
      "application/vnd.jupyter.widget-view+json": {
       "model_id": "",
       "version_major": 2,
       "version_minor": 0
      },
      "text/plain": [
       "Evaluating:   0%|          | 0/31 [00:00<?, ?step/s]"
      ]
     },
     "metadata": {},
     "output_type": "display_data"
    },
    {
     "name": "stdout",
     "output_type": "stream",
     "text": [
      "<< EVAL >> | loss: 1.5983 | accuracy: 0.5123 | perplexity: 4.6878\n",
      "step 325   | loss: 1.6285 | MLM loss: 1.6277 | router z-loss: 0.0008 | lr: 0.000339\n",
      "step 330   | loss: 1.4674 | MLM loss: 1.4663 | router z-loss: 0.0012 | lr: 0.000338\n"
     ]
    },
    {
     "data": {
      "application/vnd.jupyter.widget-view+json": {
       "model_id": "",
       "version_major": 2,
       "version_minor": 0
      },
      "text/plain": [
       "Evaluating:   0%|          | 0/31 [00:00<?, ?step/s]"
      ]
     },
     "metadata": {},
     "output_type": "display_data"
    },
    {
     "name": "stdout",
     "output_type": "stream",
     "text": [
      "<< EVAL >> | loss: 1.5483 | accuracy: 0.5327 | perplexity: 4.4762\n",
      "step 335   | loss: 1.6008 | MLM loss: 1.6000 | router z-loss: 0.0008 | lr: 0.000337\n",
      "step 340   | loss: 1.5340 | MLM loss: 1.5332 | router z-loss: 0.0008 | lr: 0.000336\n"
     ]
    },
    {
     "data": {
      "application/vnd.jupyter.widget-view+json": {
       "model_id": "",
       "version_major": 2,
       "version_minor": 0
      },
      "text/plain": [
       "Evaluating:   0%|          | 0/31 [00:00<?, ?step/s]"
      ]
     },
     "metadata": {},
     "output_type": "display_data"
    },
    {
     "name": "stdout",
     "output_type": "stream",
     "text": [
      "<< EVAL >> | loss: 1.5238 | accuracy: 0.5412 | perplexity: 4.3838\n",
      "step 345   | loss: 1.3573 | MLM loss: 1.3566 | router z-loss: 0.0006 | lr: 0.000335\n",
      "step 350   | loss: 1.5121 | MLM loss: 1.5116 | router z-loss: 0.0006 | lr: 0.000335\n"
     ]
    },
    {
     "data": {
      "application/vnd.jupyter.widget-view+json": {
       "model_id": "",
       "version_major": 2,
       "version_minor": 0
      },
      "text/plain": [
       "Evaluating:   0%|          | 0/31 [00:00<?, ?step/s]"
      ]
     },
     "metadata": {},
     "output_type": "display_data"
    },
    {
     "name": "stdout",
     "output_type": "stream",
     "text": [
      "<< EVAL >> | loss: 1.4807 | accuracy: 0.5513 | perplexity: 4.1797\n",
      "step 355   | loss: 1.4902 | MLM loss: 1.4895 | router z-loss: 0.0007 | lr: 0.000334\n",
      "step 360   | loss: 1.4241 | MLM loss: 1.4234 | router z-loss: 0.0007 | lr: 0.000333\n"
     ]
    },
    {
     "data": {
      "application/vnd.jupyter.widget-view+json": {
       "model_id": "",
       "version_major": 2,
       "version_minor": 0
      },
      "text/plain": [
       "Evaluating:   0%|          | 0/31 [00:00<?, ?step/s]"
      ]
     },
     "metadata": {},
     "output_type": "display_data"
    },
    {
     "name": "stdout",
     "output_type": "stream",
     "text": [
      "<< EVAL >> | loss: 1.4495 | accuracy: 0.5632 | perplexity: 4.0596\n",
      "step 365   | loss: 1.3852 | MLM loss: 1.3847 | router z-loss: 0.0005 | lr: 0.000332\n",
      "step 370   | loss: 1.5135 | MLM loss: 1.5129 | router z-loss: 0.0006 | lr: 0.000331\n"
     ]
    },
    {
     "data": {
      "application/vnd.jupyter.widget-view+json": {
       "model_id": "",
       "version_major": 2,
       "version_minor": 0
      },
      "text/plain": [
       "Evaluating:   0%|          | 0/31 [00:00<?, ?step/s]"
      ]
     },
     "metadata": {},
     "output_type": "display_data"
    },
    {
     "name": "stdout",
     "output_type": "stream",
     "text": [
      "<< EVAL >> | loss: 1.4374 | accuracy: 0.5710 | perplexity: 4.0063\n",
      "step 375   | loss: 1.4257 | MLM loss: 1.4250 | router z-loss: 0.0007 | lr: 0.000330\n",
      "step 380   | loss: 1.4667 | MLM loss: 1.4660 | router z-loss: 0.0006 | lr: 0.000329\n"
     ]
    },
    {
     "data": {
      "application/vnd.jupyter.widget-view+json": {
       "model_id": "",
       "version_major": 2,
       "version_minor": 0
      },
      "text/plain": [
       "Evaluating:   0%|          | 0/31 [00:00<?, ?step/s]"
      ]
     },
     "metadata": {},
     "output_type": "display_data"
    },
    {
     "name": "stdout",
     "output_type": "stream",
     "text": [
      "<< EVAL >> | loss: 1.4145 | accuracy: 0.5758 | perplexity: 3.9336\n",
      "step 385   | loss: 1.3217 | MLM loss: 1.3210 | router z-loss: 0.0007 | lr: 0.000328\n",
      "step 390   | loss: 1.3827 | MLM loss: 1.3822 | router z-loss: 0.0005 | lr: 0.000327\n"
     ]
    },
    {
     "data": {
      "application/vnd.jupyter.widget-view+json": {
       "model_id": "",
       "version_major": 2,
       "version_minor": 0
      },
      "text/plain": [
       "Evaluating:   0%|          | 0/31 [00:00<?, ?step/s]"
      ]
     },
     "metadata": {},
     "output_type": "display_data"
    },
    {
     "name": "stdout",
     "output_type": "stream",
     "text": [
      "<< EVAL >> | loss: 1.3784 | accuracy: 0.5869 | perplexity: 3.7896\n",
      "step 395   | loss: 1.3731 | MLM loss: 1.3725 | router z-loss: 0.0006 | lr: 0.000326\n",
      "step 400   | loss: 1.3318 | MLM loss: 1.3312 | router z-loss: 0.0006 | lr: 0.000325\n"
     ]
    },
    {
     "data": {
      "application/vnd.jupyter.widget-view+json": {
       "model_id": "",
       "version_major": 2,
       "version_minor": 0
      },
      "text/plain": [
       "Evaluating:   0%|          | 0/31 [00:00<?, ?step/s]"
      ]
     },
     "metadata": {},
     "output_type": "display_data"
    },
    {
     "name": "stdout",
     "output_type": "stream",
     "text": [
      "<< EVAL >> | loss: 1.3523 | accuracy: 0.5917 | perplexity: 3.6990\n",
      "step 405   | loss: 1.3158 | MLM loss: 1.3150 | router z-loss: 0.0007 | lr: 0.000324\n",
      "step 410   | loss: 1.2721 | MLM loss: 1.2714 | router z-loss: 0.0006 | lr: 0.000323\n"
     ]
    },
    {
     "data": {
      "application/vnd.jupyter.widget-view+json": {
       "model_id": "",
       "version_major": 2,
       "version_minor": 0
      },
      "text/plain": [
       "Evaluating:   0%|          | 0/31 [00:00<?, ?step/s]"
      ]
     },
     "metadata": {},
     "output_type": "display_data"
    },
    {
     "name": "stdout",
     "output_type": "stream",
     "text": [
      "<< EVAL >> | loss: 1.3458 | accuracy: 0.5936 | perplexity: 3.6807\n",
      "step 415   | loss: 1.2441 | MLM loss: 1.2437 | router z-loss: 0.0005 | lr: 0.000322\n",
      "step 420   | loss: 1.2856 | MLM loss: 1.2851 | router z-loss: 0.0005 | lr: 0.000321\n"
     ]
    },
    {
     "data": {
      "application/vnd.jupyter.widget-view+json": {
       "model_id": "",
       "version_major": 2,
       "version_minor": 0
      },
      "text/plain": [
       "Evaluating:   0%|          | 0/31 [00:00<?, ?step/s]"
      ]
     },
     "metadata": {},
     "output_type": "display_data"
    },
    {
     "name": "stdout",
     "output_type": "stream",
     "text": [
      "<< EVAL >> | loss: 1.2924 | accuracy: 0.6159 | perplexity: 3.4875\n",
      "step 425   | loss: 1.2831 | MLM loss: 1.2823 | router z-loss: 0.0007 | lr: 0.000320\n",
      "step 430   | loss: 1.2572 | MLM loss: 1.2565 | router z-loss: 0.0007 | lr: 0.000319\n"
     ]
    },
    {
     "data": {
      "application/vnd.jupyter.widget-view+json": {
       "model_id": "",
       "version_major": 2,
       "version_minor": 0
      },
      "text/plain": [
       "Evaluating:   0%|          | 0/31 [00:00<?, ?step/s]"
      ]
     },
     "metadata": {},
     "output_type": "display_data"
    },
    {
     "name": "stdout",
     "output_type": "stream",
     "text": [
      "<< EVAL >> | loss: 1.2718 | accuracy: 0.6174 | perplexity: 3.4214\n",
      "step 435   | loss: 1.2592 | MLM loss: 1.2587 | router z-loss: 0.0005 | lr: 0.000318\n",
      "step 440   | loss: 1.1919 | MLM loss: 1.1911 | router z-loss: 0.0008 | lr: 0.000317\n"
     ]
    },
    {
     "data": {
      "application/vnd.jupyter.widget-view+json": {
       "model_id": "",
       "version_major": 2,
       "version_minor": 0
      },
      "text/plain": [
       "Evaluating:   0%|          | 0/31 [00:00<?, ?step/s]"
      ]
     },
     "metadata": {},
     "output_type": "display_data"
    },
    {
     "name": "stdout",
     "output_type": "stream",
     "text": [
      "<< EVAL >> | loss: 1.2458 | accuracy: 0.6256 | perplexity: 3.3419\n",
      "step 445   | loss: 1.1339 | MLM loss: 1.1334 | router z-loss: 0.0006 | lr: 0.000316\n",
      "step 450   | loss: 1.3069 | MLM loss: 1.3064 | router z-loss: 0.0004 | lr: 0.000315\n"
     ]
    },
    {
     "data": {
      "application/vnd.jupyter.widget-view+json": {
       "model_id": "",
       "version_major": 2,
       "version_minor": 0
      },
      "text/plain": [
       "Evaluating:   0%|          | 0/31 [00:00<?, ?step/s]"
      ]
     },
     "metadata": {},
     "output_type": "display_data"
    },
    {
     "name": "stdout",
     "output_type": "stream",
     "text": [
      "<< EVAL >> | loss: 1.2264 | accuracy: 0.6340 | perplexity: 3.2788\n",
      "step 455   | loss: 1.3560 | MLM loss: 1.3555 | router z-loss: 0.0006 | lr: 0.000314\n",
      "step 460   | loss: 1.1547 | MLM loss: 1.1542 | router z-loss: 0.0006 | lr: 0.000313\n"
     ]
    },
    {
     "data": {
      "application/vnd.jupyter.widget-view+json": {
       "model_id": "",
       "version_major": 2,
       "version_minor": 0
      },
      "text/plain": [
       "Evaluating:   0%|          | 0/31 [00:00<?, ?step/s]"
      ]
     },
     "metadata": {},
     "output_type": "display_data"
    },
    {
     "name": "stdout",
     "output_type": "stream",
     "text": [
      "<< EVAL >> | loss: 1.2021 | accuracy: 0.6444 | perplexity: 3.1960\n",
      "step 465   | loss: 1.1748 | MLM loss: 1.1742 | router z-loss: 0.0006 | lr: 0.000312\n",
      "step 470   | loss: 1.1318 | MLM loss: 1.1313 | router z-loss: 0.0005 | lr: 0.000311\n"
     ]
    },
    {
     "data": {
      "application/vnd.jupyter.widget-view+json": {
       "model_id": "",
       "version_major": 2,
       "version_minor": 0
      },
      "text/plain": [
       "Evaluating:   0%|          | 0/31 [00:00<?, ?step/s]"
      ]
     },
     "metadata": {},
     "output_type": "display_data"
    },
    {
     "name": "stdout",
     "output_type": "stream",
     "text": [
      "<< EVAL >> | loss: 1.1725 | accuracy: 0.6545 | perplexity: 3.1066\n",
      "step 475   | loss: 1.2242 | MLM loss: 1.2237 | router z-loss: 0.0005 | lr: 0.000310\n",
      "step 480   | loss: 1.1868 | MLM loss: 1.1862 | router z-loss: 0.0006 | lr: 0.000309\n"
     ]
    },
    {
     "data": {
      "application/vnd.jupyter.widget-view+json": {
       "model_id": "",
       "version_major": 2,
       "version_minor": 0
      },
      "text/plain": [
       "Evaluating:   0%|          | 0/31 [00:00<?, ?step/s]"
      ]
     },
     "metadata": {},
     "output_type": "display_data"
    },
    {
     "name": "stdout",
     "output_type": "stream",
     "text": [
      "<< EVAL >> | loss: 1.1630 | accuracy: 0.6544 | perplexity: 3.0762\n",
      "step 485   | loss: 1.1447 | MLM loss: 1.1442 | router z-loss: 0.0005 | lr: 0.000309\n",
      "step 490   | loss: 1.0445 | MLM loss: 1.0440 | router z-loss: 0.0005 | lr: 0.000308\n"
     ]
    },
    {
     "data": {
      "application/vnd.jupyter.widget-view+json": {
       "model_id": "",
       "version_major": 2,
       "version_minor": 0
      },
      "text/plain": [
       "Evaluating:   0%|          | 0/31 [00:00<?, ?step/s]"
      ]
     },
     "metadata": {},
     "output_type": "display_data"
    },
    {
     "name": "stdout",
     "output_type": "stream",
     "text": [
      "<< EVAL >> | loss: 1.1249 | accuracy: 0.6714 | perplexity: 2.9630\n",
      "step 495   | loss: 1.0627 | MLM loss: 1.0622 | router z-loss: 0.0005 | lr: 0.000307\n",
      "step 500   | loss: 1.1359 | MLM loss: 1.1354 | router z-loss: 0.0004 | lr: 0.000306\n"
     ]
    },
    {
     "data": {
      "application/vnd.jupyter.widget-view+json": {
       "model_id": "",
       "version_major": 2,
       "version_minor": 0
      },
      "text/plain": [
       "Evaluating:   0%|          | 0/31 [00:00<?, ?step/s]"
      ]
     },
     "metadata": {},
     "output_type": "display_data"
    },
    {
     "name": "stdout",
     "output_type": "stream",
     "text": [
      "<< EVAL >> | loss: 1.1052 | accuracy: 0.6809 | perplexity: 2.9067\n",
      "step 505   | loss: 1.0773 | MLM loss: 1.0768 | router z-loss: 0.0005 | lr: 0.000305\n",
      "step 510   | loss: 1.1269 | MLM loss: 1.1265 | router z-loss: 0.0004 | lr: 0.000304\n"
     ]
    },
    {
     "data": {
      "application/vnd.jupyter.widget-view+json": {
       "model_id": "",
       "version_major": 2,
       "version_minor": 0
      },
      "text/plain": [
       "Evaluating:   0%|          | 0/31 [00:00<?, ?step/s]"
      ]
     },
     "metadata": {},
     "output_type": "display_data"
    },
    {
     "name": "stdout",
     "output_type": "stream",
     "text": [
      "<< EVAL >> | loss: 1.0840 | accuracy: 0.6827 | perplexity: 2.8585\n",
      "step 515   | loss: 1.0488 | MLM loss: 1.0484 | router z-loss: 0.0005 | lr: 0.000303\n",
      "step 520   | loss: 1.0230 | MLM loss: 1.0226 | router z-loss: 0.0004 | lr: 0.000302\n"
     ]
    },
    {
     "data": {
      "application/vnd.jupyter.widget-view+json": {
       "model_id": "",
       "version_major": 2,
       "version_minor": 0
      },
      "text/plain": [
       "Evaluating:   0%|          | 0/31 [00:00<?, ?step/s]"
      ]
     },
     "metadata": {},
     "output_type": "display_data"
    },
    {
     "name": "stdout",
     "output_type": "stream",
     "text": [
      "<< EVAL >> | loss: 1.0532 | accuracy: 0.6959 | perplexity: 2.7605\n",
      "step 525   | loss: 1.0049 | MLM loss: 1.0044 | router z-loss: 0.0005 | lr: 0.000301\n",
      "step 530   | loss: 1.0399 | MLM loss: 1.0393 | router z-loss: 0.0005 | lr: 0.000300\n"
     ]
    },
    {
     "data": {
      "application/vnd.jupyter.widget-view+json": {
       "model_id": "",
       "version_major": 2,
       "version_minor": 0
      },
      "text/plain": [
       "Evaluating:   0%|          | 0/31 [00:00<?, ?step/s]"
      ]
     },
     "metadata": {},
     "output_type": "display_data"
    },
    {
     "name": "stdout",
     "output_type": "stream",
     "text": [
      "<< EVAL >> | loss: 1.0186 | accuracy: 0.7051 | perplexity: 2.6743\n",
      "step 535   | loss: 0.9972 | MLM loss: 0.9967 | router z-loss: 0.0005 | lr: 0.000299\n",
      "step 540   | loss: 0.9391 | MLM loss: 0.9386 | router z-loss: 0.0004 | lr: 0.000298\n"
     ]
    },
    {
     "data": {
      "application/vnd.jupyter.widget-view+json": {
       "model_id": "",
       "version_major": 2,
       "version_minor": 0
      },
      "text/plain": [
       "Evaluating:   0%|          | 0/31 [00:00<?, ?step/s]"
      ]
     },
     "metadata": {},
     "output_type": "display_data"
    },
    {
     "name": "stdout",
     "output_type": "stream",
     "text": [
      "<< EVAL >> | loss: 1.0216 | accuracy: 0.6989 | perplexity: 2.6888\n",
      "step 545   | loss: 0.9596 | MLM loss: 0.9592 | router z-loss: 0.0005 | lr: 0.000297\n",
      "step 550   | loss: 1.0105 | MLM loss: 1.0100 | router z-loss: 0.0005 | lr: 0.000296\n"
     ]
    },
    {
     "data": {
      "application/vnd.jupyter.widget-view+json": {
       "model_id": "",
       "version_major": 2,
       "version_minor": 0
      },
      "text/plain": [
       "Evaluating:   0%|          | 0/31 [00:00<?, ?step/s]"
      ]
     },
     "metadata": {},
     "output_type": "display_data"
    },
    {
     "name": "stdout",
     "output_type": "stream",
     "text": [
      "<< EVAL >> | loss: 0.9874 | accuracy: 0.7130 | perplexity: 2.5951\n",
      "step 555   | loss: 0.9791 | MLM loss: 0.9787 | router z-loss: 0.0005 | lr: 0.000295\n",
      "step 560   | loss: 1.0203 | MLM loss: 1.0199 | router z-loss: 0.0004 | lr: 0.000294\n"
     ]
    },
    {
     "data": {
      "application/vnd.jupyter.widget-view+json": {
       "model_id": "",
       "version_major": 2,
       "version_minor": 0
      },
      "text/plain": [
       "Evaluating:   0%|          | 0/31 [00:00<?, ?step/s]"
      ]
     },
     "metadata": {},
     "output_type": "display_data"
    },
    {
     "name": "stdout",
     "output_type": "stream",
     "text": [
      "<< EVAL >> | loss: 0.9834 | accuracy: 0.7158 | perplexity: 2.5859\n",
      "step 565   | loss: 0.8353 | MLM loss: 0.8347 | router z-loss: 0.0006 | lr: 0.000293\n",
      "step 570   | loss: 0.9531 | MLM loss: 0.9526 | router z-loss: 0.0004 | lr: 0.000292\n"
     ]
    },
    {
     "data": {
      "application/vnd.jupyter.widget-view+json": {
       "model_id": "",
       "version_major": 2,
       "version_minor": 0
      },
      "text/plain": [
       "Evaluating:   0%|          | 0/31 [00:00<?, ?step/s]"
      ]
     },
     "metadata": {},
     "output_type": "display_data"
    },
    {
     "name": "stdout",
     "output_type": "stream",
     "text": [
      "<< EVAL >> | loss: 0.9578 | accuracy: 0.7228 | perplexity: 2.5199\n",
      "step 575   | loss: 0.9987 | MLM loss: 0.9982 | router z-loss: 0.0004 | lr: 0.000291\n",
      "step 580   | loss: 0.8938 | MLM loss: 0.8934 | router z-loss: 0.0004 | lr: 0.000290\n"
     ]
    },
    {
     "data": {
      "application/vnd.jupyter.widget-view+json": {
       "model_id": "",
       "version_major": 2,
       "version_minor": 0
      },
      "text/plain": [
       "Evaluating:   0%|          | 0/31 [00:00<?, ?step/s]"
      ]
     },
     "metadata": {},
     "output_type": "display_data"
    },
    {
     "name": "stdout",
     "output_type": "stream",
     "text": [
      "<< EVAL >> | loss: 0.9541 | accuracy: 0.7249 | perplexity: 2.5196\n",
      "step 585   | loss: 0.9473 | MLM loss: 0.9469 | router z-loss: 0.0004 | lr: 0.000289\n",
      "step 590   | loss: 0.8565 | MLM loss: 0.8561 | router z-loss: 0.0004 | lr: 0.000288\n"
     ]
    },
    {
     "data": {
      "application/vnd.jupyter.widget-view+json": {
       "model_id": "",
       "version_major": 2,
       "version_minor": 0
      },
      "text/plain": [
       "Evaluating:   0%|          | 0/31 [00:00<?, ?step/s]"
      ]
     },
     "metadata": {},
     "output_type": "display_data"
    },
    {
     "name": "stdout",
     "output_type": "stream",
     "text": [
      "<< EVAL >> | loss: 0.9268 | accuracy: 0.7315 | perplexity: 2.4588\n",
      "step 595   | loss: 0.8010 | MLM loss: 0.8006 | router z-loss: 0.0004 | lr: 0.000287\n",
      "step 600   | loss: 0.8893 | MLM loss: 0.8888 | router z-loss: 0.0005 | lr: 0.000286\n"
     ]
    },
    {
     "data": {
      "application/vnd.jupyter.widget-view+json": {
       "model_id": "",
       "version_major": 2,
       "version_minor": 0
      },
      "text/plain": [
       "Evaluating:   0%|          | 0/31 [00:00<?, ?step/s]"
      ]
     },
     "metadata": {},
     "output_type": "display_data"
    },
    {
     "name": "stdout",
     "output_type": "stream",
     "text": [
      "<< EVAL >> | loss: 0.9058 | accuracy: 0.7420 | perplexity: 2.3968\n",
      "step 605   | loss: 0.8644 | MLM loss: 0.8639 | router z-loss: 0.0005 | lr: 0.000285\n",
      "step 610   | loss: 0.8700 | MLM loss: 0.8696 | router z-loss: 0.0004 | lr: 0.000284\n"
     ]
    },
    {
     "data": {
      "application/vnd.jupyter.widget-view+json": {
       "model_id": "",
       "version_major": 2,
       "version_minor": 0
      },
      "text/plain": [
       "Evaluating:   0%|          | 0/31 [00:00<?, ?step/s]"
      ]
     },
     "metadata": {},
     "output_type": "display_data"
    },
    {
     "name": "stdout",
     "output_type": "stream",
     "text": [
      "<< EVAL >> | loss: 0.9249 | accuracy: 0.7340 | perplexity: 2.4449\n",
      "step 615   | loss: 0.8868 | MLM loss: 0.8863 | router z-loss: 0.0005 | lr: 0.000283\n",
      "step 620   | loss: 0.8041 | MLM loss: 0.8036 | router z-loss: 0.0005 | lr: 0.000283\n"
     ]
    },
    {
     "data": {
      "application/vnd.jupyter.widget-view+json": {
       "model_id": "",
       "version_major": 2,
       "version_minor": 0
      },
      "text/plain": [
       "Evaluating:   0%|          | 0/31 [00:00<?, ?step/s]"
      ]
     },
     "metadata": {},
     "output_type": "display_data"
    },
    {
     "name": "stdout",
     "output_type": "stream",
     "text": [
      "<< EVAL >> | loss: 0.8767 | accuracy: 0.7494 | perplexity: 2.3367\n",
      "step 625   | loss: 0.8847 | MLM loss: 0.8843 | router z-loss: 0.0004 | lr: 0.000282\n",
      "step 630   | loss: 0.8466 | MLM loss: 0.8461 | router z-loss: 0.0005 | lr: 0.000281\n"
     ]
    },
    {
     "data": {
      "application/vnd.jupyter.widget-view+json": {
       "model_id": "",
       "version_major": 2,
       "version_minor": 0
      },
      "text/plain": [
       "Evaluating:   0%|          | 0/31 [00:00<?, ?step/s]"
      ]
     },
     "metadata": {},
     "output_type": "display_data"
    },
    {
     "name": "stdout",
     "output_type": "stream",
     "text": [
      "<< EVAL >> | loss: 0.8686 | accuracy: 0.7532 | perplexity: 2.3056\n",
      "step 635   | loss: 0.9091 | MLM loss: 0.9087 | router z-loss: 0.0004 | lr: 0.000280\n",
      "step 640   | loss: 0.8887 | MLM loss: 0.8883 | router z-loss: 0.0004 | lr: 0.000279\n"
     ]
    },
    {
     "data": {
      "application/vnd.jupyter.widget-view+json": {
       "model_id": "",
       "version_major": 2,
       "version_minor": 0
      },
      "text/plain": [
       "Evaluating:   0%|          | 0/31 [00:00<?, ?step/s]"
      ]
     },
     "metadata": {},
     "output_type": "display_data"
    },
    {
     "name": "stdout",
     "output_type": "stream",
     "text": [
      "<< EVAL >> | loss: 0.8562 | accuracy: 0.7577 | perplexity: 2.2873\n",
      "step 645   | loss: 0.8002 | MLM loss: 0.7997 | router z-loss: 0.0004 | lr: 0.000278\n",
      "step 650   | loss: 0.8572 | MLM loss: 0.8568 | router z-loss: 0.0004 | lr: 0.000277\n"
     ]
    },
    {
     "data": {
      "application/vnd.jupyter.widget-view+json": {
       "model_id": "",
       "version_major": 2,
       "version_minor": 0
      },
      "text/plain": [
       "Evaluating:   0%|          | 0/31 [00:00<?, ?step/s]"
      ]
     },
     "metadata": {},
     "output_type": "display_data"
    },
    {
     "name": "stdout",
     "output_type": "stream",
     "text": [
      "<< EVAL >> | loss: 0.8575 | accuracy: 0.7566 | perplexity: 2.2863\n",
      "step 655   | loss: 0.9392 | MLM loss: 0.9388 | router z-loss: 0.0004 | lr: 0.000276\n",
      "step 660   | loss: 0.7813 | MLM loss: 0.7808 | router z-loss: 0.0005 | lr: 0.000275\n"
     ]
    },
    {
     "data": {
      "application/vnd.jupyter.widget-view+json": {
       "model_id": "",
       "version_major": 2,
       "version_minor": 0
      },
      "text/plain": [
       "Evaluating:   0%|          | 0/31 [00:00<?, ?step/s]"
      ]
     },
     "metadata": {},
     "output_type": "display_data"
    },
    {
     "name": "stdout",
     "output_type": "stream",
     "text": [
      "<< EVAL >> | loss: 0.8349 | accuracy: 0.7634 | perplexity: 2.2391\n",
      "step 665   | loss: 0.8523 | MLM loss: 0.8519 | router z-loss: 0.0004 | lr: 0.000274\n",
      "step 670   | loss: 0.6897 | MLM loss: 0.6893 | router z-loss: 0.0004 | lr: 0.000273\n"
     ]
    },
    {
     "data": {
      "application/vnd.jupyter.widget-view+json": {
       "model_id": "",
       "version_major": 2,
       "version_minor": 0
      },
      "text/plain": [
       "Evaluating:   0%|          | 0/31 [00:00<?, ?step/s]"
      ]
     },
     "metadata": {},
     "output_type": "display_data"
    },
    {
     "name": "stdout",
     "output_type": "stream",
     "text": [
      "<< EVAL >> | loss: 0.8105 | accuracy: 0.7715 | perplexity: 2.1873\n",
      "step 675   | loss: 0.7906 | MLM loss: 0.7902 | router z-loss: 0.0004 | lr: 0.000272\n",
      "step 680   | loss: 0.7342 | MLM loss: 0.7338 | router z-loss: 0.0004 | lr: 0.000271\n"
     ]
    },
    {
     "data": {
      "application/vnd.jupyter.widget-view+json": {
       "model_id": "",
       "version_major": 2,
       "version_minor": 0
      },
      "text/plain": [
       "Evaluating:   0%|          | 0/31 [00:00<?, ?step/s]"
      ]
     },
     "metadata": {},
     "output_type": "display_data"
    },
    {
     "name": "stdout",
     "output_type": "stream",
     "text": [
      "<< EVAL >> | loss: 0.8186 | accuracy: 0.7677 | perplexity: 2.2068\n",
      "step 685   | loss: 0.8409 | MLM loss: 0.8405 | router z-loss: 0.0005 | lr: 0.000270\n",
      "step 690   | loss: 0.7863 | MLM loss: 0.7858 | router z-loss: 0.0005 | lr: 0.000269\n"
     ]
    },
    {
     "data": {
      "application/vnd.jupyter.widget-view+json": {
       "model_id": "",
       "version_major": 2,
       "version_minor": 0
      },
      "text/plain": [
       "Evaluating:   0%|          | 0/31 [00:00<?, ?step/s]"
      ]
     },
     "metadata": {},
     "output_type": "display_data"
    },
    {
     "name": "stdout",
     "output_type": "stream",
     "text": [
      "<< EVAL >> | loss: 0.7941 | accuracy: 0.7733 | perplexity: 2.1524\n",
      "step 695   | loss: 0.8268 | MLM loss: 0.8264 | router z-loss: 0.0004 | lr: 0.000268\n",
      "step 700   | loss: 0.7413 | MLM loss: 0.7409 | router z-loss: 0.0004 | lr: 0.000267\n"
     ]
    },
    {
     "data": {
      "application/vnd.jupyter.widget-view+json": {
       "model_id": "",
       "version_major": 2,
       "version_minor": 0
      },
      "text/plain": [
       "Evaluating:   0%|          | 0/31 [00:00<?, ?step/s]"
      ]
     },
     "metadata": {},
     "output_type": "display_data"
    },
    {
     "name": "stdout",
     "output_type": "stream",
     "text": [
      "<< EVAL >> | loss: 0.7943 | accuracy: 0.7752 | perplexity: 2.1614\n",
      "step 705   | loss: 0.7515 | MLM loss: 0.7511 | router z-loss: 0.0004 | lr: 0.000266\n",
      "step 710   | loss: 0.7863 | MLM loss: 0.7860 | router z-loss: 0.0003 | lr: 0.000265\n"
     ]
    },
    {
     "data": {
      "application/vnd.jupyter.widget-view+json": {
       "model_id": "",
       "version_major": 2,
       "version_minor": 0
      },
      "text/plain": [
       "Evaluating:   0%|          | 0/31 [00:00<?, ?step/s]"
      ]
     },
     "metadata": {},
     "output_type": "display_data"
    },
    {
     "name": "stdout",
     "output_type": "stream",
     "text": [
      "<< EVAL >> | loss: 0.7780 | accuracy: 0.7776 | perplexity: 2.1229\n",
      "step 715   | loss: 0.8512 | MLM loss: 0.8509 | router z-loss: 0.0004 | lr: 0.000264\n",
      "step 720   | loss: 0.6921 | MLM loss: 0.6917 | router z-loss: 0.0004 | lr: 0.000263\n"
     ]
    },
    {
     "data": {
      "application/vnd.jupyter.widget-view+json": {
       "model_id": "",
       "version_major": 2,
       "version_minor": 0
      },
      "text/plain": [
       "Evaluating:   0%|          | 0/31 [00:00<?, ?step/s]"
      ]
     },
     "metadata": {},
     "output_type": "display_data"
    },
    {
     "name": "stdout",
     "output_type": "stream",
     "text": [
      "<< EVAL >> | loss: 0.7628 | accuracy: 0.7899 | perplexity: 2.0895\n",
      "step 725   | loss: 0.7433 | MLM loss: 0.7428 | router z-loss: 0.0005 | lr: 0.000262\n",
      "step 730   | loss: 0.7454 | MLM loss: 0.7450 | router z-loss: 0.0004 | lr: 0.000261\n"
     ]
    },
    {
     "data": {
      "application/vnd.jupyter.widget-view+json": {
       "model_id": "",
       "version_major": 2,
       "version_minor": 0
      },
      "text/plain": [
       "Evaluating:   0%|          | 0/31 [00:00<?, ?step/s]"
      ]
     },
     "metadata": {},
     "output_type": "display_data"
    },
    {
     "name": "stdout",
     "output_type": "stream",
     "text": [
      "<< EVAL >> | loss: 0.7457 | accuracy: 0.7897 | perplexity: 2.0584\n",
      "step 735   | loss: 0.7859 | MLM loss: 0.7855 | router z-loss: 0.0004 | lr: 0.000260\n",
      "step 740   | loss: 0.6857 | MLM loss: 0.6853 | router z-loss: 0.0004 | lr: 0.000259\n"
     ]
    },
    {
     "data": {
      "application/vnd.jupyter.widget-view+json": {
       "model_id": "",
       "version_major": 2,
       "version_minor": 0
      },
      "text/plain": [
       "Evaluating:   0%|          | 0/31 [00:00<?, ?step/s]"
      ]
     },
     "metadata": {},
     "output_type": "display_data"
    },
    {
     "name": "stdout",
     "output_type": "stream",
     "text": [
      "<< EVAL >> | loss: 0.7453 | accuracy: 0.7898 | perplexity: 2.0566\n",
      "step 745   | loss: 0.7945 | MLM loss: 0.7941 | router z-loss: 0.0004 | lr: 0.000258\n",
      "step 750   | loss: 0.6071 | MLM loss: 0.6067 | router z-loss: 0.0004 | lr: 0.000257\n"
     ]
    },
    {
     "data": {
      "application/vnd.jupyter.widget-view+json": {
       "model_id": "",
       "version_major": 2,
       "version_minor": 0
      },
      "text/plain": [
       "Evaluating:   0%|          | 0/31 [00:00<?, ?step/s]"
      ]
     },
     "metadata": {},
     "output_type": "display_data"
    },
    {
     "name": "stdout",
     "output_type": "stream",
     "text": [
      "<< EVAL >> | loss: 0.7320 | accuracy: 0.7952 | perplexity: 2.0302\n",
      "step 755   | loss: 0.6892 | MLM loss: 0.6888 | router z-loss: 0.0004 | lr: 0.000257\n",
      "step 760   | loss: 0.7538 | MLM loss: 0.7534 | router z-loss: 0.0004 | lr: 0.000256\n"
     ]
    },
    {
     "data": {
      "application/vnd.jupyter.widget-view+json": {
       "model_id": "",
       "version_major": 2,
       "version_minor": 0
      },
      "text/plain": [
       "Evaluating:   0%|          | 0/31 [00:00<?, ?step/s]"
      ]
     },
     "metadata": {},
     "output_type": "display_data"
    },
    {
     "name": "stdout",
     "output_type": "stream",
     "text": [
      "<< EVAL >> | loss: 0.7400 | accuracy: 0.7902 | perplexity: 2.0478\n",
      "step 765   | loss: 0.7888 | MLM loss: 0.7884 | router z-loss: 0.0004 | lr: 0.000255\n",
      "step 770   | loss: 0.7727 | MLM loss: 0.7724 | router z-loss: 0.0003 | lr: 0.000254\n"
     ]
    },
    {
     "data": {
      "application/vnd.jupyter.widget-view+json": {
       "model_id": "",
       "version_major": 2,
       "version_minor": 0
      },
      "text/plain": [
       "Evaluating:   0%|          | 0/31 [00:00<?, ?step/s]"
      ]
     },
     "metadata": {},
     "output_type": "display_data"
    },
    {
     "name": "stdout",
     "output_type": "stream",
     "text": [
      "<< EVAL >> | loss: 0.7222 | accuracy: 0.7960 | perplexity: 2.0090\n",
      "step 775   | loss: 0.6883 | MLM loss: 0.6879 | router z-loss: 0.0004 | lr: 0.000253\n",
      "step 780   | loss: 0.6812 | MLM loss: 0.6808 | router z-loss: 0.0004 | lr: 0.000252\n"
     ]
    },
    {
     "data": {
      "application/vnd.jupyter.widget-view+json": {
       "model_id": "",
       "version_major": 2,
       "version_minor": 0
      },
      "text/plain": [
       "Evaluating:   0%|          | 0/31 [00:00<?, ?step/s]"
      ]
     },
     "metadata": {},
     "output_type": "display_data"
    },
    {
     "name": "stdout",
     "output_type": "stream",
     "text": [
      "<< EVAL >> | loss: 0.7091 | accuracy: 0.8024 | perplexity: 1.9885\n",
      "step 785   | loss: 0.7114 | MLM loss: 0.7110 | router z-loss: 0.0004 | lr: 0.000251\n",
      "step 790   | loss: 0.5533 | MLM loss: 0.5529 | router z-loss: 0.0004 | lr: 0.000250\n"
     ]
    },
    {
     "data": {
      "application/vnd.jupyter.widget-view+json": {
       "model_id": "",
       "version_major": 2,
       "version_minor": 0
      },
      "text/plain": [
       "Evaluating:   0%|          | 0/31 [00:00<?, ?step/s]"
      ]
     },
     "metadata": {},
     "output_type": "display_data"
    },
    {
     "name": "stdout",
     "output_type": "stream",
     "text": [
      "<< EVAL >> | loss: 0.7035 | accuracy: 0.8047 | perplexity: 1.9711\n",
      "step 795   | loss: 0.6729 | MLM loss: 0.6725 | router z-loss: 0.0004 | lr: 0.000249\n",
      "step 800   | loss: 0.7415 | MLM loss: 0.7411 | router z-loss: 0.0004 | lr: 0.000248\n"
     ]
    },
    {
     "data": {
      "application/vnd.jupyter.widget-view+json": {
       "model_id": "",
       "version_major": 2,
       "version_minor": 0
      },
      "text/plain": [
       "Evaluating:   0%|          | 0/31 [00:00<?, ?step/s]"
      ]
     },
     "metadata": {},
     "output_type": "display_data"
    },
    {
     "name": "stdout",
     "output_type": "stream",
     "text": [
      "<< EVAL >> | loss: 0.6874 | accuracy: 0.8100 | perplexity: 1.9409\n",
      "step 805   | loss: 0.6282 | MLM loss: 0.6278 | router z-loss: 0.0004 | lr: 0.000247\n",
      "step 810   | loss: 0.7060 | MLM loss: 0.7057 | router z-loss: 0.0003 | lr: 0.000246\n"
     ]
    },
    {
     "data": {
      "application/vnd.jupyter.widget-view+json": {
       "model_id": "",
       "version_major": 2,
       "version_minor": 0
      },
      "text/plain": [
       "Evaluating:   0%|          | 0/31 [00:00<?, ?step/s]"
      ]
     },
     "metadata": {},
     "output_type": "display_data"
    },
    {
     "name": "stdout",
     "output_type": "stream",
     "text": [
      "<< EVAL >> | loss: 0.7001 | accuracy: 0.8087 | perplexity: 1.9654\n",
      "step 815   | loss: 0.6666 | MLM loss: 0.6663 | router z-loss: 0.0004 | lr: 0.000245\n",
      "step 820   | loss: 0.6590 | MLM loss: 0.6587 | router z-loss: 0.0003 | lr: 0.000244\n"
     ]
    },
    {
     "data": {
      "application/vnd.jupyter.widget-view+json": {
       "model_id": "",
       "version_major": 2,
       "version_minor": 0
      },
      "text/plain": [
       "Evaluating:   0%|          | 0/31 [00:00<?, ?step/s]"
      ]
     },
     "metadata": {},
     "output_type": "display_data"
    },
    {
     "name": "stdout",
     "output_type": "stream",
     "text": [
      "<< EVAL >> | loss: 0.6890 | accuracy: 0.8076 | perplexity: 1.9482\n",
      "step 825   | loss: 0.7765 | MLM loss: 0.7760 | router z-loss: 0.0005 | lr: 0.000243\n",
      "step 830   | loss: 0.6955 | MLM loss: 0.6951 | router z-loss: 0.0004 | lr: 0.000242\n"
     ]
    },
    {
     "data": {
      "application/vnd.jupyter.widget-view+json": {
       "model_id": "",
       "version_major": 2,
       "version_minor": 0
      },
      "text/plain": [
       "Evaluating:   0%|          | 0/31 [00:00<?, ?step/s]"
      ]
     },
     "metadata": {},
     "output_type": "display_data"
    },
    {
     "name": "stdout",
     "output_type": "stream",
     "text": [
      "<< EVAL >> | loss: 0.6949 | accuracy: 0.8085 | perplexity: 1.9531\n",
      "step 835   | loss: 0.6093 | MLM loss: 0.6090 | router z-loss: 0.0004 | lr: 0.000241\n",
      "step 840   | loss: 0.7120 | MLM loss: 0.7116 | router z-loss: 0.0004 | lr: 0.000240\n"
     ]
    },
    {
     "data": {
      "application/vnd.jupyter.widget-view+json": {
       "model_id": "",
       "version_major": 2,
       "version_minor": 0
      },
      "text/plain": [
       "Evaluating:   0%|          | 0/31 [00:00<?, ?step/s]"
      ]
     },
     "metadata": {},
     "output_type": "display_data"
    },
    {
     "name": "stdout",
     "output_type": "stream",
     "text": [
      "<< EVAL >> | loss: 0.6709 | accuracy: 0.8156 | perplexity: 1.9121\n",
      "step 845   | loss: 0.5928 | MLM loss: 0.5924 | router z-loss: 0.0003 | lr: 0.000239\n",
      "step 850   | loss: 0.6075 | MLM loss: 0.6071 | router z-loss: 0.0004 | lr: 0.000238\n"
     ]
    },
    {
     "data": {
      "application/vnd.jupyter.widget-view+json": {
       "model_id": "",
       "version_major": 2,
       "version_minor": 0
      },
      "text/plain": [
       "Evaluating:   0%|          | 0/31 [00:00<?, ?step/s]"
      ]
     },
     "metadata": {},
     "output_type": "display_data"
    },
    {
     "name": "stdout",
     "output_type": "stream",
     "text": [
      "<< EVAL >> | loss: 0.6508 | accuracy: 0.8213 | perplexity: 1.8780\n",
      "step 855   | loss: 0.6497 | MLM loss: 0.6493 | router z-loss: 0.0004 | lr: 0.000237\n",
      "step 860   | loss: 0.6150 | MLM loss: 0.6146 | router z-loss: 0.0003 | lr: 0.000236\n"
     ]
    },
    {
     "data": {
      "application/vnd.jupyter.widget-view+json": {
       "model_id": "",
       "version_major": 2,
       "version_minor": 0
      },
      "text/plain": [
       "Evaluating:   0%|          | 0/31 [00:00<?, ?step/s]"
      ]
     },
     "metadata": {},
     "output_type": "display_data"
    },
    {
     "name": "stdout",
     "output_type": "stream",
     "text": [
      "<< EVAL >> | loss: 0.6623 | accuracy: 0.8182 | perplexity: 1.8974\n",
      "step 865   | loss: 0.6205 | MLM loss: 0.6202 | router z-loss: 0.0003 | lr: 0.000235\n",
      "step 870   | loss: 0.6158 | MLM loss: 0.6154 | router z-loss: 0.0003 | lr: 0.000234\n"
     ]
    },
    {
     "data": {
      "application/vnd.jupyter.widget-view+json": {
       "model_id": "",
       "version_major": 2,
       "version_minor": 0
      },
      "text/plain": [
       "Evaluating:   0%|          | 0/31 [00:00<?, ?step/s]"
      ]
     },
     "metadata": {},
     "output_type": "display_data"
    },
    {
     "name": "stdout",
     "output_type": "stream",
     "text": [
      "<< EVAL >> | loss: 0.6771 | accuracy: 0.8113 | perplexity: 1.9208\n",
      "step 875   | loss: 0.5977 | MLM loss: 0.5973 | router z-loss: 0.0004 | lr: 0.000233\n",
      "step 880   | loss: 0.6643 | MLM loss: 0.6639 | router z-loss: 0.0003 | lr: 0.000232\n"
     ]
    },
    {
     "data": {
      "application/vnd.jupyter.widget-view+json": {
       "model_id": "",
       "version_major": 2,
       "version_minor": 0
      },
      "text/plain": [
       "Evaluating:   0%|          | 0/31 [00:00<?, ?step/s]"
      ]
     },
     "metadata": {},
     "output_type": "display_data"
    },
    {
     "name": "stdout",
     "output_type": "stream",
     "text": [
      "<< EVAL >> | loss: 0.6510 | accuracy: 0.8204 | perplexity: 1.8719\n",
      "step 885   | loss: 0.6843 | MLM loss: 0.6840 | router z-loss: 0.0003 | lr: 0.000231\n",
      "step 890   | loss: 0.6510 | MLM loss: 0.6507 | router z-loss: 0.0004 | lr: 0.000231\n"
     ]
    },
    {
     "data": {
      "application/vnd.jupyter.widget-view+json": {
       "model_id": "",
       "version_major": 2,
       "version_minor": 0
      },
      "text/plain": [
       "Evaluating:   0%|          | 0/31 [00:00<?, ?step/s]"
      ]
     },
     "metadata": {},
     "output_type": "display_data"
    },
    {
     "name": "stdout",
     "output_type": "stream",
     "text": [
      "<< EVAL >> | loss: 0.6361 | accuracy: 0.8235 | perplexity: 1.8520\n",
      "step 895   | loss: 0.7353 | MLM loss: 0.7350 | router z-loss: 0.0003 | lr: 0.000230\n",
      "step 900   | loss: 0.6262 | MLM loss: 0.6258 | router z-loss: 0.0003 | lr: 0.000229\n"
     ]
    },
    {
     "data": {
      "application/vnd.jupyter.widget-view+json": {
       "model_id": "",
       "version_major": 2,
       "version_minor": 0
      },
      "text/plain": [
       "Evaluating:   0%|          | 0/31 [00:00<?, ?step/s]"
      ]
     },
     "metadata": {},
     "output_type": "display_data"
    },
    {
     "name": "stdout",
     "output_type": "stream",
     "text": [
      "<< EVAL >> | loss: 0.6228 | accuracy: 0.8286 | perplexity: 1.8225\n",
      "step 905   | loss: 0.6416 | MLM loss: 0.6413 | router z-loss: 0.0003 | lr: 0.000228\n",
      "step 910   | loss: 0.5718 | MLM loss: 0.5715 | router z-loss: 0.0003 | lr: 0.000227\n"
     ]
    },
    {
     "data": {
      "application/vnd.jupyter.widget-view+json": {
       "model_id": "",
       "version_major": 2,
       "version_minor": 0
      },
      "text/plain": [
       "Evaluating:   0%|          | 0/31 [00:00<?, ?step/s]"
      ]
     },
     "metadata": {},
     "output_type": "display_data"
    },
    {
     "name": "stdout",
     "output_type": "stream",
     "text": [
      "<< EVAL >> | loss: 0.6315 | accuracy: 0.8258 | perplexity: 1.8366\n",
      "step 915   | loss: 0.7923 | MLM loss: 0.7920 | router z-loss: 0.0003 | lr: 0.000226\n",
      "step 920   | loss: 0.5770 | MLM loss: 0.5767 | router z-loss: 0.0003 | lr: 0.000225\n"
     ]
    },
    {
     "data": {
      "application/vnd.jupyter.widget-view+json": {
       "model_id": "",
       "version_major": 2,
       "version_minor": 0
      },
      "text/plain": [
       "Evaluating:   0%|          | 0/31 [00:00<?, ?step/s]"
      ]
     },
     "metadata": {},
     "output_type": "display_data"
    },
    {
     "name": "stdout",
     "output_type": "stream",
     "text": [
      "<< EVAL >> | loss: 0.6262 | accuracy: 0.8267 | perplexity: 1.8282\n",
      "step 925   | loss: 0.5366 | MLM loss: 0.5362 | router z-loss: 0.0004 | lr: 0.000224\n",
      "step 930   | loss: 0.5060 | MLM loss: 0.5057 | router z-loss: 0.0004 | lr: 0.000223\n"
     ]
    },
    {
     "data": {
      "application/vnd.jupyter.widget-view+json": {
       "model_id": "",
       "version_major": 2,
       "version_minor": 0
      },
      "text/plain": [
       "Evaluating:   0%|          | 0/31 [00:00<?, ?step/s]"
      ]
     },
     "metadata": {},
     "output_type": "display_data"
    },
    {
     "name": "stdout",
     "output_type": "stream",
     "text": [
      "<< EVAL >> | loss: 0.6314 | accuracy: 0.8262 | perplexity: 1.8391\n",
      "step 935   | loss: 0.7188 | MLM loss: 0.7183 | router z-loss: 0.0004 | lr: 0.000222\n",
      "step 940   | loss: 0.6277 | MLM loss: 0.6273 | router z-loss: 0.0003 | lr: 0.000221\n"
     ]
    },
    {
     "data": {
      "application/vnd.jupyter.widget-view+json": {
       "model_id": "",
       "version_major": 2,
       "version_minor": 0
      },
      "text/plain": [
       "Evaluating:   0%|          | 0/31 [00:00<?, ?step/s]"
      ]
     },
     "metadata": {},
     "output_type": "display_data"
    },
    {
     "name": "stdout",
     "output_type": "stream",
     "text": [
      "<< EVAL >> | loss: 0.6340 | accuracy: 0.8252 | perplexity: 1.8383\n",
      "step 945   | loss: 0.6055 | MLM loss: 0.6051 | router z-loss: 0.0004 | lr: 0.000220\n",
      "step 950   | loss: 0.6261 | MLM loss: 0.6258 | router z-loss: 0.0003 | lr: 0.000219\n"
     ]
    },
    {
     "data": {
      "application/vnd.jupyter.widget-view+json": {
       "model_id": "",
       "version_major": 2,
       "version_minor": 0
      },
      "text/plain": [
       "Evaluating:   0%|          | 0/31 [00:00<?, ?step/s]"
      ]
     },
     "metadata": {},
     "output_type": "display_data"
    },
    {
     "name": "stdout",
     "output_type": "stream",
     "text": [
      "<< EVAL >> | loss: 0.6116 | accuracy: 0.8304 | perplexity: 1.8077\n",
      "step 955   | loss: 0.5086 | MLM loss: 0.5083 | router z-loss: 0.0003 | lr: 0.000218\n",
      "step 960   | loss: 0.5783 | MLM loss: 0.5780 | router z-loss: 0.0003 | lr: 0.000217\n"
     ]
    },
    {
     "data": {
      "application/vnd.jupyter.widget-view+json": {
       "model_id": "",
       "version_major": 2,
       "version_minor": 0
      },
      "text/plain": [
       "Evaluating:   0%|          | 0/31 [00:00<?, ?step/s]"
      ]
     },
     "metadata": {},
     "output_type": "display_data"
    },
    {
     "name": "stdout",
     "output_type": "stream",
     "text": [
      "<< EVAL >> | loss: 0.6030 | accuracy: 0.8337 | perplexity: 1.7926\n",
      "step 965   | loss: 0.5685 | MLM loss: 0.5682 | router z-loss: 0.0003 | lr: 0.000216\n",
      "step 970   | loss: 0.5144 | MLM loss: 0.5141 | router z-loss: 0.0003 | lr: 0.000215\n"
     ]
    },
    {
     "data": {
      "application/vnd.jupyter.widget-view+json": {
       "model_id": "",
       "version_major": 2,
       "version_minor": 0
      },
      "text/plain": [
       "Evaluating:   0%|          | 0/31 [00:00<?, ?step/s]"
      ]
     },
     "metadata": {},
     "output_type": "display_data"
    },
    {
     "name": "stdout",
     "output_type": "stream",
     "text": [
      "<< EVAL >> | loss: 0.6047 | accuracy: 0.8346 | perplexity: 1.7923\n",
      "step 975   | loss: 0.6385 | MLM loss: 0.6382 | router z-loss: 0.0003 | lr: 0.000214\n",
      "step 980   | loss: 0.5741 | MLM loss: 0.5738 | router z-loss: 0.0003 | lr: 0.000213\n"
     ]
    },
    {
     "data": {
      "application/vnd.jupyter.widget-view+json": {
       "model_id": "",
       "version_major": 2,
       "version_minor": 0
      },
      "text/plain": [
       "Evaluating:   0%|          | 0/31 [00:00<?, ?step/s]"
      ]
     },
     "metadata": {},
     "output_type": "display_data"
    },
    {
     "name": "stdout",
     "output_type": "stream",
     "text": [
      "<< EVAL >> | loss: 0.5839 | accuracy: 0.8412 | perplexity: 1.7548\n",
      "step 985   | loss: 0.5469 | MLM loss: 0.5465 | router z-loss: 0.0005 | lr: 0.000212\n",
      "step 990   | loss: 0.5519 | MLM loss: 0.5515 | router z-loss: 0.0004 | lr: 0.000211\n"
     ]
    },
    {
     "data": {
      "application/vnd.jupyter.widget-view+json": {
       "model_id": "",
       "version_major": 2,
       "version_minor": 0
      },
      "text/plain": [
       "Evaluating:   0%|          | 0/31 [00:00<?, ?step/s]"
      ]
     },
     "metadata": {},
     "output_type": "display_data"
    },
    {
     "name": "stdout",
     "output_type": "stream",
     "text": [
      "<< EVAL >> | loss: 0.5729 | accuracy: 0.8446 | perplexity: 1.7412\n",
      "step 995   | loss: 0.5309 | MLM loss: 0.5306 | router z-loss: 0.0003 | lr: 0.000210\n",
      "step 1000  | loss: 0.5430 | MLM loss: 0.5427 | router z-loss: 0.0003 | lr: 0.000209\n"
     ]
    },
    {
     "data": {
      "application/vnd.jupyter.widget-view+json": {
       "model_id": "",
       "version_major": 2,
       "version_minor": 0
      },
      "text/plain": [
       "Evaluating:   0%|          | 0/31 [00:00<?, ?step/s]"
      ]
     },
     "metadata": {},
     "output_type": "display_data"
    },
    {
     "name": "stdout",
     "output_type": "stream",
     "text": [
      "<< EVAL >> | loss: 0.5762 | accuracy: 0.8431 | perplexity: 1.7451\n",
      "step 1005  | loss: 0.5221 | MLM loss: 0.5218 | router z-loss: 0.0003 | lr: 0.000208\n",
      "step 1010  | loss: 0.6424 | MLM loss: 0.6420 | router z-loss: 0.0003 | lr: 0.000207\n"
     ]
    },
    {
     "data": {
      "application/vnd.jupyter.widget-view+json": {
       "model_id": "",
       "version_major": 2,
       "version_minor": 0
      },
      "text/plain": [
       "Evaluating:   0%|          | 0/31 [00:00<?, ?step/s]"
      ]
     },
     "metadata": {},
     "output_type": "display_data"
    },
    {
     "name": "stdout",
     "output_type": "stream",
     "text": [
      "<< EVAL >> | loss: 0.5833 | accuracy: 0.8397 | perplexity: 1.7595\n",
      "step 1015  | loss: 0.5600 | MLM loss: 0.5597 | router z-loss: 0.0003 | lr: 0.000206\n",
      "step 1020  | loss: 0.6060 | MLM loss: 0.6057 | router z-loss: 0.0003 | lr: 0.000205\n"
     ]
    },
    {
     "data": {
      "application/vnd.jupyter.widget-view+json": {
       "model_id": "",
       "version_major": 2,
       "version_minor": 0
      },
      "text/plain": [
       "Evaluating:   0%|          | 0/31 [00:00<?, ?step/s]"
      ]
     },
     "metadata": {},
     "output_type": "display_data"
    },
    {
     "name": "stdout",
     "output_type": "stream",
     "text": [
      "<< EVAL >> | loss: 0.5547 | accuracy: 0.8489 | perplexity: 1.7135\n",
      "step 1025  | loss: 0.4884 | MLM loss: 0.4880 | router z-loss: 0.0003 | lr: 0.000205\n",
      "step 1030  | loss: 0.5835 | MLM loss: 0.5832 | router z-loss: 0.0003 | lr: 0.000204\n"
     ]
    },
    {
     "data": {
      "application/vnd.jupyter.widget-view+json": {
       "model_id": "",
       "version_major": 2,
       "version_minor": 0
      },
      "text/plain": [
       "Evaluating:   0%|          | 0/31 [00:00<?, ?step/s]"
      ]
     },
     "metadata": {},
     "output_type": "display_data"
    },
    {
     "name": "stdout",
     "output_type": "stream",
     "text": [
      "<< EVAL >> | loss: 0.5641 | accuracy: 0.8463 | perplexity: 1.7290\n",
      "step 1035  | loss: 0.4942 | MLM loss: 0.4939 | router z-loss: 0.0003 | lr: 0.000203\n",
      "step 1040  | loss: 0.5658 | MLM loss: 0.5655 | router z-loss: 0.0003 | lr: 0.000202\n"
     ]
    },
    {
     "data": {
      "application/vnd.jupyter.widget-view+json": {
       "model_id": "",
       "version_major": 2,
       "version_minor": 0
      },
      "text/plain": [
       "Evaluating:   0%|          | 0/31 [00:00<?, ?step/s]"
      ]
     },
     "metadata": {},
     "output_type": "display_data"
    },
    {
     "name": "stdout",
     "output_type": "stream",
     "text": [
      "<< EVAL >> | loss: 0.5450 | accuracy: 0.8524 | perplexity: 1.6930\n",
      "step 1045  | loss: 0.4662 | MLM loss: 0.4659 | router z-loss: 0.0003 | lr: 0.000201\n",
      "step 1050  | loss: 0.5687 | MLM loss: 0.5684 | router z-loss: 0.0003 | lr: 0.000200\n"
     ]
    },
    {
     "data": {
      "application/vnd.jupyter.widget-view+json": {
       "model_id": "",
       "version_major": 2,
       "version_minor": 0
      },
      "text/plain": [
       "Evaluating:   0%|          | 0/31 [00:00<?, ?step/s]"
      ]
     },
     "metadata": {},
     "output_type": "display_data"
    },
    {
     "name": "stdout",
     "output_type": "stream",
     "text": [
      "<< EVAL >> | loss: 0.5685 | accuracy: 0.8451 | perplexity: 1.7288\n",
      "step 1055  | loss: 0.5727 | MLM loss: 0.5724 | router z-loss: 0.0003 | lr: 0.000199\n",
      "step 1060  | loss: 0.4954 | MLM loss: 0.4951 | router z-loss: 0.0003 | lr: 0.000198\n"
     ]
    },
    {
     "data": {
      "application/vnd.jupyter.widget-view+json": {
       "model_id": "",
       "version_major": 2,
       "version_minor": 0
      },
      "text/plain": [
       "Evaluating:   0%|          | 0/31 [00:00<?, ?step/s]"
      ]
     },
     "metadata": {},
     "output_type": "display_data"
    },
    {
     "name": "stdout",
     "output_type": "stream",
     "text": [
      "<< EVAL >> | loss: 0.5690 | accuracy: 0.8449 | perplexity: 1.7316\n",
      "step 1065  | loss: 0.6294 | MLM loss: 0.6291 | router z-loss: 0.0003 | lr: 0.000197\n",
      "step 1070  | loss: 0.6031 | MLM loss: 0.6028 | router z-loss: 0.0003 | lr: 0.000196\n"
     ]
    },
    {
     "data": {
      "application/vnd.jupyter.widget-view+json": {
       "model_id": "",
       "version_major": 2,
       "version_minor": 0
      },
      "text/plain": [
       "Evaluating:   0%|          | 0/31 [00:00<?, ?step/s]"
      ]
     },
     "metadata": {},
     "output_type": "display_data"
    },
    {
     "name": "stdout",
     "output_type": "stream",
     "text": [
      "<< EVAL >> | loss: 0.5658 | accuracy: 0.8476 | perplexity: 1.7283\n",
      "step 1075  | loss: 0.5862 | MLM loss: 0.5859 | router z-loss: 0.0003 | lr: 0.000195\n",
      "step 1080  | loss: 0.5959 | MLM loss: 0.5956 | router z-loss: 0.0003 | lr: 0.000194\n"
     ]
    },
    {
     "data": {
      "application/vnd.jupyter.widget-view+json": {
       "model_id": "",
       "version_major": 2,
       "version_minor": 0
      },
      "text/plain": [
       "Evaluating:   0%|          | 0/31 [00:00<?, ?step/s]"
      ]
     },
     "metadata": {},
     "output_type": "display_data"
    },
    {
     "name": "stdout",
     "output_type": "stream",
     "text": [
      "<< EVAL >> | loss: 0.5622 | accuracy: 0.8468 | perplexity: 1.7223\n",
      "step 1085  | loss: 0.5900 | MLM loss: 0.5897 | router z-loss: 0.0003 | lr: 0.000193\n",
      "step 1090  | loss: 0.5254 | MLM loss: 0.5251 | router z-loss: 0.0003 | lr: 0.000192\n"
     ]
    },
    {
     "data": {
      "application/vnd.jupyter.widget-view+json": {
       "model_id": "",
       "version_major": 2,
       "version_minor": 0
      },
      "text/plain": [
       "Evaluating:   0%|          | 0/31 [00:00<?, ?step/s]"
      ]
     },
     "metadata": {},
     "output_type": "display_data"
    },
    {
     "name": "stdout",
     "output_type": "stream",
     "text": [
      "<< EVAL >> | loss: 0.5481 | accuracy: 0.8500 | perplexity: 1.6996\n",
      "step 1095  | loss: 0.5358 | MLM loss: 0.5355 | router z-loss: 0.0003 | lr: 0.000191\n",
      "step 1100  | loss: 0.5949 | MLM loss: 0.5946 | router z-loss: 0.0003 | lr: 0.000190\n"
     ]
    },
    {
     "data": {
      "application/vnd.jupyter.widget-view+json": {
       "model_id": "",
       "version_major": 2,
       "version_minor": 0
      },
      "text/plain": [
       "Evaluating:   0%|          | 0/31 [00:00<?, ?step/s]"
      ]
     },
     "metadata": {},
     "output_type": "display_data"
    },
    {
     "name": "stdout",
     "output_type": "stream",
     "text": [
      "<< EVAL >> | loss: 0.5452 | accuracy: 0.8512 | perplexity: 1.6977\n",
      "step 1105  | loss: 0.5470 | MLM loss: 0.5466 | router z-loss: 0.0004 | lr: 0.000189\n",
      "step 1110  | loss: 0.5241 | MLM loss: 0.5239 | router z-loss: 0.0003 | lr: 0.000188\n"
     ]
    },
    {
     "data": {
      "application/vnd.jupyter.widget-view+json": {
       "model_id": "",
       "version_major": 2,
       "version_minor": 0
      },
      "text/plain": [
       "Evaluating:   0%|          | 0/31 [00:00<?, ?step/s]"
      ]
     },
     "metadata": {},
     "output_type": "display_data"
    },
    {
     "name": "stdout",
     "output_type": "stream",
     "text": [
      "<< EVAL >> | loss: 0.5434 | accuracy: 0.8526 | perplexity: 1.6935\n",
      "step 1115  | loss: 0.5748 | MLM loss: 0.5745 | router z-loss: 0.0003 | lr: 0.000187\n",
      "step 1120  | loss: 0.4419 | MLM loss: 0.4416 | router z-loss: 0.0003 | lr: 0.000186\n"
     ]
    },
    {
     "data": {
      "application/vnd.jupyter.widget-view+json": {
       "model_id": "",
       "version_major": 2,
       "version_minor": 0
      },
      "text/plain": [
       "Evaluating:   0%|          | 0/31 [00:00<?, ?step/s]"
      ]
     },
     "metadata": {},
     "output_type": "display_data"
    },
    {
     "name": "stdout",
     "output_type": "stream",
     "text": [
      "<< EVAL >> | loss: 0.5400 | accuracy: 0.8518 | perplexity: 1.6851\n",
      "step 1125  | loss: 0.5364 | MLM loss: 0.5361 | router z-loss: 0.0003 | lr: 0.000185\n",
      "step 1130  | loss: 0.4230 | MLM loss: 0.4227 | router z-loss: 0.0003 | lr: 0.000184\n"
     ]
    },
    {
     "data": {
      "application/vnd.jupyter.widget-view+json": {
       "model_id": "",
       "version_major": 2,
       "version_minor": 0
      },
      "text/plain": [
       "Evaluating:   0%|          | 0/31 [00:00<?, ?step/s]"
      ]
     },
     "metadata": {},
     "output_type": "display_data"
    },
    {
     "name": "stdout",
     "output_type": "stream",
     "text": [
      "<< EVAL >> | loss: 0.5281 | accuracy: 0.8572 | perplexity: 1.6671\n",
      "step 1135  | loss: 0.5436 | MLM loss: 0.5433 | router z-loss: 0.0003 | lr: 0.000183\n",
      "step 1140  | loss: 0.5470 | MLM loss: 0.5467 | router z-loss: 0.0003 | lr: 0.000182\n"
     ]
    },
    {
     "data": {
      "application/vnd.jupyter.widget-view+json": {
       "model_id": "",
       "version_major": 2,
       "version_minor": 0
      },
      "text/plain": [
       "Evaluating:   0%|          | 0/31 [00:00<?, ?step/s]"
      ]
     },
     "metadata": {},
     "output_type": "display_data"
    },
    {
     "name": "stdout",
     "output_type": "stream",
     "text": [
      "<< EVAL >> | loss: 0.5391 | accuracy: 0.8550 | perplexity: 1.6819\n",
      "step 1145  | loss: 0.4402 | MLM loss: 0.4399 | router z-loss: 0.0003 | lr: 0.000181\n",
      "step 1150  | loss: 0.4479 | MLM loss: 0.4476 | router z-loss: 0.0003 | lr: 0.000180\n"
     ]
    },
    {
     "data": {
      "application/vnd.jupyter.widget-view+json": {
       "model_id": "",
       "version_major": 2,
       "version_minor": 0
      },
      "text/plain": [
       "Evaluating:   0%|          | 0/31 [00:00<?, ?step/s]"
      ]
     },
     "metadata": {},
     "output_type": "display_data"
    },
    {
     "name": "stdout",
     "output_type": "stream",
     "text": [
      "<< EVAL >> | loss: 0.5248 | accuracy: 0.8586 | perplexity: 1.6577\n",
      "step 1155  | loss: 0.5832 | MLM loss: 0.5829 | router z-loss: 0.0003 | lr: 0.000179\n",
      "step 1160  | loss: 0.6116 | MLM loss: 0.6113 | router z-loss: 0.0003 | lr: 0.000179\n"
     ]
    },
    {
     "data": {
      "application/vnd.jupyter.widget-view+json": {
       "model_id": "",
       "version_major": 2,
       "version_minor": 0
      },
      "text/plain": [
       "Evaluating:   0%|          | 0/31 [00:00<?, ?step/s]"
      ]
     },
     "metadata": {},
     "output_type": "display_data"
    },
    {
     "name": "stdout",
     "output_type": "stream",
     "text": [
      "<< EVAL >> | loss: 0.5168 | accuracy: 0.8606 | perplexity: 1.6497\n",
      "step 1165  | loss: 0.5110 | MLM loss: 0.5108 | router z-loss: 0.0003 | lr: 0.000178\n",
      "step 1170  | loss: 0.4462 | MLM loss: 0.4459 | router z-loss: 0.0003 | lr: 0.000177\n"
     ]
    },
    {
     "data": {
      "application/vnd.jupyter.widget-view+json": {
       "model_id": "",
       "version_major": 2,
       "version_minor": 0
      },
      "text/plain": [
       "Evaluating:   0%|          | 0/31 [00:00<?, ?step/s]"
      ]
     },
     "metadata": {},
     "output_type": "display_data"
    },
    {
     "name": "stdout",
     "output_type": "stream",
     "text": [
      "<< EVAL >> | loss: 0.5125 | accuracy: 0.8652 | perplexity: 1.6436\n",
      "step 1175  | loss: 0.5253 | MLM loss: 0.5250 | router z-loss: 0.0003 | lr: 0.000176\n",
      "step 1180  | loss: 0.5005 | MLM loss: 0.5002 | router z-loss: 0.0003 | lr: 0.000175\n"
     ]
    },
    {
     "data": {
      "application/vnd.jupyter.widget-view+json": {
       "model_id": "",
       "version_major": 2,
       "version_minor": 0
      },
      "text/plain": [
       "Evaluating:   0%|          | 0/31 [00:00<?, ?step/s]"
      ]
     },
     "metadata": {},
     "output_type": "display_data"
    },
    {
     "name": "stdout",
     "output_type": "stream",
     "text": [
      "<< EVAL >> | loss: 0.5189 | accuracy: 0.8609 | perplexity: 1.6484\n",
      "step 1185  | loss: 0.4798 | MLM loss: 0.4795 | router z-loss: 0.0003 | lr: 0.000174\n",
      "step 1190  | loss: 0.3931 | MLM loss: 0.3928 | router z-loss: 0.0003 | lr: 0.000173\n"
     ]
    },
    {
     "data": {
      "application/vnd.jupyter.widget-view+json": {
       "model_id": "",
       "version_major": 2,
       "version_minor": 0
      },
      "text/plain": [
       "Evaluating:   0%|          | 0/31 [00:00<?, ?step/s]"
      ]
     },
     "metadata": {},
     "output_type": "display_data"
    },
    {
     "name": "stdout",
     "output_type": "stream",
     "text": [
      "<< EVAL >> | loss: 0.5065 | accuracy: 0.8649 | perplexity: 1.6331\n",
      "step 1195  | loss: 0.4904 | MLM loss: 0.4901 | router z-loss: 0.0003 | lr: 0.000172\n",
      "step 1200  | loss: 0.5074 | MLM loss: 0.5071 | router z-loss: 0.0003 | lr: 0.000171\n"
     ]
    },
    {
     "data": {
      "application/vnd.jupyter.widget-view+json": {
       "model_id": "",
       "version_major": 2,
       "version_minor": 0
      },
      "text/plain": [
       "Evaluating:   0%|          | 0/31 [00:00<?, ?step/s]"
      ]
     },
     "metadata": {},
     "output_type": "display_data"
    },
    {
     "name": "stdout",
     "output_type": "stream",
     "text": [
      "<< EVAL >> | loss: 0.5059 | accuracy: 0.8636 | perplexity: 1.6307\n",
      "step 1205  | loss: 0.5677 | MLM loss: 0.5674 | router z-loss: 0.0003 | lr: 0.000170\n",
      "step 1210  | loss: 0.4676 | MLM loss: 0.4673 | router z-loss: 0.0003 | lr: 0.000169\n"
     ]
    },
    {
     "data": {
      "application/vnd.jupyter.widget-view+json": {
       "model_id": "",
       "version_major": 2,
       "version_minor": 0
      },
      "text/plain": [
       "Evaluating:   0%|          | 0/31 [00:00<?, ?step/s]"
      ]
     },
     "metadata": {},
     "output_type": "display_data"
    },
    {
     "name": "stdout",
     "output_type": "stream",
     "text": [
      "<< EVAL >> | loss: 0.5044 | accuracy: 0.8652 | perplexity: 1.6271\n",
      "step 1215  | loss: 0.4105 | MLM loss: 0.4102 | router z-loss: 0.0003 | lr: 0.000168\n",
      "step 1220  | loss: 0.4990 | MLM loss: 0.4988 | router z-loss: 0.0003 | lr: 0.000167\n"
     ]
    },
    {
     "data": {
      "application/vnd.jupyter.widget-view+json": {
       "model_id": "",
       "version_major": 2,
       "version_minor": 0
      },
      "text/plain": [
       "Evaluating:   0%|          | 0/31 [00:00<?, ?step/s]"
      ]
     },
     "metadata": {},
     "output_type": "display_data"
    },
    {
     "name": "stdout",
     "output_type": "stream",
     "text": [
      "<< EVAL >> | loss: 0.5058 | accuracy: 0.8657 | perplexity: 1.6288\n",
      "step 1225  | loss: 0.4508 | MLM loss: 0.4506 | router z-loss: 0.0003 | lr: 0.000166\n",
      "step 1230  | loss: 0.5651 | MLM loss: 0.5648 | router z-loss: 0.0003 | lr: 0.000165\n"
     ]
    },
    {
     "data": {
      "application/vnd.jupyter.widget-view+json": {
       "model_id": "",
       "version_major": 2,
       "version_minor": 0
      },
      "text/plain": [
       "Evaluating:   0%|          | 0/31 [00:00<?, ?step/s]"
      ]
     },
     "metadata": {},
     "output_type": "display_data"
    },
    {
     "name": "stdout",
     "output_type": "stream",
     "text": [
      "<< EVAL >> | loss: 0.5054 | accuracy: 0.8657 | perplexity: 1.6306\n",
      "step 1235  | loss: 0.5091 | MLM loss: 0.5089 | router z-loss: 0.0003 | lr: 0.000164\n",
      "step 1240  | loss: 0.4046 | MLM loss: 0.4043 | router z-loss: 0.0003 | lr: 0.000163\n"
     ]
    },
    {
     "data": {
      "application/vnd.jupyter.widget-view+json": {
       "model_id": "",
       "version_major": 2,
       "version_minor": 0
      },
      "text/plain": [
       "Evaluating:   0%|          | 0/31 [00:00<?, ?step/s]"
      ]
     },
     "metadata": {},
     "output_type": "display_data"
    },
    {
     "name": "stdout",
     "output_type": "stream",
     "text": [
      "<< EVAL >> | loss: 0.4889 | accuracy: 0.8694 | perplexity: 1.6065\n",
      "step 1245  | loss: 0.5545 | MLM loss: 0.5543 | router z-loss: 0.0003 | lr: 0.000162\n",
      "step 1250  | loss: 0.5475 | MLM loss: 0.5472 | router z-loss: 0.0003 | lr: 0.000161\n"
     ]
    },
    {
     "data": {
      "application/vnd.jupyter.widget-view+json": {
       "model_id": "",
       "version_major": 2,
       "version_minor": 0
      },
      "text/plain": [
       "Evaluating:   0%|          | 0/31 [00:00<?, ?step/s]"
      ]
     },
     "metadata": {},
     "output_type": "display_data"
    },
    {
     "name": "stdout",
     "output_type": "stream",
     "text": [
      "<< EVAL >> | loss: 0.4965 | accuracy: 0.8681 | perplexity: 1.6160\n",
      "step 1255  | loss: 0.6205 | MLM loss: 0.6202 | router z-loss: 0.0003 | lr: 0.000160\n",
      "step 1260  | loss: 0.5463 | MLM loss: 0.5460 | router z-loss: 0.0003 | lr: 0.000159\n"
     ]
    },
    {
     "data": {
      "application/vnd.jupyter.widget-view+json": {
       "model_id": "",
       "version_major": 2,
       "version_minor": 0
      },
      "text/plain": [
       "Evaluating:   0%|          | 0/31 [00:00<?, ?step/s]"
      ]
     },
     "metadata": {},
     "output_type": "display_data"
    },
    {
     "name": "stdout",
     "output_type": "stream",
     "text": [
      "<< EVAL >> | loss: 0.4998 | accuracy: 0.8669 | perplexity: 1.6207\n",
      "step 1265  | loss: 0.5214 | MLM loss: 0.5211 | router z-loss: 0.0003 | lr: 0.000158\n",
      "step 1270  | loss: 0.4654 | MLM loss: 0.4651 | router z-loss: 0.0003 | lr: 0.000157\n"
     ]
    },
    {
     "data": {
      "application/vnd.jupyter.widget-view+json": {
       "model_id": "",
       "version_major": 2,
       "version_minor": 0
      },
      "text/plain": [
       "Evaluating:   0%|          | 0/31 [00:00<?, ?step/s]"
      ]
     },
     "metadata": {},
     "output_type": "display_data"
    },
    {
     "name": "stdout",
     "output_type": "stream",
     "text": [
      "<< EVAL >> | loss: 0.4835 | accuracy: 0.8706 | perplexity: 1.5957\n",
      "step 1275  | loss: 0.6222 | MLM loss: 0.6219 | router z-loss: 0.0003 | lr: 0.000156\n",
      "step 1280  | loss: 0.4177 | MLM loss: 0.4174 | router z-loss: 0.0003 | lr: 0.000155\n"
     ]
    },
    {
     "data": {
      "application/vnd.jupyter.widget-view+json": {
       "model_id": "",
       "version_major": 2,
       "version_minor": 0
      },
      "text/plain": [
       "Evaluating:   0%|          | 0/31 [00:00<?, ?step/s]"
      ]
     },
     "metadata": {},
     "output_type": "display_data"
    },
    {
     "name": "stdout",
     "output_type": "stream",
     "text": [
      "<< EVAL >> | loss: 0.4932 | accuracy: 0.8671 | perplexity: 1.6114\n",
      "step 1285  | loss: 0.5245 | MLM loss: 0.5241 | router z-loss: 0.0003 | lr: 0.000154\n",
      "step 1290  | loss: 0.4722 | MLM loss: 0.4720 | router z-loss: 0.0003 | lr: 0.000153\n"
     ]
    },
    {
     "data": {
      "application/vnd.jupyter.widget-view+json": {
       "model_id": "",
       "version_major": 2,
       "version_minor": 0
      },
      "text/plain": [
       "Evaluating:   0%|          | 0/31 [00:00<?, ?step/s]"
      ]
     },
     "metadata": {},
     "output_type": "display_data"
    },
    {
     "name": "stdout",
     "output_type": "stream",
     "text": [
      "<< EVAL >> | loss: 0.4862 | accuracy: 0.8704 | perplexity: 1.6015\n"
     ]
    },
    {
     "name": "stderr",
     "output_type": "stream",
     "text": [
      "Thread SenderThread:\n",
      "Traceback (most recent call last):\n",
      "  File \"/Users/bryanbriney/conda/lib/python3.11/site-packages/wandb/sdk/internal/internal_util.py\", line 49, in run\n",
      "    self._run()\n",
      "  File \"/Users/bryanbriney/conda/lib/python3.11/site-packages/wandb/sdk/internal/internal_util.py\", line 100, in _run\n",
      "    self._process(record)\n",
      "  File \"/Users/bryanbriney/conda/lib/python3.11/site-packages/wandb/sdk/internal/internal.py\", line 328, in _process\n",
      "    self._sm.send(record)\n",
      "  File \"/Users/bryanbriney/conda/lib/python3.11/site-packages/wandb/sdk/internal/sender.py\", line 389, in send\n",
      "    send_handler(record)\n",
      "  File \"/Users/bryanbriney/conda/lib/python3.11/site-packages/wandb/sdk/internal/sender.py\", line 411, in send_request\n",
      "    send_handler(record)\n",
      "  File \"/Users/bryanbriney/conda/lib/python3.11/site-packages/wandb/sdk/internal/sender.py\", line 1160, in send_request_summary_record\n",
      "    self._update_summary_record(record.request.summary_record.summary)\n",
      "  File \"/Users/bryanbriney/conda/lib/python3.11/site-packages/wandb/sdk/internal/sender.py\", line 1154, in _update_summary_record\n",
      "    self._update_summary()\n",
      "  File \"/Users/bryanbriney/conda/lib/python3.11/site-packages/wandb/sdk/internal/sender.py\", line 1174, in _update_summary\n",
      "    with open(summary_path, \"w\") as f:\n",
      "         ^^^^^^^^^^^^^^^^^^^^^^^\n",
      "FileNotFoundError: [Errno 2] No such file or directory: '/Users/bryanbriney/git/BALM/wandb/run-20240502_131900-2gbxv9zt/files/wandb-summary.json'\n",
      "wandb: ERROR Internal wandb error: file data was not synced\n",
      "Exception in thread ChkStopThr:\n",
      "Traceback (most recent call last):\n",
      "  File \"/Users/bryanbriney/conda/lib/python3.11/threading.py\", line 1045, in _bootstrap_inner\n",
      "    self.run()\n",
      "  File \"/Users/bryanbriney/conda/lib/python3.11/threading.py\", line 982, in run\n",
      "    self._target(*self._args, **self._kwargs)\n",
      "  File \"/Users/bryanbriney/conda/lib/python3.11/site-packages/wandb/sdk/wandb_run.py\", line 286, in check_stop_status\n",
      "    self._loop_check_status(\n",
      "  File \"/Users/bryanbriney/conda/lib/python3.11/site-packages/wandb/sdk/wandb_run.py\", line 224, in _loop_check_status\n",
      "    local_handle = request()\n",
      "                   ^^^^^^^^^\n",
      "  File \"/Users/bryanbriney/conda/lib/python3.11/site-packages/wandb/sdk/interface/interface.py\", line 748, in deliver_stop_status\n",
      "    return self._deliver_stop_status(status)\n",
      "           ^^^^^^^^^^^^^^^^^^^^^^^^^^^^^^^^^\n",
      "  File \"/Users/bryanbriney/conda/lib/python3.11/site-packages/wandb/sdk/interface/interface_shared.py\", line 468, in _deliver_stop_status\n",
      "    return self._deliver_record(record)\n",
      "           ^^^^^^^^^^^^^^^^^^^^^^^^^^^^\n",
      "  File \"/Users/bryanbriney/conda/lib/python3.11/site-packages/wandb/sdk/interface/interface_shared.py\", line 437, in _deliver_record\n",
      "    handle = mailbox._deliver_record(record, interface=self)\n",
      "             ^^^^^^^^^^^^^^^^^^^^^^^^^^^^^^^^^^^^^^^^^^^^^^^\n",
      "  File \"/Users/bryanbriney/conda/lib/python3.11/site-packages/wandb/sdk/lib/mailbox.py\", line 455, in _deliver_record\n",
      "    interface._publish(record)\n",
      "  File \"/Users/bryanbriney/conda/lib/python3.11/site-packages/wandb/sdk/interface/interface_sock.py\", line 51, in _publish\n",
      "    self._sock_client.send_record_publish(record)\n",
      "  File \"/Users/bryanbriney/conda/lib/python3.11/site-packages/wandb/sdk/lib/sock_client.py\", line 221, in send_record_publish\n",
      "    self.send_server_request(server_req)\n",
      "  File \"/Users/bryanbriney/conda/lib/python3.11/site-packages/wandb/sdk/lib/sock_client.py\", line 155, in send_server_request\n",
      "    self._send_message(msg)\n",
      "  File \"/Users/bryanbriney/conda/lib/python3.11/site-packages/wandb/sdk/lib/sock_client.py\", line 152, in _send_message\n",
      "    self._sendall_with_error_handle(header + data)\n",
      "  File \"/Users/bryanbriney/conda/lib/python3.11/site-packages/wandb/sdk/lib/sock_client.py\", line 130, in _sendall_with_error_handle\n",
      "    sent = self._sock.send(data)\n",
      "           ^^^^^^^^^^^^^^^^^^^^^\n",
      "BrokenPipeError: [Errno 32] Broken pipe\n",
      "Exception in thread NetStatThr:\n",
      "Traceback (most recent call last):\n",
      "  File \"/Users/bryanbriney/conda/lib/python3.11/threading.py\", line 1045, in _bootstrap_inner\n",
      "    self.run()\n",
      "  File \"/Users/bryanbriney/conda/lib/python3.11/threading.py\", line 982, in run\n",
      "    self._target(*self._args, **self._kwargs)\n",
      "  File \"/Users/bryanbriney/conda/lib/python3.11/site-packages/wandb/sdk/wandb_run.py\", line 268, in check_network_status\n",
      "    self._loop_check_status(\n",
      "  File \"/Users/bryanbriney/conda/lib/python3.11/site-packages/wandb/sdk/wandb_run.py\", line 224, in _loop_check_status\n",
      "    local_handle = request()\n",
      "                   ^^^^^^^^^\n",
      "  File \"/Users/bryanbriney/conda/lib/python3.11/site-packages/wandb/sdk/interface/interface.py\", line 756, in deliver_network_status\n",
      "    return self._deliver_network_status(status)\n",
      "           ^^^^^^^^^^^^^^^^^^^^^^^^^^^^^^^^^^^^\n",
      "  File \"/Users/bryanbriney/conda/lib/python3.11/site-packages/wandb/sdk/interface/interface_shared.py\", line 484, in _deliver_network_status\n",
      "    return self._deliver_record(record)\n",
      "           ^^^^^^^^^^^^^^^^^^^^^^^^^^^^\n",
      "  File \"/Users/bryanbriney/conda/lib/python3.11/site-packages/wandb/sdk/interface/interface_shared.py\", line 437, in _deliver_record\n",
      "    handle = mailbox._deliver_record(record, interface=self)\n",
      "             ^^^^^^^^^^^^^^^^^^^^^^^^^^^^^^^^^^^^^^^^^^^^^^^\n",
      "  File \"/Users/bryanbriney/conda/lib/python3.11/site-packages/wandb/sdk/lib/mailbox.py\", line 455, in _deliver_record\n",
      "    interface._publish(record)\n",
      "  File \"/Users/bryanbriney/conda/lib/python3.11/site-packages/wandb/sdk/interface/interface_sock.py\", line 51, in _publish\n",
      "    self._sock_client.send_record_publish(record)\n",
      "  File \"/Users/bryanbriney/conda/lib/python3.11/site-packages/wandb/sdk/lib/sock_client.py\", line 221, in send_record_publish\n",
      "    self.send_server_request(server_req)\n",
      "  File \"/Users/bryanbriney/conda/lib/python3.11/site-packages/wandb/sdk/lib/sock_client.py\", line 155, in send_server_request\n",
      "    self._send_message(msg)\n",
      "  File \"/Users/bryanbriney/conda/lib/python3.11/site-packages/wandb/sdk/lib/sock_client.py\", line 152, in _send_message\n",
      "    self._sendall_with_error_handle(header + data)\n",
      "  File \"/Users/bryanbriney/conda/lib/python3.11/site-packages/wandb/sdk/lib/sock_client.py\", line 130, in _sendall_with_error_handle\n",
      "    sent = self._sock.send(data)\n",
      "           ^^^^^^^^^^^^^^^^^^^^^\n",
      "BrokenPipeError: [Errno 32] Broken pipe\n",
      "Exception in thread IntMsgThr:\n",
      "Traceback (most recent call last):\n",
      "  File \"/Users/bryanbriney/conda/lib/python3.11/threading.py\", line 1045, in _bootstrap_inner\n",
      "    self.run()\n",
      "  File \"/Users/bryanbriney/conda/lib/python3.11/threading.py\", line 982, in run\n",
      "    self._target(*self._args, **self._kwargs)\n",
      "  File \"/Users/bryanbriney/conda/lib/python3.11/site-packages/wandb/sdk/wandb_run.py\", line 300, in check_internal_messages\n",
      "    self._loop_check_status(\n",
      "  File \"/Users/bryanbriney/conda/lib/python3.11/site-packages/wandb/sdk/wandb_run.py\", line 224, in _loop_check_status\n",
      "    local_handle = request()\n",
      "                   ^^^^^^^^^\n",
      "  File \"/Users/bryanbriney/conda/lib/python3.11/site-packages/wandb/sdk/interface/interface.py\", line 764, in deliver_internal_messages\n",
      "    return self._deliver_internal_messages(internal_message)\n",
      "           ^^^^^^^^^^^^^^^^^^^^^^^^^^^^^^^^^^^^^^^^^^^^^^^^^\n",
      "  File \"/Users/bryanbriney/conda/lib/python3.11/site-packages/wandb/sdk/interface/interface_shared.py\", line 490, in _deliver_internal_messages\n",
      "    return self._deliver_record(record)\n",
      "           ^^^^^^^^^^^^^^^^^^^^^^^^^^^^\n",
      "  File \"/Users/bryanbriney/conda/lib/python3.11/site-packages/wandb/sdk/interface/interface_shared.py\", line 437, in _deliver_record\n",
      "    handle = mailbox._deliver_record(record, interface=self)\n",
      "             ^^^^^^^^^^^^^^^^^^^^^^^^^^^^^^^^^^^^^^^^^^^^^^^\n",
      "  File \"/Users/bryanbriney/conda/lib/python3.11/site-packages/wandb/sdk/lib/mailbox.py\", line 455, in _deliver_record\n",
      "    interface._publish(record)\n",
      "  File \"/Users/bryanbriney/conda/lib/python3.11/site-packages/wandb/sdk/interface/interface_sock.py\", line 51, in _publish\n",
      "    self._sock_client.send_record_publish(record)\n",
      "  File \"/Users/bryanbriney/conda/lib/python3.11/site-packages/wandb/sdk/lib/sock_client.py\", line 221, in send_record_publish\n",
      "    self.send_server_request(server_req)\n",
      "  File \"/Users/bryanbriney/conda/lib/python3.11/site-packages/wandb/sdk/lib/sock_client.py\", line 155, in send_server_request\n",
      "    self._send_message(msg)\n",
      "  File \"/Users/bryanbriney/conda/lib/python3.11/site-packages/wandb/sdk/lib/sock_client.py\", line 152, in _send_message\n",
      "    self._sendall_with_error_handle(header + data)\n",
      "  File \"/Users/bryanbriney/conda/lib/python3.11/site-packages/wandb/sdk/lib/sock_client.py\", line 130, in _sendall_with_error_handle\n",
      "    sent = self._sock.send(data)\n",
      "           ^^^^^^^^^^^^^^^^^^^^^\n",
      "BrokenPipeError: [Errno 32] Broken pipe\n"
     ]
    },
    {
     "name": "stdout",
     "output_type": "stream",
     "text": [
      "step 1295  | loss: 0.5281 | MLM loss: 0.5278 | router z-loss: 0.0003 | lr: 0.000153\n"
     ]
    },
    {
     "ename": "BrokenPipeError",
     "evalue": "[Errno 32] Broken pipe",
     "output_type": "error",
     "traceback": [
      "\u001b[0;31m---------------------------------------------------------------------------\u001b[0m",
      "\u001b[0;31mBrokenPipeError\u001b[0m                           Traceback (most recent call last)",
      "Cell \u001b[0;32mIn[10], line 1\u001b[0m\n\u001b[0;32m----> 1\u001b[0m trainer\u001b[38;5;241m.\u001b[39mtrain()\n",
      "File \u001b[0;32m~/git/BALM/balm/train/trainer.py:266\u001b[0m, in \u001b[0;36mTrainer.train\u001b[0;34m(self)\u001b[0m\n\u001b[1;32m    260\u001b[0m pbar\u001b[38;5;241m.\u001b[39mupdate(\u001b[38;5;241m1\u001b[39m)\n\u001b[1;32m    261\u001b[0m \u001b[38;5;28;01mif\u001b[39;00m completed_steps \u001b[38;5;241m%\u001b[39m \u001b[38;5;28mself\u001b[39m\u001b[38;5;241m.\u001b[39mlogging_steps \u001b[38;5;241m==\u001b[39m \u001b[38;5;241m0\u001b[39m:\n\u001b[1;32m    262\u001b[0m     \u001b[38;5;28mself\u001b[39m\u001b[38;5;241m.\u001b[39mprint_train_log(\n\u001b[1;32m    263\u001b[0m         steps\u001b[38;5;241m=\u001b[39mcompleted_steps,\n\u001b[1;32m    264\u001b[0m         outputs\u001b[38;5;241m=\u001b[39moutputs,\n\u001b[1;32m    265\u001b[0m         lr\u001b[38;5;241m=\u001b[39m\u001b[38;5;28mself\u001b[39m\u001b[38;5;241m.\u001b[39moptimizer\u001b[38;5;241m.\u001b[39mparam_groups[\u001b[38;5;241m0\u001b[39m][\u001b[38;5;124m\"\u001b[39m\u001b[38;5;124mlr\u001b[39m\u001b[38;5;124m\"\u001b[39m],\n\u001b[0;32m--> 266\u001b[0m         num_train_steps\u001b[38;5;241m=\u001b[39m\u001b[38;5;28mself\u001b[39m\u001b[38;5;241m.\u001b[39mnum_train_steps,\n\u001b[1;32m    267\u001b[0m     )\n\u001b[1;32m    268\u001b[0m     \u001b[38;5;28;01mif\u001b[39;00m \u001b[38;5;28mself\u001b[39m\u001b[38;5;241m.\u001b[39muse_wandb:\n\u001b[1;32m    269\u001b[0m         wandb\u001b[38;5;241m.\u001b[39mlog(\n\u001b[1;32m    270\u001b[0m             {\n\u001b[1;32m    271\u001b[0m                 \u001b[38;5;124m\"\u001b[39m\u001b[38;5;124mtrain/loss\u001b[39m\u001b[38;5;124m\"\u001b[39m: loss\u001b[38;5;241m.\u001b[39mitem(),\n\u001b[0;32m   (...)\u001b[0m\n\u001b[1;32m    275\u001b[0m             }\n\u001b[1;32m    276\u001b[0m         )\n",
      "File \u001b[0;32m~/conda/lib/python3.11/site-packages/wandb/sdk/wandb_run.py:420\u001b[0m, in \u001b[0;36m_run_decorator._noop.<locals>.wrapper\u001b[0;34m(self, *args, **kwargs)\u001b[0m\n\u001b[1;32m    417\u001b[0m         wandb\u001b[38;5;241m.\u001b[39mtermwarn(message, repeat\u001b[38;5;241m=\u001b[39m\u001b[38;5;28;01mFalse\u001b[39;00m)\n\u001b[1;32m    418\u001b[0m         \u001b[38;5;28;01mreturn\u001b[39;00m \u001b[38;5;28mcls\u001b[39m\u001b[38;5;241m.\u001b[39mDummy()\n\u001b[0;32m--> 420\u001b[0m \u001b[38;5;28;01mreturn\u001b[39;00m func(\u001b[38;5;28mself\u001b[39m, \u001b[38;5;241m*\u001b[39margs, \u001b[38;5;241m*\u001b[39m\u001b[38;5;241m*\u001b[39mkwargs)\n",
      "File \u001b[0;32m~/conda/lib/python3.11/site-packages/wandb/sdk/wandb_run.py:371\u001b[0m, in \u001b[0;36m_run_decorator._noop_on_finish.<locals>.decorator_fn.<locals>.wrapper_fn\u001b[0;34m(self, *args, **kwargs)\u001b[0m\n\u001b[1;32m    368\u001b[0m \u001b[38;5;129m@functools\u001b[39m\u001b[38;5;241m.\u001b[39mwraps(func)\n\u001b[1;32m    369\u001b[0m \u001b[38;5;28;01mdef\u001b[39;00m \u001b[38;5;21mwrapper_fn\u001b[39m(\u001b[38;5;28mself\u001b[39m: Type[\u001b[38;5;124m\"\u001b[39m\u001b[38;5;124mRun\u001b[39m\u001b[38;5;124m\"\u001b[39m], \u001b[38;5;241m*\u001b[39margs: Any, \u001b[38;5;241m*\u001b[39m\u001b[38;5;241m*\u001b[39mkwargs: Any) \u001b[38;5;241m-\u001b[39m\u001b[38;5;241m>\u001b[39m Any:\n\u001b[1;32m    370\u001b[0m     \u001b[38;5;28;01mif\u001b[39;00m \u001b[38;5;129;01mnot\u001b[39;00m \u001b[38;5;28mgetattr\u001b[39m(\u001b[38;5;28mself\u001b[39m, \u001b[38;5;124m\"\u001b[39m\u001b[38;5;124m_is_finished\u001b[39m\u001b[38;5;124m\"\u001b[39m, \u001b[38;5;28;01mFalse\u001b[39;00m):\n\u001b[0;32m--> 371\u001b[0m         \u001b[38;5;28;01mreturn\u001b[39;00m func(\u001b[38;5;28mself\u001b[39m, \u001b[38;5;241m*\u001b[39margs, \u001b[38;5;241m*\u001b[39m\u001b[38;5;241m*\u001b[39mkwargs)\n\u001b[1;32m    373\u001b[0m     default_message \u001b[38;5;241m=\u001b[39m (\n\u001b[1;32m    374\u001b[0m         \u001b[38;5;124mf\u001b[39m\u001b[38;5;124m\"\u001b[39m\u001b[38;5;124mRun (\u001b[39m\u001b[38;5;132;01m{\u001b[39;00m\u001b[38;5;28mself\u001b[39m\u001b[38;5;241m.\u001b[39mid\u001b[38;5;132;01m}\u001b[39;00m\u001b[38;5;124m) is finished. The call to `\u001b[39m\u001b[38;5;132;01m{\u001b[39;00mfunc\u001b[38;5;241m.\u001b[39m\u001b[38;5;18m__name__\u001b[39m\u001b[38;5;132;01m}\u001b[39;00m\u001b[38;5;124m` will be ignored. \u001b[39m\u001b[38;5;124m\"\u001b[39m\n\u001b[1;32m    375\u001b[0m         \u001b[38;5;124mf\u001b[39m\u001b[38;5;124m\"\u001b[39m\u001b[38;5;124mPlease make sure that you are using an active run.\u001b[39m\u001b[38;5;124m\"\u001b[39m\n\u001b[1;32m    376\u001b[0m     )\n\u001b[1;32m    377\u001b[0m     resolved_message \u001b[38;5;241m=\u001b[39m message \u001b[38;5;129;01mor\u001b[39;00m default_message\n",
      "File \u001b[0;32m~/conda/lib/python3.11/site-packages/wandb/sdk/wandb_run.py:361\u001b[0m, in \u001b[0;36m_run_decorator._attach.<locals>.wrapper\u001b[0;34m(self, *args, **kwargs)\u001b[0m\n\u001b[1;32m    359\u001b[0m         \u001b[38;5;28;01mraise\u001b[39;00m e\n\u001b[1;32m    360\u001b[0m     \u001b[38;5;28mcls\u001b[39m\u001b[38;5;241m.\u001b[39m_is_attaching \u001b[38;5;241m=\u001b[39m \u001b[38;5;124m\"\u001b[39m\u001b[38;5;124m\"\u001b[39m\n\u001b[0;32m--> 361\u001b[0m \u001b[38;5;28;01mreturn\u001b[39;00m func(\u001b[38;5;28mself\u001b[39m, \u001b[38;5;241m*\u001b[39margs, \u001b[38;5;241m*\u001b[39m\u001b[38;5;241m*\u001b[39mkwargs)\n",
      "File \u001b[0;32m~/conda/lib/python3.11/site-packages/wandb/sdk/wandb_run.py:1820\u001b[0m, in \u001b[0;36mRun.log\u001b[0;34m(self, data, step, commit, sync)\u001b[0m\n\u001b[1;32m   1813\u001b[0m \u001b[38;5;28;01mif\u001b[39;00m sync \u001b[38;5;129;01mis\u001b[39;00m \u001b[38;5;129;01mnot\u001b[39;00m \u001b[38;5;28;01mNone\u001b[39;00m:\n\u001b[1;32m   1814\u001b[0m     deprecate\u001b[38;5;241m.\u001b[39mdeprecate(\n\u001b[1;32m   1815\u001b[0m         field_name\u001b[38;5;241m=\u001b[39mdeprecate\u001b[38;5;241m.\u001b[39mDeprecated\u001b[38;5;241m.\u001b[39mrun__log_sync,\n\u001b[1;32m   1816\u001b[0m         warning_message\u001b[38;5;241m=\u001b[39m(\n\u001b[1;32m   1817\u001b[0m             \u001b[38;5;124m\"\u001b[39m\u001b[38;5;124m`sync` argument is deprecated and does not affect the behaviour of `wandb.log`\u001b[39m\u001b[38;5;124m\"\u001b[39m\n\u001b[1;32m   1818\u001b[0m         ),\n\u001b[1;32m   1819\u001b[0m     )\n\u001b[0;32m-> 1820\u001b[0m \u001b[38;5;28mself\u001b[39m\u001b[38;5;241m.\u001b[39m_log(data\u001b[38;5;241m=\u001b[39mdata, step\u001b[38;5;241m=\u001b[39mstep, commit\u001b[38;5;241m=\u001b[39mcommit)\n",
      "File \u001b[0;32m~/conda/lib/python3.11/site-packages/wandb/sdk/wandb_run.py:1595\u001b[0m, in \u001b[0;36mRun._log\u001b[0;34m(self, data, step, commit)\u001b[0m\n\u001b[1;32m   1592\u001b[0m \u001b[38;5;28;01mif\u001b[39;00m \u001b[38;5;28many\u001b[39m(\u001b[38;5;129;01mnot\u001b[39;00m \u001b[38;5;28misinstance\u001b[39m(key, \u001b[38;5;28mstr\u001b[39m) \u001b[38;5;28;01mfor\u001b[39;00m key \u001b[38;5;129;01min\u001b[39;00m data\u001b[38;5;241m.\u001b[39mkeys()):\n\u001b[1;32m   1593\u001b[0m     \u001b[38;5;28;01mraise\u001b[39;00m \u001b[38;5;167;01mValueError\u001b[39;00m(\u001b[38;5;124m\"\u001b[39m\u001b[38;5;124mKey values passed to `wandb.log` must be strings.\u001b[39m\u001b[38;5;124m\"\u001b[39m)\n\u001b[0;32m-> 1595\u001b[0m \u001b[38;5;28mself\u001b[39m\u001b[38;5;241m.\u001b[39m_partial_history_callback(data, step, commit)\n\u001b[1;32m   1597\u001b[0m \u001b[38;5;28;01mif\u001b[39;00m step \u001b[38;5;129;01mis\u001b[39;00m \u001b[38;5;129;01mnot\u001b[39;00m \u001b[38;5;28;01mNone\u001b[39;00m:\n\u001b[1;32m   1598\u001b[0m     \u001b[38;5;28;01mif\u001b[39;00m os\u001b[38;5;241m.\u001b[39mgetpid() \u001b[38;5;241m!=\u001b[39m \u001b[38;5;28mself\u001b[39m\u001b[38;5;241m.\u001b[39m_init_pid \u001b[38;5;129;01mor\u001b[39;00m \u001b[38;5;28mself\u001b[39m\u001b[38;5;241m.\u001b[39m_is_attached:\n",
      "File \u001b[0;32m~/conda/lib/python3.11/site-packages/wandb/sdk/wandb_run.py:1467\u001b[0m, in \u001b[0;36mRun._partial_history_callback\u001b[0;34m(self, row, step, commit)\u001b[0m\n\u001b[1;32m   1464\u001b[0m \u001b[38;5;28;01mif\u001b[39;00m \u001b[38;5;28mself\u001b[39m\u001b[38;5;241m.\u001b[39m_backend \u001b[38;5;129;01mand\u001b[39;00m \u001b[38;5;28mself\u001b[39m\u001b[38;5;241m.\u001b[39m_backend\u001b[38;5;241m.\u001b[39minterface:\n\u001b[1;32m   1465\u001b[0m     not_using_tensorboard \u001b[38;5;241m=\u001b[39m \u001b[38;5;28mlen\u001b[39m(wandb\u001b[38;5;241m.\u001b[39mpatched[\u001b[38;5;124m\"\u001b[39m\u001b[38;5;124mtensorboard\u001b[39m\u001b[38;5;124m\"\u001b[39m]) \u001b[38;5;241m==\u001b[39m \u001b[38;5;241m0\u001b[39m\n\u001b[0;32m-> 1467\u001b[0m     \u001b[38;5;28mself\u001b[39m\u001b[38;5;241m.\u001b[39m_backend\u001b[38;5;241m.\u001b[39minterface\u001b[38;5;241m.\u001b[39mpublish_partial_history(\n\u001b[1;32m   1468\u001b[0m         row,\n\u001b[1;32m   1469\u001b[0m         user_step\u001b[38;5;241m=\u001b[39m\u001b[38;5;28mself\u001b[39m\u001b[38;5;241m.\u001b[39m_step,\n\u001b[1;32m   1470\u001b[0m         step\u001b[38;5;241m=\u001b[39mstep,\n\u001b[1;32m   1471\u001b[0m         flush\u001b[38;5;241m=\u001b[39mcommit,\n\u001b[1;32m   1472\u001b[0m         publish_step\u001b[38;5;241m=\u001b[39mnot_using_tensorboard,\n\u001b[1;32m   1473\u001b[0m     )\n",
      "File \u001b[0;32m~/conda/lib/python3.11/site-packages/wandb/sdk/interface/interface.py:567\u001b[0m, in \u001b[0;36mInterfaceBase.publish_partial_history\u001b[0;34m(self, data, user_step, step, flush, publish_step, run)\u001b[0m\n\u001b[1;32m    565\u001b[0m \u001b[38;5;28;01mif\u001b[39;00m flush \u001b[38;5;129;01mis\u001b[39;00m \u001b[38;5;129;01mnot\u001b[39;00m \u001b[38;5;28;01mNone\u001b[39;00m:\n\u001b[1;32m    566\u001b[0m     partial_history\u001b[38;5;241m.\u001b[39maction\u001b[38;5;241m.\u001b[39mflush \u001b[38;5;241m=\u001b[39m flush\n\u001b[0;32m--> 567\u001b[0m \u001b[38;5;28mself\u001b[39m\u001b[38;5;241m.\u001b[39m_publish_partial_history(partial_history)\n",
      "File \u001b[0;32m~/conda/lib/python3.11/site-packages/wandb/sdk/interface/interface_shared.py:89\u001b[0m, in \u001b[0;36mInterfaceShared._publish_partial_history\u001b[0;34m(self, partial_history)\u001b[0m\n\u001b[1;32m     85\u001b[0m \u001b[38;5;28;01mdef\u001b[39;00m \u001b[38;5;21m_publish_partial_history\u001b[39m(\n\u001b[1;32m     86\u001b[0m     \u001b[38;5;28mself\u001b[39m, partial_history: pb\u001b[38;5;241m.\u001b[39mPartialHistoryRequest\n\u001b[1;32m     87\u001b[0m ) \u001b[38;5;241m-\u001b[39m\u001b[38;5;241m>\u001b[39m \u001b[38;5;28;01mNone\u001b[39;00m:\n\u001b[1;32m     88\u001b[0m     rec \u001b[38;5;241m=\u001b[39m \u001b[38;5;28mself\u001b[39m\u001b[38;5;241m.\u001b[39m_make_request(partial_history\u001b[38;5;241m=\u001b[39mpartial_history)\n\u001b[0;32m---> 89\u001b[0m     \u001b[38;5;28mself\u001b[39m\u001b[38;5;241m.\u001b[39m_publish(rec)\n",
      "File \u001b[0;32m~/conda/lib/python3.11/site-packages/wandb/sdk/interface/interface_sock.py:51\u001b[0m, in \u001b[0;36mInterfaceSock._publish\u001b[0;34m(self, record, local)\u001b[0m\n\u001b[1;32m     49\u001b[0m \u001b[38;5;28;01mdef\u001b[39;00m \u001b[38;5;21m_publish\u001b[39m(\u001b[38;5;28mself\u001b[39m, record: \u001b[38;5;124m\"\u001b[39m\u001b[38;5;124mpb.Record\u001b[39m\u001b[38;5;124m\"\u001b[39m, local: Optional[\u001b[38;5;28mbool\u001b[39m] \u001b[38;5;241m=\u001b[39m \u001b[38;5;28;01mNone\u001b[39;00m) \u001b[38;5;241m-\u001b[39m\u001b[38;5;241m>\u001b[39m \u001b[38;5;28;01mNone\u001b[39;00m:\n\u001b[1;32m     50\u001b[0m     \u001b[38;5;28mself\u001b[39m\u001b[38;5;241m.\u001b[39m_assign(record)\n\u001b[0;32m---> 51\u001b[0m     \u001b[38;5;28mself\u001b[39m\u001b[38;5;241m.\u001b[39m_sock_client\u001b[38;5;241m.\u001b[39msend_record_publish(record)\n",
      "File \u001b[0;32m~/conda/lib/python3.11/site-packages/wandb/sdk/lib/sock_client.py:221\u001b[0m, in \u001b[0;36mSockClient.send_record_publish\u001b[0;34m(self, record)\u001b[0m\n\u001b[1;32m    219\u001b[0m server_req \u001b[38;5;241m=\u001b[39m spb\u001b[38;5;241m.\u001b[39mServerRequest()\n\u001b[1;32m    220\u001b[0m server_req\u001b[38;5;241m.\u001b[39mrecord_publish\u001b[38;5;241m.\u001b[39mCopyFrom(record)\n\u001b[0;32m--> 221\u001b[0m \u001b[38;5;28mself\u001b[39m\u001b[38;5;241m.\u001b[39msend_server_request(server_req)\n",
      "File \u001b[0;32m~/conda/lib/python3.11/site-packages/wandb/sdk/lib/sock_client.py:155\u001b[0m, in \u001b[0;36mSockClient.send_server_request\u001b[0;34m(self, msg)\u001b[0m\n\u001b[1;32m    154\u001b[0m \u001b[38;5;28;01mdef\u001b[39;00m \u001b[38;5;21msend_server_request\u001b[39m(\u001b[38;5;28mself\u001b[39m, msg: Any) \u001b[38;5;241m-\u001b[39m\u001b[38;5;241m>\u001b[39m \u001b[38;5;28;01mNone\u001b[39;00m:\n\u001b[0;32m--> 155\u001b[0m     \u001b[38;5;28mself\u001b[39m\u001b[38;5;241m.\u001b[39m_send_message(msg)\n",
      "File \u001b[0;32m~/conda/lib/python3.11/site-packages/wandb/sdk/lib/sock_client.py:152\u001b[0m, in \u001b[0;36mSockClient._send_message\u001b[0;34m(self, msg)\u001b[0m\n\u001b[1;32m    150\u001b[0m header \u001b[38;5;241m=\u001b[39m struct\u001b[38;5;241m.\u001b[39mpack(\u001b[38;5;124m\"\u001b[39m\u001b[38;5;124m<BI\u001b[39m\u001b[38;5;124m\"\u001b[39m, \u001b[38;5;28mord\u001b[39m(\u001b[38;5;124m\"\u001b[39m\u001b[38;5;124mW\u001b[39m\u001b[38;5;124m\"\u001b[39m), raw_size)\n\u001b[1;32m    151\u001b[0m \u001b[38;5;28;01mwith\u001b[39;00m \u001b[38;5;28mself\u001b[39m\u001b[38;5;241m.\u001b[39m_lock:\n\u001b[0;32m--> 152\u001b[0m     \u001b[38;5;28mself\u001b[39m\u001b[38;5;241m.\u001b[39m_sendall_with_error_handle(header \u001b[38;5;241m+\u001b[39m data)\n",
      "File \u001b[0;32m~/conda/lib/python3.11/site-packages/wandb/sdk/lib/sock_client.py:130\u001b[0m, in \u001b[0;36mSockClient._sendall_with_error_handle\u001b[0;34m(self, data)\u001b[0m\n\u001b[1;32m    128\u001b[0m start_time \u001b[38;5;241m=\u001b[39m time\u001b[38;5;241m.\u001b[39mmonotonic()\n\u001b[1;32m    129\u001b[0m \u001b[38;5;28;01mtry\u001b[39;00m:\n\u001b[0;32m--> 130\u001b[0m     sent \u001b[38;5;241m=\u001b[39m \u001b[38;5;28mself\u001b[39m\u001b[38;5;241m.\u001b[39m_sock\u001b[38;5;241m.\u001b[39msend(data)\n\u001b[1;32m    131\u001b[0m     \u001b[38;5;66;03m# sent equal to 0 indicates a closed socket\u001b[39;00m\n\u001b[1;32m    132\u001b[0m     \u001b[38;5;28;01mif\u001b[39;00m sent \u001b[38;5;241m==\u001b[39m \u001b[38;5;241m0\u001b[39m:\n",
      "\u001b[0;31mBrokenPipeError\u001b[0m: [Errno 32] Broken pipe"
     ]
    },
    {
     "name": "stdout",
     "output_type": "stream",
     "text": [
      "Error in callback <bound method _WandbInit._pause_backend of <wandb.sdk.wandb_init._WandbInit object at 0x2de2df490>> (for post_run_cell):\n"
     ]
    },
    {
     "ename": "BrokenPipeError",
     "evalue": "[Errno 32] Broken pipe",
     "output_type": "error",
     "traceback": [
      "\u001b[0;31m---------------------------------------------------------------------------\u001b[0m",
      "\u001b[0;31mBrokenPipeError\u001b[0m                           Traceback (most recent call last)",
      "File \u001b[0;32m~/conda/lib/python3.11/site-packages/wandb/sdk/wandb_init.py:436\u001b[0m, in \u001b[0;36m_WandbInit._pause_backend\u001b[0;34m(self, *args, **kwargs)\u001b[0m\n\u001b[1;32m    434\u001b[0m \u001b[38;5;28;01mif\u001b[39;00m \u001b[38;5;28mself\u001b[39m\u001b[38;5;241m.\u001b[39mbackend\u001b[38;5;241m.\u001b[39minterface \u001b[38;5;129;01mis\u001b[39;00m \u001b[38;5;129;01mnot\u001b[39;00m \u001b[38;5;28;01mNone\u001b[39;00m:\n\u001b[1;32m    435\u001b[0m     logger\u001b[38;5;241m.\u001b[39minfo(\u001b[38;5;124m\"\u001b[39m\u001b[38;5;124mpausing backend\u001b[39m\u001b[38;5;124m\"\u001b[39m)  \u001b[38;5;66;03m# type: ignore\u001b[39;00m\n\u001b[0;32m--> 436\u001b[0m     \u001b[38;5;28mself\u001b[39m\u001b[38;5;241m.\u001b[39mbackend\u001b[38;5;241m.\u001b[39minterface\u001b[38;5;241m.\u001b[39mpublish_pause()\n",
      "File \u001b[0;32m~/conda/lib/python3.11/site-packages/wandb/sdk/interface/interface.py:647\u001b[0m, in \u001b[0;36mInterfaceBase.publish_pause\u001b[0;34m(self)\u001b[0m\n\u001b[1;32m    645\u001b[0m \u001b[38;5;28;01mdef\u001b[39;00m \u001b[38;5;21mpublish_pause\u001b[39m(\u001b[38;5;28mself\u001b[39m) \u001b[38;5;241m-\u001b[39m\u001b[38;5;241m>\u001b[39m \u001b[38;5;28;01mNone\u001b[39;00m:\n\u001b[1;32m    646\u001b[0m     pause \u001b[38;5;241m=\u001b[39m pb\u001b[38;5;241m.\u001b[39mPauseRequest()\n\u001b[0;32m--> 647\u001b[0m     \u001b[38;5;28mself\u001b[39m\u001b[38;5;241m.\u001b[39m_publish_pause(pause)\n",
      "File \u001b[0;32m~/conda/lib/python3.11/site-packages/wandb/sdk/interface/interface_shared.py:349\u001b[0m, in \u001b[0;36mInterfaceShared._publish_pause\u001b[0;34m(self, pause)\u001b[0m\n\u001b[1;32m    347\u001b[0m \u001b[38;5;28;01mdef\u001b[39;00m \u001b[38;5;21m_publish_pause\u001b[39m(\u001b[38;5;28mself\u001b[39m, pause: pb\u001b[38;5;241m.\u001b[39mPauseRequest) \u001b[38;5;241m-\u001b[39m\u001b[38;5;241m>\u001b[39m \u001b[38;5;28;01mNone\u001b[39;00m:\n\u001b[1;32m    348\u001b[0m     rec \u001b[38;5;241m=\u001b[39m \u001b[38;5;28mself\u001b[39m\u001b[38;5;241m.\u001b[39m_make_request(pause\u001b[38;5;241m=\u001b[39mpause)\n\u001b[0;32m--> 349\u001b[0m     \u001b[38;5;28mself\u001b[39m\u001b[38;5;241m.\u001b[39m_publish(rec)\n",
      "File \u001b[0;32m~/conda/lib/python3.11/site-packages/wandb/sdk/interface/interface_sock.py:51\u001b[0m, in \u001b[0;36mInterfaceSock._publish\u001b[0;34m(self, record, local)\u001b[0m\n\u001b[1;32m     49\u001b[0m \u001b[38;5;28;01mdef\u001b[39;00m \u001b[38;5;21m_publish\u001b[39m(\u001b[38;5;28mself\u001b[39m, record: \u001b[38;5;124m\"\u001b[39m\u001b[38;5;124mpb.Record\u001b[39m\u001b[38;5;124m\"\u001b[39m, local: Optional[\u001b[38;5;28mbool\u001b[39m] \u001b[38;5;241m=\u001b[39m \u001b[38;5;28;01mNone\u001b[39;00m) \u001b[38;5;241m-\u001b[39m\u001b[38;5;241m>\u001b[39m \u001b[38;5;28;01mNone\u001b[39;00m:\n\u001b[1;32m     50\u001b[0m     \u001b[38;5;28mself\u001b[39m\u001b[38;5;241m.\u001b[39m_assign(record)\n\u001b[0;32m---> 51\u001b[0m     \u001b[38;5;28mself\u001b[39m\u001b[38;5;241m.\u001b[39m_sock_client\u001b[38;5;241m.\u001b[39msend_record_publish(record)\n",
      "File \u001b[0;32m~/conda/lib/python3.11/site-packages/wandb/sdk/lib/sock_client.py:221\u001b[0m, in \u001b[0;36mSockClient.send_record_publish\u001b[0;34m(self, record)\u001b[0m\n\u001b[1;32m    219\u001b[0m server_req \u001b[38;5;241m=\u001b[39m spb\u001b[38;5;241m.\u001b[39mServerRequest()\n\u001b[1;32m    220\u001b[0m server_req\u001b[38;5;241m.\u001b[39mrecord_publish\u001b[38;5;241m.\u001b[39mCopyFrom(record)\n\u001b[0;32m--> 221\u001b[0m \u001b[38;5;28mself\u001b[39m\u001b[38;5;241m.\u001b[39msend_server_request(server_req)\n",
      "File \u001b[0;32m~/conda/lib/python3.11/site-packages/wandb/sdk/lib/sock_client.py:155\u001b[0m, in \u001b[0;36mSockClient.send_server_request\u001b[0;34m(self, msg)\u001b[0m\n\u001b[1;32m    154\u001b[0m \u001b[38;5;28;01mdef\u001b[39;00m \u001b[38;5;21msend_server_request\u001b[39m(\u001b[38;5;28mself\u001b[39m, msg: Any) \u001b[38;5;241m-\u001b[39m\u001b[38;5;241m>\u001b[39m \u001b[38;5;28;01mNone\u001b[39;00m:\n\u001b[0;32m--> 155\u001b[0m     \u001b[38;5;28mself\u001b[39m\u001b[38;5;241m.\u001b[39m_send_message(msg)\n",
      "File \u001b[0;32m~/conda/lib/python3.11/site-packages/wandb/sdk/lib/sock_client.py:152\u001b[0m, in \u001b[0;36mSockClient._send_message\u001b[0;34m(self, msg)\u001b[0m\n\u001b[1;32m    150\u001b[0m header \u001b[38;5;241m=\u001b[39m struct\u001b[38;5;241m.\u001b[39mpack(\u001b[38;5;124m\"\u001b[39m\u001b[38;5;124m<BI\u001b[39m\u001b[38;5;124m\"\u001b[39m, \u001b[38;5;28mord\u001b[39m(\u001b[38;5;124m\"\u001b[39m\u001b[38;5;124mW\u001b[39m\u001b[38;5;124m\"\u001b[39m), raw_size)\n\u001b[1;32m    151\u001b[0m \u001b[38;5;28;01mwith\u001b[39;00m \u001b[38;5;28mself\u001b[39m\u001b[38;5;241m.\u001b[39m_lock:\n\u001b[0;32m--> 152\u001b[0m     \u001b[38;5;28mself\u001b[39m\u001b[38;5;241m.\u001b[39m_sendall_with_error_handle(header \u001b[38;5;241m+\u001b[39m data)\n",
      "File \u001b[0;32m~/conda/lib/python3.11/site-packages/wandb/sdk/lib/sock_client.py:130\u001b[0m, in \u001b[0;36mSockClient._sendall_with_error_handle\u001b[0;34m(self, data)\u001b[0m\n\u001b[1;32m    128\u001b[0m start_time \u001b[38;5;241m=\u001b[39m time\u001b[38;5;241m.\u001b[39mmonotonic()\n\u001b[1;32m    129\u001b[0m \u001b[38;5;28;01mtry\u001b[39;00m:\n\u001b[0;32m--> 130\u001b[0m     sent \u001b[38;5;241m=\u001b[39m \u001b[38;5;28mself\u001b[39m\u001b[38;5;241m.\u001b[39m_sock\u001b[38;5;241m.\u001b[39msend(data)\n\u001b[1;32m    131\u001b[0m     \u001b[38;5;66;03m# sent equal to 0 indicates a closed socket\u001b[39;00m\n\u001b[1;32m    132\u001b[0m     \u001b[38;5;28;01mif\u001b[39;00m sent \u001b[38;5;241m==\u001b[39m \u001b[38;5;241m0\u001b[39m:\n",
      "\u001b[0;31mBrokenPipeError\u001b[0m: [Errno 32] Broken pipe"
     ]
    }
   ],
   "source": [
    "trainer.train()"
   ]
  },
  {
   "cell_type": "code",
   "execution_count": null,
   "metadata": {},
   "outputs": [],
   "source": []
  },
  {
   "cell_type": "code",
   "execution_count": null,
   "metadata": {},
   "outputs": [],
   "source": []
  }
 ],
 "metadata": {
  "kernelspec": {
   "display_name": "Python 3 (ipykernel)",
   "language": "python",
   "name": "python3"
  },
  "language_info": {
   "codemirror_mode": {
    "name": "ipython",
    "version": 3
   },
   "file_extension": ".py",
   "mimetype": "text/x-python",
   "name": "python",
   "nbconvert_exporter": "python",
   "pygments_lexer": "ipython3",
   "version": "3.11.6"
  }
 },
 "nbformat": 4,
 "nbformat_minor": 4
}
